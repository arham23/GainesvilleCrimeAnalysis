{
  "nbformat": 4,
  "nbformat_minor": 0,
  "metadata": {
    "colab": {
      "name": "GainesvilleCrimeAnalysis.ipynb",
      "provenance": [],
      "collapsed_sections": []
    },
    "kernelspec": {
      "name": "python3",
      "display_name": "Python 3"
    }
  },
  "cells": [
    {
      "cell_type": "code",
      "metadata": {
        "id": "6k0DFEjcQo7d",
        "colab_type": "code",
        "outputId": "e22ddbd1-033a-42f5-f921-034bdd9ff985",
        "colab": {
          "base_uri": "https://localhost:8080/",
          "height": 34
        }
      },
      "source": [
        "#Mount Drive\n",
        "from google.colab import drive\n",
        "drive.mount('/content/gdrive', force_remount=True)"
      ],
      "execution_count": 17,
      "outputs": [
        {
          "output_type": "stream",
          "text": [
            "Mounted at /content/gdrive\n"
          ],
          "name": "stdout"
        }
      ]
    },
    {
      "cell_type": "code",
      "metadata": {
        "id": "luvlaTS2JSwl",
        "colab_type": "code",
        "colab": {}
      },
      "source": [
        "!pip install geopandas"
      ],
      "execution_count": 0,
      "outputs": []
    },
    {
      "cell_type": "code",
      "metadata": {
        "id": "_b_MAvNhR3Rm",
        "colab_type": "code",
        "colab": {}
      },
      "source": [
        "#check that drive is mounted properly\n",
        "!ls /content/gdrive/'My Drive' | grep 'data'"
      ],
      "execution_count": 0,
      "outputs": []
    },
    {
      "cell_type": "code",
      "metadata": {
        "id": "OWPdA2N8a0JF",
        "colab_type": "code",
        "outputId": "9a23f6e2-c6c5-4d5b-ec12-0615e89b5381",
        "colab": {
          "base_uri": "https://localhost:8080/",
          "height": 501
        }
      },
      "source": [
        "import pandas as pd\n",
        "\n",
        "crimeData = pd.read_csv('/content/gdrive/My Drive/Crime_Incidents.xls')\n",
        "crimeData = crimeData.drop(columns=[':@computed_region_9cfm_spy5', ':@computed_region_43jd_v64e', ':@computed_region_ndi2_bfht'])\n",
        "crimeData.head()"
      ],
      "execution_count": 20,
      "outputs": [
        {
          "output_type": "execute_result",
          "data": {
            "text/html": [
              "<div>\n",
              "<style scoped>\n",
              "    .dataframe tbody tr th:only-of-type {\n",
              "        vertical-align: middle;\n",
              "    }\n",
              "\n",
              "    .dataframe tbody tr th {\n",
              "        vertical-align: top;\n",
              "    }\n",
              "\n",
              "    .dataframe thead th {\n",
              "        text-align: right;\n",
              "    }\n",
              "</style>\n",
              "<table border=\"1\" class=\"dataframe\">\n",
              "  <thead>\n",
              "    <tr style=\"text-align: right;\">\n",
              "      <th></th>\n",
              "      <th>ID</th>\n",
              "      <th>Incident Type</th>\n",
              "      <th>Report Date</th>\n",
              "      <th>Offense Date</th>\n",
              "      <th>Report Hour of Day</th>\n",
              "      <th>Report Day of Week</th>\n",
              "      <th>Offense Hour of Day</th>\n",
              "      <th>Offense Day of Week</th>\n",
              "      <th>City</th>\n",
              "      <th>State</th>\n",
              "      <th>Address</th>\n",
              "      <th>Latitude</th>\n",
              "      <th>Zip Code Boundaries</th>\n",
              "      <th>Longitude</th>\n",
              "      <th>Location</th>\n",
              "      <th>2010 Census Tracts</th>\n",
              "      <th>Commission Districts</th>\n",
              "      <th>Gainesville Police Districts</th>\n",
              "      <th>Florida Census Zip Codes</th>\n",
              "    </tr>\n",
              "  </thead>\n",
              "  <tbody>\n",
              "    <tr>\n",
              "      <th>0</th>\n",
              "      <td>212001684</td>\n",
              "      <td>Information</td>\n",
              "      <td>01/24/2012 11:44:00 AM</td>\n",
              "      <td>01/24/2012 12:00:00 AM</td>\n",
              "      <td>11</td>\n",
              "      <td>Tuesday</td>\n",
              "      <td>0</td>\n",
              "      <td>Tuesday</td>\n",
              "      <td>GAINESVILLE</td>\n",
              "      <td>FL</td>\n",
              "      <td>1900 BLK NW 31ST AVE</td>\n",
              "      <td>29.681275</td>\n",
              "      <td>5.0</td>\n",
              "      <td>-82.347399</td>\n",
              "      <td>POINT (-82.347399 29.681275000000003)</td>\n",
              "      <td>9.0</td>\n",
              "      <td>2.0</td>\n",
              "      <td>4.0</td>\n",
              "      <td>770.0</td>\n",
              "    </tr>\n",
              "    <tr>\n",
              "      <th>1</th>\n",
              "      <td>215003198</td>\n",
              "      <td>Assist Other Agency</td>\n",
              "      <td>02/16/2015 03:10:00 PM</td>\n",
              "      <td>02/15/2015 03:13:00 PM</td>\n",
              "      <td>15</td>\n",
              "      <td>Monday</td>\n",
              "      <td>15</td>\n",
              "      <td>Sunday</td>\n",
              "      <td>GAINESVILLE</td>\n",
              "      <td>FL</td>\n",
              "      <td>3000 BLK SW 100TH ST</td>\n",
              "      <td>29.626492</td>\n",
              "      <td>2.0</td>\n",
              "      <td>-82.448436</td>\n",
              "      <td>POINT (-82.448436 29.626492)</td>\n",
              "      <td>NaN</td>\n",
              "      <td>NaN</td>\n",
              "      <td>10.0</td>\n",
              "      <td>767.0</td>\n",
              "    </tr>\n",
              "    <tr>\n",
              "      <th>2</th>\n",
              "      <td>216000029</td>\n",
              "      <td>Fire</td>\n",
              "      <td>01/01/2016 01:49:15 PM</td>\n",
              "      <td>01/01/2016 12:00:00 PM</td>\n",
              "      <td>13</td>\n",
              "      <td>Friday</td>\n",
              "      <td>12</td>\n",
              "      <td>Friday</td>\n",
              "      <td>GAINESVILLE</td>\n",
              "      <td>FL</td>\n",
              "      <td>600 BLK SW 4TH ST</td>\n",
              "      <td>29.646729</td>\n",
              "      <td>1.0</td>\n",
              "      <td>-82.328899</td>\n",
              "      <td>POINT (-82.328899 29.646729)</td>\n",
              "      <td>1.0</td>\n",
              "      <td>1.0</td>\n",
              "      <td>1.0</td>\n",
              "      <td>772.0</td>\n",
              "    </tr>\n",
              "    <tr>\n",
              "      <th>3</th>\n",
              "      <td>217015619</td>\n",
              "      <td>Trespass Warning</td>\n",
              "      <td>08/24/2017 08:52:00 AM</td>\n",
              "      <td>08/24/2017 08:51:00 AM</td>\n",
              "      <td>8</td>\n",
              "      <td>Thursday</td>\n",
              "      <td>8</td>\n",
              "      <td>Thursday</td>\n",
              "      <td>GAINESVILLE</td>\n",
              "      <td>FL</td>\n",
              "      <td>2000 BLK SW 13TH ST</td>\n",
              "      <td>29.633356</td>\n",
              "      <td>2.0</td>\n",
              "      <td>-82.339436</td>\n",
              "      <td>POINT (-82.339436 29.633356000000003)</td>\n",
              "      <td>6.0</td>\n",
              "      <td>4.0</td>\n",
              "      <td>3.0</td>\n",
              "      <td>767.0</td>\n",
              "    </tr>\n",
              "    <tr>\n",
              "      <th>4</th>\n",
              "      <td>217020565</td>\n",
              "      <td>Disturbance Civil</td>\n",
              "      <td>11/03/2017 05:32:00 PM</td>\n",
              "      <td>11/03/2017 05:30:00 PM</td>\n",
              "      <td>17</td>\n",
              "      <td>Friday</td>\n",
              "      <td>17</td>\n",
              "      <td>Friday</td>\n",
              "      <td>GAINESVILLE</td>\n",
              "      <td>FL</td>\n",
              "      <td>900 BLK NW 13TH ST</td>\n",
              "      <td>29.660298</td>\n",
              "      <td>5.0</td>\n",
              "      <td>-82.339173</td>\n",
              "      <td>POINT (-82.339173 29.660298)</td>\n",
              "      <td>2.0</td>\n",
              "      <td>4.0</td>\n",
              "      <td>4.0</td>\n",
              "      <td>772.0</td>\n",
              "    </tr>\n",
              "  </tbody>\n",
              "</table>\n",
              "</div>"
            ],
            "text/plain": [
              "          ID  ... Florida Census Zip Codes\n",
              "0  212001684  ...                    770.0\n",
              "1  215003198  ...                    767.0\n",
              "2  216000029  ...                    772.0\n",
              "3  217015619  ...                    767.0\n",
              "4  217020565  ...                    772.0\n",
              "\n",
              "[5 rows x 19 columns]"
            ]
          },
          "metadata": {
            "tags": []
          },
          "execution_count": 20
        }
      ]
    },
    {
      "cell_type": "markdown",
      "metadata": {
        "id": "Znf8s-v0s523",
        "colab_type": "text"
      },
      "source": [
        "# Visualizations:"
      ]
    },
    {
      "cell_type": "code",
      "metadata": {
        "id": "kyXzKq0_htcp",
        "colab_type": "code",
        "outputId": "11f56583-4dcc-4cce-8a6c-587c35643964",
        "colab": {
          "base_uri": "https://localhost:8080/",
          "height": 671
        }
      },
      "source": [
        "import seaborn as sns\n",
        "import matplotlib.pyplot as plt\n",
        "#num incidents per hour\n",
        "numIncidentsPerHour = crimeData.groupby('Offense Hour of Day', as_index=False).count()\n",
        "plt.figure(figsize=(20,10))\n",
        "sns.barplot(x=numIncidentsPerHour['Offense Hour of Day'], y=numIncidentsPerHour['ID']).set(xlabel='Hour of Day', ylabel='Incident Count', title='Gainesville Incident Count by Hour of Day')"
      ],
      "execution_count": 21,
      "outputs": [
        {
          "output_type": "execute_result",
          "data": {
            "text/plain": [
              "[Text(0, 0.5, 'Incident Count'),\n",
              " Text(0.5, 0, 'Hour of Day'),\n",
              " Text(0.5, 1.0, 'Gainesville Incident Count by Hour of Day')]"
            ]
          },
          "metadata": {
            "tags": []
          },
          "execution_count": 21
        },
        {
          "output_type": "display_data",
          "data": {
            "image/png": "[encoded data removed]",
            "text/plain": [
              "<Figure size 1440x720 with 1 Axes>"
            ]
          },
          "metadata": {
            "tags": []
          }
        }
      ]
    },
    {
      "cell_type": "code",
      "metadata": {
        "id": "fmnlf6jMtDHq",
        "colab_type": "code",
        "outputId": "2e683efc-4915-4a57-a597-0a58c2c280db",
        "colab": {
          "base_uri": "https://localhost:8080/",
          "height": 654
        }
      },
      "source": [
        "#Incidents by time interval of 8 hrs\n",
        "def discTime(hr):\n",
        "  if hr >= 0 and hr <= 7:\n",
        "    return '0-7'\n",
        "  if hr >= 8 and hr <= 15:\n",
        "    return '8-15'\n",
        "  if hr >= 16 and hr <= 23:\n",
        "    return '16-23'\n",
        "\n",
        "crimeData['Time Interval'] = crimeData.apply(lambda row: discTime(row['Offense Hour of Day']), axis=1)\n",
        "\n",
        "incPerPeriod = crimeData.groupby('Time Interval', as_index=False).count()\n",
        "plt.figure(figsize=(20,10))\n",
        "sns.barplot(x=incPerPeriod['Time Interval'], y=incPerPeriod['ID']).set(ylabel='Incident Count', title='Gainesville Incident Count by Time Interval')"
      ],
      "execution_count": 22,
      "outputs": [
        {
          "output_type": "execute_result",
          "data": {
            "text/plain": [
              "[Text(0, 0.5, 'Incident Count'),\n",
              " Text(0.5, 1.0, 'Gainesville Incident Count by Time Interval')]"
            ]
          },
          "metadata": {
            "tags": []
          },
          "execution_count": 22
        },
        {
          "output_type": "display_data",
          "data": {
            "image/png": "[encoded data removed]",
            "text/plain": [
              "<Figure size 1440x720 with 1 Axes>"
            ]
          },
          "metadata": {
            "tags": []
          }
        }
      ]
    },
    {
      "cell_type": "code",
      "metadata": {
        "id": "uM93xFVk1E5d",
        "colab_type": "code",
        "outputId": "9eb68892-e634-41fe-a897-71ae0ea5e3ca",
        "colab": {
          "base_uri": "https://localhost:8080/",
          "height": 671
        }
      },
      "source": [
        "#Incident count by weekday\n",
        "incPerDay = crimeData.groupby('Offense Day of Week', as_index=True).count().reindex(['Monday', 'Tuesday', 'Wednesday', 'Thursday', 'Friday', 'Saturday', 'Sunday'])\n",
        "incPerDay['index'] = incPerDay.index\n",
        "plt.figure(figsize=(20,10))\n",
        "sns.barplot(x=incPerDay['index'], y=incPerDay['ID']).set(xlabel='Weekday', ylabel='Incident Count', title='Gainesville Incident Count by Weekday')"
      ],
      "execution_count": 23,
      "outputs": [
        {
          "output_type": "execute_result",
          "data": {
            "text/plain": [
              "[Text(0, 0.5, 'Incident Count'),\n",
              " Text(0.5, 0, 'Weekday'),\n",
              " Text(0.5, 1.0, 'Gainesville Incident Count by Weekday')]"
            ]
          },
          "metadata": {
            "tags": []
          },
          "execution_count": 23
        },
        {
          "output_type": "display_data",
          "data": {
            "image/png": "[encoded data removed]",
            "text/plain": [
              "<Figure size 1440x720 with 1 Axes>"
            ]
          },
          "metadata": {
            "tags": []
          }
        }
      ]
    },
    {
      "cell_type": "code",
      "metadata": {
        "id": "iHrpRX374LnH",
        "colab_type": "code",
        "outputId": "a7c797ef-27d3-4642-ee9b-49236ff148f8",
        "colab": {
          "base_uri": "https://localhost:8080/",
          "height": 691
        }
      },
      "source": [
        "def f(x):\n",
        "  if(x == 'animal' or x=='false report' or x=='computer' or x =='arson' or x=='bomb' or x =='sexual' or x=='kidnapping'):\n",
        "    return 'other'\n",
        "  return x\n",
        "\n",
        "#Incidents per category\n",
        "cat = pd.read_csv('/content/gdrive/My Drive/data - data.csv')\n",
        "incPerCat = cat.groupby('Crime', as_index=False)['Crime'].agg(['count'])\n",
        "incPerCat['cat'] = incPerCat.index\n",
        "incPerCat = incPerCat[incPerCat['count'] >= 25]\n",
        "incPerCat = incPerCat.sort_values(by=['count'], ascending=False)\n",
        "plt.figure(figsize=(70,10))\n",
        "sns.barplot(x=incPerCat['cat'], y=incPerCat['count']).set(xlabel='Incident Category', ylabel='Incident Count', title='Gainesville Incident Count per Incident Type')"
      ],
      "execution_count": 24,
      "outputs": [
        {
          "output_type": "execute_result",
          "data": {
            "text/plain": [
              "[Text(0, 0.5, 'Incident Count'),\n",
              " Text(0.5, 0, 'Incident Category'),\n",
              " Text(0.5, 1.0, 'Gainesville Incident Count per Incident Type')]"
            ]
          },
          "metadata": {
            "tags": []
          },
          "execution_count": 24
        },
        {
          "output_type": "display_data",
          "data": {
            "image/png": "[encoded data removed]",
            "text/plain": [
              "<Figure size 5040x720 with 1 Axes>"
            ]
          },
          "metadata": {
            "tags": []
          }
        }
      ]
    },
    {
      "cell_type": "code",
      "metadata": {
        "id": "3yUje14v-EOb",
        "colab_type": "code",
        "outputId": "2912a360-e4a7-4656-eca9-243c5e808e4a",
        "colab": {
          "base_uri": "https://localhost:8080/",
          "height": 671
        }
      },
      "source": [
        "#Incident count by year\n",
        "incPerYear = crimeData\n",
        "incPerYear['Year'] = incPerYear.apply(lambda row: pd.to_datetime(row['Offense Date']).year, axis=1)\n",
        "incPerYear = incPerYear.groupby('Year', as_index=False).count()\n",
        "incPerYear = incPerYear[incPerYear['Year'] > 2008]\n",
        "plt.figure(figsize=(20,10))\n",
        "sns.barplot(x=incPerYear['Year'], y=incPerYear['ID']).set(xlabel='Year', ylabel='Incident Count', title='Gainesville Incident Count by Year')"
      ],
      "execution_count": 25,
      "outputs": [
        {
          "output_type": "execute_result",
          "data": {
            "text/plain": [
              "[Text(0, 0.5, 'Incident Count'),\n",
              " Text(0.5, 0, 'Year'),\n",
              " Text(0.5, 1.0, 'Gainesville Incident Count by Year')]"
            ]
          },
          "metadata": {
            "tags": []
          },
          "execution_count": 25
        },
        {
          "output_type": "display_data",
          "data": {
            "image/png": "[encoded data removed]",
            "text/plain": [
              "<Figure size 1440x720 with 1 Axes>"
            ]
          },
          "metadata": {
            "tags": []
          }
        }
      ]
    },
    {
      "cell_type": "code",
      "metadata": {
        "id": "_w6NkSM4CFh2",
        "colab_type": "code",
        "outputId": "0ccee22b-c0a5-4eeb-f171-9f355dc506c7",
        "colab": {
          "base_uri": "https://localhost:8080/",
          "height": 671
        }
      },
      "source": [
        "#Incident count by district\n",
        "incPerDist = crimeData.groupby('Gainesville Police Districts', as_index=False).count()\n",
        "\n",
        "plt.figure(figsize=(20,10))\n",
        "sns.barplot(x=incPerDist['Gainesville Police Districts'], y=incPerDist['ID']).set(xlabel='Police District', ylabel='Incident Count', title='Gainesville Incident Count by Police District')"
      ],
      "execution_count": 26,
      "outputs": [
        {
          "output_type": "execute_result",
          "data": {
            "text/plain": [
              "[Text(0, 0.5, 'Incident Count'),\n",
              " Text(0.5, 0, 'Police District'),\n",
              " Text(0.5, 1.0, 'Gainesville Incident Count by Police District')]"
            ]
          },
          "metadata": {
            "tags": []
          },
          "execution_count": 26
        },
        {
          "output_type": "display_data",
          "data": {
            "image/png": "[encoded data removed]",
            "text/plain": [
              "<Figure size 1440x720 with 1 Axes>"
            ]
          },
          "metadata": {
            "tags": []
          }
        }
      ]
    },
    {
      "cell_type": "markdown",
      "metadata": {
        "id": "zXABN8lWtft8",
        "colab_type": "text"
      },
      "source": [
        "# Classification:"
      ]
    },
    {
      "cell_type": "code",
      "metadata": {
        "id": "f5c-bXTFDK7X",
        "colab_type": "code",
        "colab": {}
      },
      "source": [
        "#Hourly count by Indcident Type\n",
        "#chart = crimeData.groupby([''])"
      ],
      "execution_count": 0,
      "outputs": []
    },
    {
      "cell_type": "code",
      "metadata": {
        "id": "tqPiOYR4-Xzy",
        "colab_type": "code",
        "colab": {}
      },
      "source": [
        "!pip install eli5"
      ],
      "execution_count": 0,
      "outputs": []
    },
    {
      "cell_type": "code",
      "metadata": {
        "id": "J3bFGjaW-fgU",
        "colab_type": "code",
        "colab": {}
      },
      "source": [
        "!pip install pdpbox"
      ],
      "execution_count": 0,
      "outputs": []
    },
    {
      "cell_type": "code",
      "metadata": {
        "id": "L-qXJ_Y3-rcs",
        "colab_type": "code",
        "colab": {}
      },
      "source": [
        "!pip install shap"
      ],
      "execution_count": 0,
      "outputs": []
    },
    {
      "cell_type": "code",
      "metadata": {
        "id": "yMosO-LC0AkB",
        "colab_type": "code",
        "colab": {}
      },
      "source": [
        "import pandas as pd\n",
        "from shapely.geometry import  Point\n",
        "import geopandas as gpd\n",
        "import matplotlib.pyplot as plt\n",
        "import numpy as np\n",
        "from sklearn.impute import SimpleImputer\n",
        "from sklearn.preprocessing import LabelEncoder\n",
        "from sklearn.model_selection import train_test_split\n",
        "import seaborn as sns\n",
        "from matplotlib import cm\n",
        "import urllib.request\n",
        "import shutil\n",
        "import zipfile\n",
        "import os\n",
        "import re\n",
        "#import geoplot as gplt\n",
        "import lightgbm as lgb\n",
        "import eli5\n",
        "from eli5.sklearn import PermutationImportance\n",
        "from lightgbm import LGBMClassifier\n",
        "from matplotlib import pyplot as plt\n",
        "from pdpbox import pdp, get_dataset, info_plots\n",
        "import shap"
      ],
      "execution_count": 0,
      "outputs": []
    },
    {
      "cell_type": "code",
      "metadata": {
        "id": "QCSepq_41LUj",
        "colab_type": "code",
        "colab": {}
      },
      "source": [
        "! SHAPE_RESTORE_SHX=YES fio info '/content/gdrive/My Drive/cgbound.shp'"
      ],
      "execution_count": 0,
      "outputs": []
    },
    {
      "cell_type": "code",
      "metadata": {
        "id": "Q5CyXpEk1QrV",
        "colab_type": "code",
        "colab": {}
      },
      "source": [
        "gainesville = gpd.read_file('/content/gdrive/My Drive/cgbound.shp')\n",
        "gainesville.crs={'init': 'epsg:4326'}\n",
        "gville = gainesville.unary_union\n",
        "gville"
      ],
      "execution_count": 0,
      "outputs": []
    },
    {
      "cell_type": "code",
      "metadata": {
        "id": "-_8LQ2DL_Fz3",
        "colab_type": "code",
        "outputId": "4b183d85-eae1-4a38-f68b-507fb438d00d",
        "colab": {
          "base_uri": "https://localhost:8080/",
          "height": 402
        }
      },
      "source": [
        "import numpy as np\n",
        "import pandas as pd\n",
        "from sklearn import datasets, linear_model\n",
        "from sklearn.model_selection import train_test_split\n",
        "from matplotlib import pyplot as plt\n",
        "from sklearn import preprocessing\n",
        "\n",
        "crimeData = pd.read_csv('/content/gdrive/My Drive/data - data.csv')\n",
        "\n",
        "def discTime(hr):\n",
        "  if hr == '0-7':\n",
        "    return 1\n",
        "  #if hr == '8 - 15':\n",
        "  if hr == '16-23':\n",
        "    return 3\n",
        "  else:\n",
        "   return 2\n",
        "\n",
        "crimeData['Time'] = crimeData.apply(lambda row: discTime(row['Time']), axis=1)\n",
        "crimeData"
      ],
      "execution_count": 35,
      "outputs": [
        {
          "output_type": "execute_result",
          "data": {
            "text/html": [
              "<div>\n",
              "<style scoped>\n",
              "    .dataframe tbody tr th:only-of-type {\n",
              "        vertical-align: middle;\n",
              "    }\n",
              "\n",
              "    .dataframe tbody tr th {\n",
              "        vertical-align: top;\n",
              "    }\n",
              "\n",
              "    .dataframe thead th {\n",
              "        text-align: right;\n",
              "    }\n",
              "</style>\n",
              "<table border=\"1\" class=\"dataframe\">\n",
              "  <thead>\n",
              "    <tr style=\"text-align: right;\">\n",
              "      <th></th>\n",
              "      <th>District</th>\n",
              "      <th>Time</th>\n",
              "      <th>Day</th>\n",
              "      <th>Crime</th>\n",
              "    </tr>\n",
              "  </thead>\n",
              "  <tbody>\n",
              "    <tr>\n",
              "      <th>0</th>\n",
              "      <td>3</td>\n",
              "      <td>2</td>\n",
              "      <td>Sunday</td>\n",
              "      <td>animal</td>\n",
              "    </tr>\n",
              "    <tr>\n",
              "      <th>1</th>\n",
              "      <td>1</td>\n",
              "      <td>2</td>\n",
              "      <td>Tuesday</td>\n",
              "      <td>animal</td>\n",
              "    </tr>\n",
              "    <tr>\n",
              "      <th>2</th>\n",
              "      <td>2</td>\n",
              "      <td>1</td>\n",
              "      <td>Monday</td>\n",
              "      <td>animal</td>\n",
              "    </tr>\n",
              "    <tr>\n",
              "      <th>3</th>\n",
              "      <td>1</td>\n",
              "      <td>2</td>\n",
              "      <td>Saturday</td>\n",
              "      <td>animal</td>\n",
              "    </tr>\n",
              "    <tr>\n",
              "      <th>4</th>\n",
              "      <td>3</td>\n",
              "      <td>3</td>\n",
              "      <td>Wednesday</td>\n",
              "      <td>animal</td>\n",
              "    </tr>\n",
              "    <tr>\n",
              "      <th>...</th>\n",
              "      <td>...</td>\n",
              "      <td>...</td>\n",
              "      <td>...</td>\n",
              "      <td>...</td>\n",
              "    </tr>\n",
              "    <tr>\n",
              "      <th>134624</th>\n",
              "      <td>2</td>\n",
              "      <td>2</td>\n",
              "      <td>Friday</td>\n",
              "      <td>weapon</td>\n",
              "    </tr>\n",
              "    <tr>\n",
              "      <th>134625</th>\n",
              "      <td>2</td>\n",
              "      <td>2</td>\n",
              "      <td>Wednesday</td>\n",
              "      <td>weapon</td>\n",
              "    </tr>\n",
              "    <tr>\n",
              "      <th>134626</th>\n",
              "      <td>12</td>\n",
              "      <td>1</td>\n",
              "      <td>Thursday</td>\n",
              "      <td>weapon</td>\n",
              "    </tr>\n",
              "    <tr>\n",
              "      <th>134627</th>\n",
              "      <td>7</td>\n",
              "      <td>2</td>\n",
              "      <td>Tuesday</td>\n",
              "      <td>weapon</td>\n",
              "    </tr>\n",
              "    <tr>\n",
              "      <th>134628</th>\n",
              "      <td>7</td>\n",
              "      <td>1</td>\n",
              "      <td>Thursday</td>\n",
              "      <td>weapon</td>\n",
              "    </tr>\n",
              "  </tbody>\n",
              "</table>\n",
              "<p>134629 rows × 4 columns</p>\n",
              "</div>"
            ],
            "text/plain": [
              "        District  Time        Day   Crime\n",
              "0              3     2     Sunday  animal\n",
              "1              1     2    Tuesday  animal\n",
              "2              2     1     Monday  animal\n",
              "3              1     2   Saturday  animal\n",
              "4              3     3  Wednesday  animal\n",
              "...          ...   ...        ...     ...\n",
              "134624         2     2     Friday  weapon\n",
              "134625         2     2  Wednesday  weapon\n",
              "134626        12     1   Thursday  weapon\n",
              "134627         7     2    Tuesday  weapon\n",
              "134628         7     1   Thursday  weapon\n",
              "\n",
              "[134629 rows x 4 columns]"
            ]
          },
          "metadata": {
            "tags": []
          },
          "execution_count": 35
        }
      ]
    },
    {
      "cell_type": "code",
      "metadata": {
        "id": "OSO7qcLn_ZJC",
        "colab_type": "code",
        "colab": {}
      },
      "source": [
        "le = preprocessing.LabelEncoder()\n",
        "crimeData['Crime'] = le.fit_transform(crimeData['Crime'].astype(str))\n",
        "crimeData['Crime'] = le.fit_transform(crimeData['Crime'])\n",
        "\n",
        "le2 = preprocessing.LabelEncoder()\n",
        "crimeData['Day'] = le.fit_transform(crimeData['Day'].astype(str))\n",
        "crimeData['Day'] = le.fit_transform(crimeData['Day'])"
      ],
      "execution_count": 0,
      "outputs": []
    },
    {
      "cell_type": "code",
      "metadata": {
        "id": "CQfdVQQl4974",
        "colab_type": "code",
        "outputId": "e9146931-c427-4900-ed16-901485f9c4e2",
        "colab": {
          "base_uri": "https://localhost:8080/",
          "height": 50
        }
      },
      "source": [
        "y = crimeData['Crime']\n",
        "crimeData = crimeData.drop(columns= 'Crime')\n",
        "X_train, X_test, y_train, y_test = train_test_split(crimeData, y, test_size=0.2)\n",
        "print (X_train.shape, y_train.shape)\n",
        "print (X_test.shape, y_test.shape)"
      ],
      "execution_count": 37,
      "outputs": [
        {
          "output_type": "stream",
          "text": [
            "(107703, 3) (107703,)\n",
            "(26926, 3) (26926,)\n"
          ],
          "name": "stdout"
        }
      ]
    },
    {
      "cell_type": "code",
      "metadata": {
        "id": "HxAK9TEa5mmo",
        "colab_type": "code",
        "outputId": "f58e0a77-5584-43ad-a7a3-03bdb9cf32d1",
        "colab": {
          "base_uri": "https://localhost:8080/",
          "height": 118
        }
      },
      "source": [
        "clf = linear_model.SGDClassifier()\n",
        "clf.fit(X_train, y_train)"
      ],
      "execution_count": 38,
      "outputs": [
        {
          "output_type": "execute_result",
          "data": {
            "text/plain": [
              "SGDClassifier(alpha=0.0001, average=False, class_weight=None,\n",
              "              early_stopping=False, epsilon=0.1, eta0=0.0, fit_intercept=True,\n",
              "              l1_ratio=0.15, learning_rate='optimal', loss='hinge',\n",
              "              max_iter=1000, n_iter_no_change=5, n_jobs=None, penalty='l2',\n",
              "              power_t=0.5, random_state=None, shuffle=True, tol=0.001,\n",
              "              validation_fraction=0.1, verbose=0, warm_start=False)"
            ]
          },
          "metadata": {
            "tags": []
          },
          "execution_count": 38
        }
      ]
    }
  ]
}