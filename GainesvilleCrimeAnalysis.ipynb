{
  "nbformat": 4,
  "nbformat_minor": 0,
  "metadata": {
    "colab": {
      "name": "GainesvilleCrimeAnalysis.ipynb",
      "provenance": [],
      "collapsed_sections": []
    },
    "kernelspec": {
      "name": "python3",
      "display_name": "Python 3"
    }
  },
  "cells": [
    {
      "cell_type": "code",
      "metadata": {
        "id": "6k0DFEjcQo7d",
        "colab_type": "code",
        "outputId": "2bdac706-f340-47de-bf5b-7c0ffaf2f416",
        "colab": {
          "base_uri": "https://localhost:8080/",
          "height": 121
        }
      },
      "source": [
        "#Mount Drive\n",
        "from google.colab import drive\n",
        "drive.mount('/content/gdrive', force_remount=True)"
      ],
      "execution_count": 0,
      "outputs": [
        {
          "output_type": "stream",
          "text": [
            "Go to this URL in a browser: https://accounts.google.com/o/oauth2/auth?client_id=947318989803-6bn6qk8qdgf4n4g3pfee6491hc0brc4i.apps.googleusercontent.com&redirect_uri=urn%3aietf%3awg%3aoauth%3a2.0%3aoob&response_type=code&scope=email%20https%3a%2f%2fwww.googleapis.com%2fauth%2fdocs.test%20https%3a%2f%2fwww.googleapis.com%2fauth%2fdrive%20https%3a%2f%2fwww.googleapis.com%2fauth%2fdrive.photos.readonly%20https%3a%2f%2fwww.googleapis.com%2fauth%2fpeopleapi.readonly\n",
            "\n",
            "Enter your authorization code:\n",
            "··········\n",
            "Mounted at /content/gdrive\n"
          ],
          "name": "stdout"
        }
      ]
    },
    {
      "cell_type": "code",
      "metadata": {
        "id": "luvlaTS2JSwl",
        "colab_type": "code",
        "outputId": "1b6c5cb2-41bd-4c48-c7de-ca5afff23696",
        "colab": {
          "base_uri": "https://localhost:8080/",
          "height": 252
        }
      },
      "source": [
        "!pip install geopandas"
      ],
      "execution_count": 0,
      "outputs": [
        {
          "output_type": "stream",
          "text": [
            "Requirement already satisfied: geopandas in /usr/local/lib/python3.6/dist-packages (0.6.2)\n",
            "Requirement already satisfied: pyproj in /usr/local/lib/python3.6/dist-packages (from geopandas) (2.4.1)\n",
            "Requirement already satisfied: shapely in /usr/local/lib/python3.6/dist-packages (from geopandas) (1.6.4.post2)\n",
            "Requirement already satisfied: fiona in /usr/local/lib/python3.6/dist-packages (from geopandas) (1.8.11)\n",
            "Requirement already satisfied: pandas>=0.23.0 in /usr/local/lib/python3.6/dist-packages (from geopandas) (0.25.3)\n",
            "Requirement already satisfied: click<8,>=4.0 in /usr/local/lib/python3.6/dist-packages (from fiona->geopandas) (7.0)\n",
            "Requirement already satisfied: six>=1.7 in /usr/local/lib/python3.6/dist-packages (from fiona->geopandas) (1.12.0)\n",
            "Requirement already satisfied: munch in /usr/local/lib/python3.6/dist-packages (from fiona->geopandas) (2.5.0)\n",
            "Requirement already satisfied: cligj>=0.5 in /usr/local/lib/python3.6/dist-packages (from fiona->geopandas) (0.5.0)\n",
            "Requirement already satisfied: click-plugins>=1.0 in /usr/local/lib/python3.6/dist-packages (from fiona->geopandas) (1.1.1)\n",
            "Requirement already satisfied: attrs>=17 in /usr/local/lib/python3.6/dist-packages (from fiona->geopandas) (19.3.0)\n",
            "Requirement already satisfied: python-dateutil>=2.6.1 in /usr/local/lib/python3.6/dist-packages (from pandas>=0.23.0->geopandas) (2.6.1)\n",
            "Requirement already satisfied: pytz>=2017.2 in /usr/local/lib/python3.6/dist-packages (from pandas>=0.23.0->geopandas) (2018.9)\n",
            "Requirement already satisfied: numpy>=1.13.3 in /usr/local/lib/python3.6/dist-packages (from pandas>=0.23.0->geopandas) (1.17.4)\n"
          ],
          "name": "stdout"
        }
      ]
    },
    {
      "cell_type": "code",
      "metadata": {
        "id": "_b_MAvNhR3Rm",
        "colab_type": "code",
        "outputId": "52aaf035-61cc-41d8-d583-390f0996a1e2",
        "colab": {
          "base_uri": "https://localhost:8080/",
          "height": 84
        }
      },
      "source": [
        "#check that drive is mounted properly\n",
        "!ls /content/gdrive/'My Drive' | grep 'data'"
      ],
      "execution_count": 0,
      "outputs": [
        {
          "output_type": "stream",
          "text": [
            "data.csv\n",
            "data.gsheet\n",
            "gnvcrimedata (1).gsheet\n",
            "gnvcrimedata.gsheet\n"
          ],
          "name": "stdout"
        }
      ]
    },
    {
      "cell_type": "code",
      "metadata": {
        "id": "OWPdA2N8a0JF",
        "colab_type": "code",
        "outputId": "28128126-be27-4a3f-f97d-c9706daa0016",
        "colab": {
          "base_uri": "https://localhost:8080/",
          "height": 438
        }
      },
      "source": [
        "import pandas as pd\n",
        "\n",
        "crimeData = pd.read_csv('/content/gdrive/My Drive/Crime_Incidents.xls')\n",
        "crimeData = crimeData.drop(columns=[':@computed_region_9cfm_spy5', ':@computed_region_43jd_v64e', ':@computed_region_ndi2_bfht'])\n",
        "crimeData.head()"
      ],
      "execution_count": 0,
      "outputs": [
        {
          "output_type": "error",
          "ename": "FileNotFoundError",
          "evalue": "ignored",
          "traceback": [
            "\u001b[0;31m---------------------------------------------------------------------------\u001b[0m",
            "\u001b[0;31mFileNotFoundError\u001b[0m                         Traceback (most recent call last)",
            "\u001b[0;32m<ipython-input-2-6156deb18226>\u001b[0m in \u001b[0;36m<module>\u001b[0;34m()\u001b[0m\n\u001b[1;32m      1\u001b[0m \u001b[0;32mimport\u001b[0m \u001b[0mpandas\u001b[0m \u001b[0;32mas\u001b[0m \u001b[0mpd\u001b[0m\u001b[0;34m\u001b[0m\u001b[0;34m\u001b[0m\u001b[0m\n\u001b[1;32m      2\u001b[0m \u001b[0;34m\u001b[0m\u001b[0m\n\u001b[0;32m----> 3\u001b[0;31m \u001b[0mcrimeData\u001b[0m \u001b[0;34m=\u001b[0m \u001b[0mpd\u001b[0m\u001b[0;34m.\u001b[0m\u001b[0mread_csv\u001b[0m\u001b[0;34m(\u001b[0m\u001b[0;34m'/content/gdrive/My Drive/Crime_Incidents.xls'\u001b[0m\u001b[0;34m)\u001b[0m\u001b[0;34m\u001b[0m\u001b[0;34m\u001b[0m\u001b[0m\n\u001b[0m\u001b[1;32m      4\u001b[0m \u001b[0mcrimeData\u001b[0m \u001b[0;34m=\u001b[0m \u001b[0mcrimeData\u001b[0m\u001b[0;34m.\u001b[0m\u001b[0mdrop\u001b[0m\u001b[0;34m(\u001b[0m\u001b[0mcolumns\u001b[0m\u001b[0;34m=\u001b[0m\u001b[0;34m[\u001b[0m\u001b[0;34m':@computed_region_9cfm_spy5'\u001b[0m\u001b[0;34m,\u001b[0m \u001b[0;34m':@computed_region_43jd_v64e'\u001b[0m\u001b[0;34m,\u001b[0m \u001b[0;34m':@computed_region_ndi2_bfht'\u001b[0m\u001b[0;34m]\u001b[0m\u001b[0;34m)\u001b[0m\u001b[0;34m\u001b[0m\u001b[0;34m\u001b[0m\u001b[0m\n\u001b[1;32m      5\u001b[0m \u001b[0mcrimeData\u001b[0m\u001b[0;34m.\u001b[0m\u001b[0mhead\u001b[0m\u001b[0;34m(\u001b[0m\u001b[0;34m)\u001b[0m\u001b[0;34m\u001b[0m\u001b[0;34m\u001b[0m\u001b[0m\n",
            "\u001b[0;32m/usr/local/lib/python3.6/dist-packages/pandas/io/parsers.py\u001b[0m in \u001b[0;36mparser_f\u001b[0;34m(filepath_or_buffer, sep, delimiter, header, names, index_col, usecols, squeeze, prefix, mangle_dupe_cols, dtype, engine, converters, true_values, false_values, skipinitialspace, skiprows, skipfooter, nrows, na_values, keep_default_na, na_filter, verbose, skip_blank_lines, parse_dates, infer_datetime_format, keep_date_col, date_parser, dayfirst, cache_dates, iterator, chunksize, compression, thousands, decimal, lineterminator, quotechar, quoting, doublequote, escapechar, comment, encoding, dialect, error_bad_lines, warn_bad_lines, delim_whitespace, low_memory, memory_map, float_precision)\u001b[0m\n\u001b[1;32m    683\u001b[0m         )\n\u001b[1;32m    684\u001b[0m \u001b[0;34m\u001b[0m\u001b[0m\n\u001b[0;32m--> 685\u001b[0;31m         \u001b[0;32mreturn\u001b[0m \u001b[0m_read\u001b[0m\u001b[0;34m(\u001b[0m\u001b[0mfilepath_or_buffer\u001b[0m\u001b[0;34m,\u001b[0m \u001b[0mkwds\u001b[0m\u001b[0;34m)\u001b[0m\u001b[0;34m\u001b[0m\u001b[0;34m\u001b[0m\u001b[0m\n\u001b[0m\u001b[1;32m    686\u001b[0m \u001b[0;34m\u001b[0m\u001b[0m\n\u001b[1;32m    687\u001b[0m     \u001b[0mparser_f\u001b[0m\u001b[0;34m.\u001b[0m\u001b[0m__name__\u001b[0m \u001b[0;34m=\u001b[0m \u001b[0mname\u001b[0m\u001b[0;34m\u001b[0m\u001b[0;34m\u001b[0m\u001b[0m\n",
            "\u001b[0;32m/usr/local/lib/python3.6/dist-packages/pandas/io/parsers.py\u001b[0m in \u001b[0;36m_read\u001b[0;34m(filepath_or_buffer, kwds)\u001b[0m\n\u001b[1;32m    455\u001b[0m \u001b[0;34m\u001b[0m\u001b[0m\n\u001b[1;32m    456\u001b[0m     \u001b[0;31m# Create the parser.\u001b[0m\u001b[0;34m\u001b[0m\u001b[0;34m\u001b[0m\u001b[0;34m\u001b[0m\u001b[0m\n\u001b[0;32m--> 457\u001b[0;31m     \u001b[0mparser\u001b[0m \u001b[0;34m=\u001b[0m \u001b[0mTextFileReader\u001b[0m\u001b[0;34m(\u001b[0m\u001b[0mfp_or_buf\u001b[0m\u001b[0;34m,\u001b[0m \u001b[0;34m**\u001b[0m\u001b[0mkwds\u001b[0m\u001b[0;34m)\u001b[0m\u001b[0;34m\u001b[0m\u001b[0;34m\u001b[0m\u001b[0m\n\u001b[0m\u001b[1;32m    458\u001b[0m \u001b[0;34m\u001b[0m\u001b[0m\n\u001b[1;32m    459\u001b[0m     \u001b[0;32mif\u001b[0m \u001b[0mchunksize\u001b[0m \u001b[0;32mor\u001b[0m \u001b[0miterator\u001b[0m\u001b[0;34m:\u001b[0m\u001b[0;34m\u001b[0m\u001b[0;34m\u001b[0m\u001b[0m\n",
            "\u001b[0;32m/usr/local/lib/python3.6/dist-packages/pandas/io/parsers.py\u001b[0m in \u001b[0;36m__init__\u001b[0;34m(self, f, engine, **kwds)\u001b[0m\n\u001b[1;32m    893\u001b[0m             \u001b[0mself\u001b[0m\u001b[0;34m.\u001b[0m\u001b[0moptions\u001b[0m\u001b[0;34m[\u001b[0m\u001b[0;34m\"has_index_names\"\u001b[0m\u001b[0;34m]\u001b[0m \u001b[0;34m=\u001b[0m \u001b[0mkwds\u001b[0m\u001b[0;34m[\u001b[0m\u001b[0;34m\"has_index_names\"\u001b[0m\u001b[0;34m]\u001b[0m\u001b[0;34m\u001b[0m\u001b[0;34m\u001b[0m\u001b[0m\n\u001b[1;32m    894\u001b[0m \u001b[0;34m\u001b[0m\u001b[0m\n\u001b[0;32m--> 895\u001b[0;31m         \u001b[0mself\u001b[0m\u001b[0;34m.\u001b[0m\u001b[0m_make_engine\u001b[0m\u001b[0;34m(\u001b[0m\u001b[0mself\u001b[0m\u001b[0;34m.\u001b[0m\u001b[0mengine\u001b[0m\u001b[0;34m)\u001b[0m\u001b[0;34m\u001b[0m\u001b[0;34m\u001b[0m\u001b[0m\n\u001b[0m\u001b[1;32m    896\u001b[0m \u001b[0;34m\u001b[0m\u001b[0m\n\u001b[1;32m    897\u001b[0m     \u001b[0;32mdef\u001b[0m \u001b[0mclose\u001b[0m\u001b[0;34m(\u001b[0m\u001b[0mself\u001b[0m\u001b[0;34m)\u001b[0m\u001b[0;34m:\u001b[0m\u001b[0;34m\u001b[0m\u001b[0;34m\u001b[0m\u001b[0m\n",
            "\u001b[0;32m/usr/local/lib/python3.6/dist-packages/pandas/io/parsers.py\u001b[0m in \u001b[0;36m_make_engine\u001b[0;34m(self, engine)\u001b[0m\n\u001b[1;32m   1133\u001b[0m     \u001b[0;32mdef\u001b[0m \u001b[0m_make_engine\u001b[0m\u001b[0;34m(\u001b[0m\u001b[0mself\u001b[0m\u001b[0;34m,\u001b[0m \u001b[0mengine\u001b[0m\u001b[0;34m=\u001b[0m\u001b[0;34m\"c\"\u001b[0m\u001b[0;34m)\u001b[0m\u001b[0;34m:\u001b[0m\u001b[0;34m\u001b[0m\u001b[0;34m\u001b[0m\u001b[0m\n\u001b[1;32m   1134\u001b[0m         \u001b[0;32mif\u001b[0m \u001b[0mengine\u001b[0m \u001b[0;34m==\u001b[0m \u001b[0;34m\"c\"\u001b[0m\u001b[0;34m:\u001b[0m\u001b[0;34m\u001b[0m\u001b[0;34m\u001b[0m\u001b[0m\n\u001b[0;32m-> 1135\u001b[0;31m             \u001b[0mself\u001b[0m\u001b[0;34m.\u001b[0m\u001b[0m_engine\u001b[0m \u001b[0;34m=\u001b[0m \u001b[0mCParserWrapper\u001b[0m\u001b[0;34m(\u001b[0m\u001b[0mself\u001b[0m\u001b[0;34m.\u001b[0m\u001b[0mf\u001b[0m\u001b[0;34m,\u001b[0m \u001b[0;34m**\u001b[0m\u001b[0mself\u001b[0m\u001b[0;34m.\u001b[0m\u001b[0moptions\u001b[0m\u001b[0;34m)\u001b[0m\u001b[0;34m\u001b[0m\u001b[0;34m\u001b[0m\u001b[0m\n\u001b[0m\u001b[1;32m   1136\u001b[0m         \u001b[0;32melse\u001b[0m\u001b[0;34m:\u001b[0m\u001b[0;34m\u001b[0m\u001b[0;34m\u001b[0m\u001b[0m\n\u001b[1;32m   1137\u001b[0m             \u001b[0;32mif\u001b[0m \u001b[0mengine\u001b[0m \u001b[0;34m==\u001b[0m \u001b[0;34m\"python\"\u001b[0m\u001b[0;34m:\u001b[0m\u001b[0;34m\u001b[0m\u001b[0;34m\u001b[0m\u001b[0m\n",
            "\u001b[0;32m/usr/local/lib/python3.6/dist-packages/pandas/io/parsers.py\u001b[0m in \u001b[0;36m__init__\u001b[0;34m(self, src, **kwds)\u001b[0m\n\u001b[1;32m   1915\u001b[0m         \u001b[0mkwds\u001b[0m\u001b[0;34m[\u001b[0m\u001b[0;34m\"usecols\"\u001b[0m\u001b[0;34m]\u001b[0m \u001b[0;34m=\u001b[0m \u001b[0mself\u001b[0m\u001b[0;34m.\u001b[0m\u001b[0musecols\u001b[0m\u001b[0;34m\u001b[0m\u001b[0;34m\u001b[0m\u001b[0m\n\u001b[1;32m   1916\u001b[0m \u001b[0;34m\u001b[0m\u001b[0m\n\u001b[0;32m-> 1917\u001b[0;31m         \u001b[0mself\u001b[0m\u001b[0;34m.\u001b[0m\u001b[0m_reader\u001b[0m \u001b[0;34m=\u001b[0m \u001b[0mparsers\u001b[0m\u001b[0;34m.\u001b[0m\u001b[0mTextReader\u001b[0m\u001b[0;34m(\u001b[0m\u001b[0msrc\u001b[0m\u001b[0;34m,\u001b[0m \u001b[0;34m**\u001b[0m\u001b[0mkwds\u001b[0m\u001b[0;34m)\u001b[0m\u001b[0;34m\u001b[0m\u001b[0;34m\u001b[0m\u001b[0m\n\u001b[0m\u001b[1;32m   1918\u001b[0m         \u001b[0mself\u001b[0m\u001b[0;34m.\u001b[0m\u001b[0munnamed_cols\u001b[0m \u001b[0;34m=\u001b[0m \u001b[0mself\u001b[0m\u001b[0;34m.\u001b[0m\u001b[0m_reader\u001b[0m\u001b[0;34m.\u001b[0m\u001b[0munnamed_cols\u001b[0m\u001b[0;34m\u001b[0m\u001b[0;34m\u001b[0m\u001b[0m\n\u001b[1;32m   1919\u001b[0m \u001b[0;34m\u001b[0m\u001b[0m\n",
            "\u001b[0;32mpandas/_libs/parsers.pyx\u001b[0m in \u001b[0;36mpandas._libs.parsers.TextReader.__cinit__\u001b[0;34m()\u001b[0m\n",
            "\u001b[0;32mpandas/_libs/parsers.pyx\u001b[0m in \u001b[0;36mpandas._libs.parsers.TextReader._setup_parser_source\u001b[0;34m()\u001b[0m\n",
            "\u001b[0;31mFileNotFoundError\u001b[0m: [Errno 2] File b'/content/gdrive/My Drive/Crime_Incidents.xls' does not exist: b'/content/gdrive/My Drive/Crime_Incidents.xls'"
          ]
        }
      ]
    },
    {
      "cell_type": "code",
      "metadata": {
        "id": "3QQgNZXHgBdC",
        "colab_type": "code",
        "outputId": "87af03f8-4e62-4937-c6c0-ac9deb9e593c",
        "colab": {
          "base_uri": "https://localhost:8080/",
          "height": 808
        }
      },
      "source": [
        "ct = pd.read_csv('/content/gdrive/My Drive/Crime_Incidents - Crime_Incidents.csv', header=None)\n",
        "ct = ct.drop(columns=[3,4,5,6])\n",
        "ct = ct[ct[2] != 'DROP']\n",
        "ct"
      ],
      "execution_count": 0,
      "outputs": [
        {
          "output_type": "stream",
          "text": [
            "/usr/local/lib/python3.6/dist-packages/IPython/core/interactiveshell.py:2718: DtypeWarning: Columns (0,4,6,12,15,16,17,19,20,21) have mixed types. Specify dtype option on import or set low_memory=False.\n",
            "  interactivity=interactivity, compiler=compiler, result=result)\n"
          ],
          "name": "stderr"
        },
        {
          "output_type": "execute_result",
          "data": {
            "text/html": [
              "<div>\n",
              "<style scoped>\n",
              "    .dataframe tbody tr th:only-of-type {\n",
              "        vertical-align: middle;\n",
              "    }\n",
              "\n",
              "    .dataframe tbody tr th {\n",
              "        vertical-align: top;\n",
              "    }\n",
              "\n",
              "    .dataframe thead th {\n",
              "        text-align: right;\n",
              "    }\n",
              "</style>\n",
              "<table border=\"1\" class=\"dataframe\">\n",
              "  <thead>\n",
              "    <tr style=\"text-align: right;\">\n",
              "      <th></th>\n",
              "      <th>0</th>\n",
              "      <th>1</th>\n",
              "      <th>2</th>\n",
              "      <th>7</th>\n",
              "      <th>8</th>\n",
              "      <th>9</th>\n",
              "      <th>10</th>\n",
              "      <th>11</th>\n",
              "      <th>12</th>\n",
              "      <th>13</th>\n",
              "      <th>14</th>\n",
              "      <th>15</th>\n",
              "      <th>16</th>\n",
              "      <th>17</th>\n",
              "      <th>18</th>\n",
              "      <th>19</th>\n",
              "      <th>20</th>\n",
              "      <th>21</th>\n",
              "    </tr>\n",
              "  </thead>\n",
              "  <tbody>\n",
              "    <tr>\n",
              "      <th>0</th>\n",
              "      <td>ID</td>\n",
              "      <td>Incident Type</td>\n",
              "      <td>Report Date</td>\n",
              "      <td>Offense Day of Week</td>\n",
              "      <td>City</td>\n",
              "      <td>State</td>\n",
              "      <td>Address</td>\n",
              "      <td>Latitude</td>\n",
              "      <td>Zip Code Boundaries</td>\n",
              "      <td>Longitude</td>\n",
              "      <td>Location</td>\n",
              "      <td>2010 Census Tracts</td>\n",
              "      <td>Commission Districts</td>\n",
              "      <td>Gainesville Police Districts</td>\n",
              "      <td>Florida Census Zip Codes</td>\n",
              "      <td>:@computed_region_9cfm_spy5</td>\n",
              "      <td>:@computed_region_43jd_v64e</td>\n",
              "      <td>:@computed_region_ndi2_bfht</td>\n",
              "    </tr>\n",
              "    <tr>\n",
              "      <th>1</th>\n",
              "      <td>219015073</td>\n",
              "      <td>NaN</td>\n",
              "      <td>9/17/2019 9:02</td>\n",
              "      <td>Tuesday</td>\n",
              "      <td>GAINESVILLE</td>\n",
              "      <td>FL</td>\n",
              "      <td>500 BLK NW 8TH AVE</td>\n",
              "      <td>29.659.423</td>\n",
              "      <td>1</td>\n",
              "      <td>-82.329.994</td>\n",
              "      <td>POINT (-82.329994 29.659423)</td>\n",
              "      <td>1</td>\n",
              "      <td>1</td>\n",
              "      <td>1</td>\n",
              "      <td>772</td>\n",
              "      <td>2</td>\n",
              "      <td>14</td>\n",
              "      <td>1</td>\n",
              "    </tr>\n",
              "    <tr>\n",
              "      <th>2</th>\n",
              "      <td>219015126</td>\n",
              "      <td>property</td>\n",
              "      <td>9/17/2019 7:24</td>\n",
              "      <td>Wednesday</td>\n",
              "      <td>GAINESVILLE</td>\n",
              "      <td>FL</td>\n",
              "      <td>1000 BLK SE 12TH ST</td>\n",
              "      <td>29.643.188</td>\n",
              "      <td>9</td>\n",
              "      <td>-82.310.184</td>\n",
              "      <td>POINT (-82.310184 29.643188)</td>\n",
              "      <td>5</td>\n",
              "      <td>1</td>\n",
              "      <td>1</td>\n",
              "      <td>1,082</td>\n",
              "      <td>NaN</td>\n",
              "      <td>18</td>\n",
              "      <td>1</td>\n",
              "    </tr>\n",
              "    <tr>\n",
              "      <th>3</th>\n",
              "      <td>219015352</td>\n",
              "      <td>property</td>\n",
              "      <td>9/17/2019 12:05</td>\n",
              "      <td>Wednesday</td>\n",
              "      <td>GAINESVILLE</td>\n",
              "      <td>FL</td>\n",
              "      <td>4000 BLK NW 30TH PL</td>\n",
              "      <td>29.680.912</td>\n",
              "      <td>6</td>\n",
              "      <td>-82.384.569</td>\n",
              "      <td>POINT (-82.384569 29.680912)</td>\n",
              "      <td>8</td>\n",
              "      <td>3</td>\n",
              "      <td>5</td>\n",
              "      <td>769</td>\n",
              "      <td>NaN</td>\n",
              "      <td>6</td>\n",
              "      <td>5</td>\n",
              "    </tr>\n",
              "    <tr>\n",
              "      <th>4</th>\n",
              "      <td>219015384</td>\n",
              "      <td>theft grand</td>\n",
              "      <td>9/17/2019 7:47</td>\n",
              "      <td>Monday</td>\n",
              "      <td>GAINESVILLE</td>\n",
              "      <td>FL</td>\n",
              "      <td>4000 BLK SW 30TH PL</td>\n",
              "      <td>29.625.653</td>\n",
              "      <td>2</td>\n",
              "      <td>-82.383.886</td>\n",
              "      <td>POINT (-82.383886 29.625653)</td>\n",
              "      <td>32</td>\n",
              "      <td>3</td>\n",
              "      <td>12</td>\n",
              "      <td>767</td>\n",
              "      <td>NaN</td>\n",
              "      <td>7</td>\n",
              "      <td>12</td>\n",
              "    </tr>\n",
              "    <tr>\n",
              "      <th>...</th>\n",
              "      <td>...</td>\n",
              "      <td>...</td>\n",
              "      <td>...</td>\n",
              "      <td>...</td>\n",
              "      <td>...</td>\n",
              "      <td>...</td>\n",
              "      <td>...</td>\n",
              "      <td>...</td>\n",
              "      <td>...</td>\n",
              "      <td>...</td>\n",
              "      <td>...</td>\n",
              "      <td>...</td>\n",
              "      <td>...</td>\n",
              "      <td>...</td>\n",
              "      <td>...</td>\n",
              "      <td>...</td>\n",
              "      <td>...</td>\n",
              "      <td>...</td>\n",
              "    </tr>\n",
              "    <tr>\n",
              "      <th>150812</th>\n",
              "      <td>617003583</td>\n",
              "      <td>property</td>\n",
              "      <td>5/23/2017 0:00</td>\n",
              "      <td>Friday</td>\n",
              "      <td>GAINESVILLE</td>\n",
              "      <td>FL</td>\n",
              "      <td>2800 BLK SW 13TH ST</td>\n",
              "      <td>29.625.328</td>\n",
              "      <td>2</td>\n",
              "      <td>-8.233.943</td>\n",
              "      <td>POINT (-82.33943 29.625328)</td>\n",
              "      <td>15</td>\n",
              "      <td>4</td>\n",
              "      <td>3</td>\n",
              "      <td>767</td>\n",
              "      <td>NaN</td>\n",
              "      <td>16</td>\n",
              "      <td>3</td>\n",
              "    </tr>\n",
              "    <tr>\n",
              "      <th>150813</th>\n",
              "      <td>219003110</td>\n",
              "      <td>theft grand</td>\n",
              "      <td>2/22/2019 9:19</td>\n",
              "      <td>Thursday</td>\n",
              "      <td>GAINESVILLE</td>\n",
              "      <td>FL</td>\n",
              "      <td>1200 BLK W UNIVERSITY AVE</td>\n",
              "      <td>29.652.073</td>\n",
              "      <td>1</td>\n",
              "      <td>-823.371</td>\n",
              "      <td>POINT (-82.3371 29.652073)</td>\n",
              "      <td>1</td>\n",
              "      <td>1</td>\n",
              "      <td>1</td>\n",
              "      <td>772</td>\n",
              "      <td>2</td>\n",
              "      <td>14</td>\n",
              "      <td>1</td>\n",
              "    </tr>\n",
              "    <tr>\n",
              "      <th>150814</th>\n",
              "      <td>218015861</td>\n",
              "      <td>Suspicious Incident</td>\n",
              "      <td>8/29/2018 17:38</td>\n",
              "      <td>Wednesday</td>\n",
              "      <td>GAINESVILLE</td>\n",
              "      <td>FL</td>\n",
              "      <td>2500 BLK NE 11TH PL</td>\n",
              "      <td>29.663.146</td>\n",
              "      <td>9</td>\n",
              "      <td>-82.292.001</td>\n",
              "      <td>POINT (-82.292001 29.663146)</td>\n",
              "      <td>14</td>\n",
              "      <td>1</td>\n",
              "      <td>2</td>\n",
              "      <td>1,082</td>\n",
              "      <td>2</td>\n",
              "      <td>12</td>\n",
              "      <td>2</td>\n",
              "    </tr>\n",
              "    <tr>\n",
              "      <th>150815</th>\n",
              "      <td>219010828</td>\n",
              "      <td>property</td>\n",
              "      <td>7/2/2019 14:23</td>\n",
              "      <td>Monday</td>\n",
              "      <td>GAINESVILLE</td>\n",
              "      <td>FL</td>\n",
              "      <td>1500 BLK NW 25TH TER</td>\n",
              "      <td>29.665.788</td>\n",
              "      <td>5</td>\n",
              "      <td>-82.361.062</td>\n",
              "      <td>POINT (-82.361062 29.665788)</td>\n",
              "      <td>16</td>\n",
              "      <td>3</td>\n",
              "      <td>6</td>\n",
              "      <td>770</td>\n",
              "      <td>NaN</td>\n",
              "      <td>5</td>\n",
              "      <td>6</td>\n",
              "    </tr>\n",
              "    <tr>\n",
              "      <th>150816</th>\n",
              "      <td>218018713</td>\n",
              "      <td>Death related</td>\n",
              "      <td>10/10/2018 12:04</td>\n",
              "      <td>Wednesday</td>\n",
              "      <td>GAINESVILLE</td>\n",
              "      <td>FL</td>\n",
              "      <td>2200 BLK NW 36TH AVE</td>\n",
              "      <td>29.685.954</td>\n",
              "      <td>5</td>\n",
              "      <td>-82.353.334</td>\n",
              "      <td>POINT (-82.353334 29.685954)</td>\n",
              "      <td>18</td>\n",
              "      <td>2</td>\n",
              "      <td>7</td>\n",
              "      <td>770</td>\n",
              "      <td>NaN</td>\n",
              "      <td>3</td>\n",
              "      <td>7</td>\n",
              "    </tr>\n",
              "  </tbody>\n",
              "</table>\n",
              "<p>150817 rows × 18 columns</p>\n",
              "</div>"
            ],
            "text/plain": [
              "               0   ...                           21\n",
              "0              ID  ...  :@computed_region_ndi2_bfht\n",
              "1       219015073  ...                            1\n",
              "2       219015126  ...                            1\n",
              "3       219015352  ...                            5\n",
              "4       219015384  ...                           12\n",
              "...           ...  ...                          ...\n",
              "150812  617003583  ...                            3\n",
              "150813  219003110  ...                            1\n",
              "150814  218015861  ...                            2\n",
              "150815  219010828  ...                            6\n",
              "150816  218018713  ...                            7\n",
              "\n",
              "[150817 rows x 18 columns]"
            ]
          },
          "metadata": {
            "tags": []
          },
          "execution_count": 6
        }
      ]
    },
    {
      "cell_type": "markdown",
      "metadata": {
        "id": "Znf8s-v0s523",
        "colab_type": "text"
      },
      "source": [
        "# Visualizations:"
      ]
    },
    {
      "cell_type": "code",
      "metadata": {
        "id": "kyXzKq0_htcp",
        "colab_type": "code",
        "outputId": "3be19216-c186-4907-a22f-a15e23936bef",
        "colab": {
          "base_uri": "https://localhost:8080/",
          "height": 671
        }
      },
      "source": [
        "import seaborn as sns\n",
        "import matplotlib.pyplot as plt\n",
        "#num incidents per hour\n",
        "numIncidentsPerHour = crimeData.groupby('Offense Hour of Day', as_index=False).count()\n",
        "plt.figure(figsize=(20,10))\n",
        "sns.barplot(x=numIncidentsPerHour['Offense Hour of Day'], y=numIncidentsPerHour['ID']).set(xlabel='Hour of Day', ylabel='Incident Count', title='Gainesville Incident Count by Hour of Day')"
      ],
      "execution_count": 0,
      "outputs": [
        {
          "output_type": "execute_result",
          "data": {
            "text/plain": [
              "[Text(0, 0.5, 'Incident Count'),\n",
              " Text(0.5, 0, 'Hour of Day'),\n",
              " Text(0.5, 1.0, 'Gainesville Incident Count by Hour of Day')]"
            ]
          },
          "metadata": {
            "tags": []
          },
          "execution_count": 18
        },
        {
          "output_type": "display_data",
          "data": {
            "image/png": "[encoded data removed]",
            "text/plain": [
              "<Figure size 1440x720 with 1 Axes>"
            ]
          },
          "metadata": {
            "tags": []
          }
        }
      ]
    },
    {
      "cell_type": "code",
      "metadata": {
        "id": "fmnlf6jMtDHq",
        "colab_type": "code",
        "outputId": "c5c23ee7-1ba0-43d3-a414-dd654c0cfc49",
        "colab": {
          "base_uri": "https://localhost:8080/",
          "height": 654
        }
      },
      "source": [
        "#Incidents by time interval of 8 hrs\n",
        "def discTime(hr):\n",
        "  if hr >= 0 and hr <= 7:\n",
        "    return '0-7'\n",
        "  if hr >= 8 and hr <= 15:\n",
        "    return '8-15'\n",
        "  if hr >= 16 and hr <= 23:\n",
        "    return '16-23'\n",
        "\n",
        "crimeData['Time Interval'] = crimeData.apply(lambda row: discTime(row['Offense Hour of Day']), axis=1)\n",
        "\n",
        "incPerPeriod = crimeData.groupby('Time Interval', as_index=False).count()\n",
        "plt.figure(figsize=(20,10))\n",
        "sns.barplot(x=incPerPeriod['Time Interval'], y=incPerPeriod['ID']).set(ylabel='Incident Count', title='Gainesville Incident Count by Time Interval')"
      ],
      "execution_count": 0,
      "outputs": [
        {
          "output_type": "execute_result",
          "data": {
            "text/plain": [
              "[Text(0, 0.5, 'Incident Count'),\n",
              " Text(0.5, 1.0, 'Gainesville Incident Count by Time Interval')]"
            ]
          },
          "metadata": {
            "tags": []
          },
          "execution_count": 131
        },
        {
          "output_type": "display_data",
          "data": {
            "image/png": "[encoded data removed]",
            "text/plain": [
              "<Figure size 1440x720 with 1 Axes>"
            ]
          },
          "metadata": {
            "tags": []
          }
        }
      ]
    },
    {
      "cell_type": "code",
      "metadata": {
        "id": "uM93xFVk1E5d",
        "colab_type": "code",
        "outputId": "4cd2310b-424d-4339-ee25-31556943bff6",
        "colab": {
          "base_uri": "https://localhost:8080/",
          "height": 671
        }
      },
      "source": [
        "#Incident count by weekday\n",
        "incPerDay = crimeData.groupby('Offense Day of Week', as_index=True).count().reindex(['Monday', 'Tuesday', 'Wednesday', 'Thursday', 'Friday', 'Saturday', 'Sunday'])\n",
        "incPerDay['index'] = incPerDay.index\n",
        "plt.figure(figsize=(20,10))\n",
        "sns.barplot(x=incPerDay['index'], y=incPerDay['ID']).set(xlabel='Weekday', ylabel='Incident Count', title='Gainesville Incident Count by Weekday')"
      ],
      "execution_count": 0,
      "outputs": [
        {
          "output_type": "execute_result",
          "data": {
            "text/plain": [
              "[Text(0, 0.5, 'Incident Count'),\n",
              " Text(0.5, 0, 'Weekday'),\n",
              " Text(0.5, 1.0, 'Gainesville Incident Count by Weekday')]"
            ]
          },
          "metadata": {
            "tags": []
          },
          "execution_count": 132
        },
        {
          "output_type": "display_data",
          "data": {
            "image/png": "[encoded data removed]",
            "text/plain": [
              "<Figure size 1440x720 with 1 Axes>"
            ]
          },
          "metadata": {
            "tags": []
          }
        }
      ]
    },
    {
      "cell_type": "code",
      "metadata": {
        "id": "iHrpRX374LnH",
        "colab_type": "code",
        "outputId": "392837d6-688a-4348-b7ac-b1a0850bdee7",
        "colab": {
          "base_uri": "https://localhost:8080/",
          "height": 370
        }
      },
      "source": [
        "def f(x):\n",
        "  if(x == 'animal' or x=='false report' or x=='computer' or x =='arson' or x=='bomb' or x =='sexual' or x=='kidnapping'):\n",
        "    return 'other'\n",
        "  return x\n",
        "\n",
        "#Incidents per category\n",
        "cat = pd.read_csv('/content/gdrive/My Drive/data.csv')\n",
        "incPerCat = cat.groupby('Crime', as_index=False)['Crime'].agg(['count'])\n",
        "incPerCat['cat'] = incPerCat.index\n",
        "incPerCat = incPerCat[incPerCat['count'] >= 25]\n",
        "incPerCat = incPerCat.sort_values(by=['count'], ascending=False)\n",
        "plt.figure(figsize=(70,10))\n",
        "sns.barplot(x=incPerCat['cat'], y=incPerCat['count']).set(xlabel='Incident Category', ylabel='Incident Count', title='Gainesville Incident Count per Incident Type')"
      ],
      "execution_count": 0,
      "outputs": [
        {
          "output_type": "error",
          "ename": "ValueError",
          "evalue": "ignored",
          "traceback": [
            "\u001b[0;31m---------------------------------------------------------------------------\u001b[0m",
            "\u001b[0;31mValueError\u001b[0m                                Traceback (most recent call last)",
            "\u001b[0;32m<ipython-input-53-fb9b518b87f5>\u001b[0m in \u001b[0;36m<module>\u001b[0;34m()\u001b[0m\n\u001b[1;32m      6\u001b[0m \u001b[0;31m#Incidents per category\u001b[0m\u001b[0;34m\u001b[0m\u001b[0;34m\u001b[0m\u001b[0;34m\u001b[0m\u001b[0m\n\u001b[1;32m      7\u001b[0m \u001b[0mcat\u001b[0m \u001b[0;34m=\u001b[0m \u001b[0mpd\u001b[0m\u001b[0;34m.\u001b[0m\u001b[0mread_csv\u001b[0m\u001b[0;34m(\u001b[0m\u001b[0;34m'/content/gdrive/My Drive/data.csv'\u001b[0m\u001b[0;34m)\u001b[0m\u001b[0;34m\u001b[0m\u001b[0;34m\u001b[0m\u001b[0m\n\u001b[0;32m----> 8\u001b[0;31m \u001b[0mcat\u001b[0m\u001b[0;34m.\u001b[0m\u001b[0mloc\u001b[0m\u001b[0;34m[\u001b[0m\u001b[0mf\u001b[0m\u001b[0;34m(\u001b[0m\u001b[0mcat\u001b[0m\u001b[0;34m[\u001b[0m\u001b[0;34m'Crime'\u001b[0m\u001b[0;34m]\u001b[0m\u001b[0;34m)\u001b[0m\u001b[0;34m,\u001b[0m \u001b[0;34m'Crime'\u001b[0m\u001b[0;34m]\u001b[0m \u001b[0;34m=\u001b[0m \u001b[0;34m'other'\u001b[0m\u001b[0;34m\u001b[0m\u001b[0;34m\u001b[0m\u001b[0m\n\u001b[0m\u001b[1;32m      9\u001b[0m \u001b[0;34m\u001b[0m\u001b[0m\n\u001b[1;32m     10\u001b[0m \u001b[0;34m\u001b[0m\u001b[0m\n",
            "\u001b[0;32m<ipython-input-53-fb9b518b87f5>\u001b[0m in \u001b[0;36mf\u001b[0;34m(x)\u001b[0m\n\u001b[1;32m      1\u001b[0m \u001b[0;32mdef\u001b[0m \u001b[0mf\u001b[0m\u001b[0;34m(\u001b[0m\u001b[0mx\u001b[0m\u001b[0;34m)\u001b[0m\u001b[0;34m:\u001b[0m\u001b[0;34m\u001b[0m\u001b[0;34m\u001b[0m\u001b[0m\n\u001b[0;32m----> 2\u001b[0;31m   \u001b[0;32mif\u001b[0m\u001b[0;34m(\u001b[0m\u001b[0mx\u001b[0m \u001b[0;34m==\u001b[0m \u001b[0;34m'animal'\u001b[0m \u001b[0;32mor\u001b[0m \u001b[0mx\u001b[0m\u001b[0;34m==\u001b[0m\u001b[0;34m'false report'\u001b[0m \u001b[0;32mor\u001b[0m \u001b[0mx\u001b[0m\u001b[0;34m==\u001b[0m\u001b[0;34m'computer'\u001b[0m \u001b[0;32mor\u001b[0m \u001b[0mx\u001b[0m \u001b[0;34m==\u001b[0m\u001b[0;34m'arson'\u001b[0m \u001b[0;32mor\u001b[0m \u001b[0mx\u001b[0m\u001b[0;34m==\u001b[0m\u001b[0;34m'bomb'\u001b[0m \u001b[0;32mor\u001b[0m \u001b[0mx\u001b[0m \u001b[0;34m==\u001b[0m\u001b[0;34m'sexual'\u001b[0m \u001b[0;32mor\u001b[0m \u001b[0mx\u001b[0m\u001b[0;34m==\u001b[0m\u001b[0;34m'kidnapping'\u001b[0m\u001b[0;34m)\u001b[0m\u001b[0;34m:\u001b[0m\u001b[0;34m\u001b[0m\u001b[0;34m\u001b[0m\u001b[0m\n\u001b[0m\u001b[1;32m      3\u001b[0m     \u001b[0;32mreturn\u001b[0m \u001b[0;34m'other'\u001b[0m\u001b[0;34m\u001b[0m\u001b[0;34m\u001b[0m\u001b[0m\n\u001b[1;32m      4\u001b[0m   \u001b[0;32mreturn\u001b[0m \u001b[0mx\u001b[0m\u001b[0;34m\u001b[0m\u001b[0;34m\u001b[0m\u001b[0m\n\u001b[1;32m      5\u001b[0m \u001b[0;34m\u001b[0m\u001b[0m\n",
            "\u001b[0;32m/usr/local/lib/python3.6/dist-packages/pandas/core/generic.py\u001b[0m in \u001b[0;36m__nonzero__\u001b[0;34m(self)\u001b[0m\n\u001b[1;32m   1553\u001b[0m             \u001b[0;34m\"The truth value of a {0} is ambiguous. \"\u001b[0m\u001b[0;34m\u001b[0m\u001b[0;34m\u001b[0m\u001b[0m\n\u001b[1;32m   1554\u001b[0m             \"Use a.empty, a.bool(), a.item(), a.any() or a.all().\".format(\n\u001b[0;32m-> 1555\u001b[0;31m                 \u001b[0mself\u001b[0m\u001b[0;34m.\u001b[0m\u001b[0m__class__\u001b[0m\u001b[0;34m.\u001b[0m\u001b[0m__name__\u001b[0m\u001b[0;34m\u001b[0m\u001b[0;34m\u001b[0m\u001b[0m\n\u001b[0m\u001b[1;32m   1556\u001b[0m             )\n\u001b[1;32m   1557\u001b[0m         )\n",
            "\u001b[0;31mValueError\u001b[0m: The truth value of a Series is ambiguous. Use a.empty, a.bool(), a.item(), a.any() or a.all()."
          ]
        }
      ]
    },
    {
      "cell_type": "code",
      "metadata": {
        "id": "3yUje14v-EOb",
        "colab_type": "code",
        "outputId": "86f0c875-fecb-4aae-9939-08aeb887502d",
        "colab": {
          "base_uri": "https://localhost:8080/",
          "height": 671
        }
      },
      "source": [
        "#Incident count by year\n",
        "incPerYear = crimeData\n",
        "incPerYear['Year'] = incPerYear.apply(lambda row: pd.to_datetime(row['Offense Date']).year, axis=1)\n",
        "incPerYear = incPerYear.groupby('Year', as_index=False).count()\n",
        "incPerYear = incPerYear[incPerYear['Year'] > 2008]\n",
        "plt.figure(figsize=(20,10))\n",
        "sns.barplot(x=incPerYear['Year'], y=incPerYear['ID']).set(xlabel='Year', ylabel='Incident Count', title='Gainesville Incident Count by Year')"
      ],
      "execution_count": 0,
      "outputs": [
        {
          "output_type": "execute_result",
          "data": {
            "text/plain": [
              "[Text(0, 0.5, 'Incident Count'),\n",
              " Text(0.5, 0, 'Year'),\n",
              " Text(0.5, 1.0, 'Gainesville Incident Count by Year')]"
            ]
          },
          "metadata": {
            "tags": []
          },
          "execution_count": 43
        },
        {
          "output_type": "display_data",
          "data": {
            "image/png": "[encoded data removed]",
            "text/plain": [
              "<Figure size 1440x720 with 1 Axes>"
            ]
          },
          "metadata": {
            "tags": []
          }
        }
      ]
    },
    {
      "cell_type": "code",
      "metadata": {
        "id": "_w6NkSM4CFh2",
        "colab_type": "code",
        "outputId": "1ecc5a34-65aa-4015-d170-fe83c4e55d95",
        "colab": {
          "base_uri": "https://localhost:8080/",
          "height": 671
        }
      },
      "source": [
        "#Incident count by district\n",
        "incPerDist = crimeData.groupby('Gainesville Police Districts', as_index=False).count()\n",
        "\n",
        "plt.figure(figsize=(20,10))\n",
        "sns.barplot(x=incPerDist['Gainesville Police Districts'], y=incPerDist['ID']).set(xlabel='Police District', ylabel='Incident Count', title='Gainesville Incident Count by Police District')"
      ],
      "execution_count": 0,
      "outputs": [
        {
          "output_type": "execute_result",
          "data": {
            "text/plain": [
              "[Text(0, 0.5, 'Incident Count'),\n",
              " Text(0.5, 0, 'Police District'),\n",
              " Text(0.5, 1.0, 'Gainesville Incident Count by Police District')]"
            ]
          },
          "metadata": {
            "tags": []
          },
          "execution_count": 150
        },
        {
          "output_type": "display_data",
          "data": {
            "image/png": "[encoded data removed]",
            "text/plain": [
              "<Figure size 1440x720 with 1 Axes>"
            ]
          },
          "metadata": {
            "tags": []
          }
        }
      ]
    },
    {
      "cell_type": "markdown",
      "metadata": {
        "id": "zXABN8lWtft8",
        "colab_type": "text"
      },
      "source": [
        "# Classification:"
      ]
    },
    {
      "cell_type": "code",
      "metadata": {
        "id": "f5c-bXTFDK7X",
        "colab_type": "code",
        "colab": {}
      },
      "source": [
        "#Hourly count by Indcident Type\n",
        "chart = crimeData.groupby([''])"
      ],
      "execution_count": 0,
      "outputs": []
    },
    {
      "cell_type": "code",
      "metadata": {
        "id": "tqPiOYR4-Xzy",
        "colab_type": "code",
        "outputId": "7b6423b0-bdc0-41f2-fdd5-022c7f8d08ed",
        "colab": {
          "base_uri": "https://localhost:8080/",
          "height": 202
        }
      },
      "source": [
        "!pip install eli5"
      ],
      "execution_count": 0,
      "outputs": [
        {
          "output_type": "stream",
          "text": [
            "Requirement already satisfied: eli5 in /usr/local/lib/python3.6/dist-packages (0.10.1)\n",
            "Requirement already satisfied: graphviz in /usr/local/lib/python3.6/dist-packages (from eli5) (0.10.1)\n",
            "Requirement already satisfied: numpy>=1.9.0 in /usr/local/lib/python3.6/dist-packages (from eli5) (1.17.4)\n",
            "Requirement already satisfied: six in /usr/local/lib/python3.6/dist-packages (from eli5) (1.12.0)\n",
            "Requirement already satisfied: tabulate>=0.7.7 in /usr/local/lib/python3.6/dist-packages (from eli5) (0.8.5)\n",
            "Requirement already satisfied: scikit-learn>=0.18 in /usr/local/lib/python3.6/dist-packages (from eli5) (0.21.3)\n",
            "Requirement already satisfied: jinja2 in /usr/local/lib/python3.6/dist-packages (from eli5) (2.10.3)\n",
            "Requirement already satisfied: scipy in /usr/local/lib/python3.6/dist-packages (from eli5) (1.3.2)\n",
            "Requirement already satisfied: attrs>16.0.0 in /usr/local/lib/python3.6/dist-packages (from eli5) (19.3.0)\n",
            "Requirement already satisfied: joblib>=0.11 in /usr/local/lib/python3.6/dist-packages (from scikit-learn>=0.18->eli5) (0.14.0)\n",
            "Requirement already satisfied: MarkupSafe>=0.23 in /usr/local/lib/python3.6/dist-packages (from jinja2->eli5) (1.1.1)\n"
          ],
          "name": "stdout"
        }
      ]
    },
    {
      "cell_type": "code",
      "metadata": {
        "id": "J3bFGjaW-fgU",
        "colab_type": "code",
        "outputId": "a7b2399a-20e8-43b5-9635-3ac64227effd",
        "colab": {
          "base_uri": "https://localhost:8080/",
          "height": 269
        }
      },
      "source": [
        "!pip install pdpbox"
      ],
      "execution_count": 0,
      "outputs": [
        {
          "output_type": "stream",
          "text": [
            "Requirement already satisfied: pdpbox in /usr/local/lib/python3.6/dist-packages (0.2.0)\n",
            "Requirement already satisfied: pandas in /usr/local/lib/python3.6/dist-packages (from pdpbox) (0.25.3)\n",
            "Requirement already satisfied: numpy in /usr/local/lib/python3.6/dist-packages (from pdpbox) (1.17.4)\n",
            "Requirement already satisfied: scipy in /usr/local/lib/python3.6/dist-packages (from pdpbox) (1.3.2)\n",
            "Requirement already satisfied: matplotlib>=2.1.2 in /usr/local/lib/python3.6/dist-packages (from pdpbox) (3.1.1)\n",
            "Requirement already satisfied: psutil in /usr/local/lib/python3.6/dist-packages (from pdpbox) (5.4.8)\n",
            "Requirement already satisfied: scikit-learn in /usr/local/lib/python3.6/dist-packages (from pdpbox) (0.21.3)\n",
            "Requirement already satisfied: joblib in /usr/local/lib/python3.6/dist-packages (from pdpbox) (0.14.0)\n",
            "Requirement already satisfied: pytz>=2017.2 in /usr/local/lib/python3.6/dist-packages (from pandas->pdpbox) (2018.9)\n",
            "Requirement already satisfied: python-dateutil>=2.6.1 in /usr/local/lib/python3.6/dist-packages (from pandas->pdpbox) (2.6.1)\n",
            "Requirement already satisfied: kiwisolver>=1.0.1 in /usr/local/lib/python3.6/dist-packages (from matplotlib>=2.1.2->pdpbox) (1.1.0)\n",
            "Requirement already satisfied: pyparsing!=2.0.4,!=2.1.2,!=2.1.6,>=2.0.1 in /usr/local/lib/python3.6/dist-packages (from matplotlib>=2.1.2->pdpbox) (2.4.5)\n",
            "Requirement already satisfied: cycler>=0.10 in /usr/local/lib/python3.6/dist-packages (from matplotlib>=2.1.2->pdpbox) (0.10.0)\n",
            "Requirement already satisfied: six>=1.5 in /usr/local/lib/python3.6/dist-packages (from python-dateutil>=2.6.1->pandas->pdpbox) (1.12.0)\n",
            "Requirement already satisfied: setuptools in /usr/local/lib/python3.6/dist-packages (from kiwisolver>=1.0.1->matplotlib>=2.1.2->pdpbox) (41.6.0)\n"
          ],
          "name": "stdout"
        }
      ]
    },
    {
      "cell_type": "code",
      "metadata": {
        "id": "L-qXJ_Y3-rcs",
        "colab_type": "code",
        "outputId": "15d15318-f2ee-458b-8167-d87cd1f25625",
        "colab": {
          "base_uri": "https://localhost:8080/",
          "height": 185
        }
      },
      "source": [
        "!pip install shap"
      ],
      "execution_count": 0,
      "outputs": [
        {
          "output_type": "stream",
          "text": [
            "Requirement already satisfied: shap in /usr/local/lib/python3.6/dist-packages (0.32.1)\n",
            "Requirement already satisfied: tqdm>4.25.0 in /usr/local/lib/python3.6/dist-packages (from shap) (4.28.1)\n",
            "Requirement already satisfied: scikit-learn in /usr/local/lib/python3.6/dist-packages (from shap) (0.21.3)\n",
            "Requirement already satisfied: scipy in /usr/local/lib/python3.6/dist-packages (from shap) (1.3.2)\n",
            "Requirement already satisfied: numpy in /usr/local/lib/python3.6/dist-packages (from shap) (1.17.4)\n",
            "Requirement already satisfied: pandas in /usr/local/lib/python3.6/dist-packages (from shap) (0.25.3)\n",
            "Requirement already satisfied: joblib>=0.11 in /usr/local/lib/python3.6/dist-packages (from scikit-learn->shap) (0.14.0)\n",
            "Requirement already satisfied: python-dateutil>=2.6.1 in /usr/local/lib/python3.6/dist-packages (from pandas->shap) (2.6.1)\n",
            "Requirement already satisfied: pytz>=2017.2 in /usr/local/lib/python3.6/dist-packages (from pandas->shap) (2018.9)\n",
            "Requirement already satisfied: six>=1.5 in /usr/local/lib/python3.6/dist-packages (from python-dateutil>=2.6.1->pandas->shap) (1.12.0)\n"
          ],
          "name": "stdout"
        }
      ]
    },
    {
      "cell_type": "code",
      "metadata": {
        "id": "yMosO-LC0AkB",
        "colab_type": "code",
        "colab": {}
      },
      "source": [
        "import pandas as pd\n",
        "from shapely.geometry import  Point\n",
        "import geopandas as gpd\n",
        "import matplotlib.pyplot as plt\n",
        "import numpy as np\n",
        "from sklearn.impute import SimpleImputer\n",
        "from sklearn.preprocessing import LabelEncoder\n",
        "from sklearn.model_selection import train_test_split\n",
        "import seaborn as sns\n",
        "from matplotlib import cm\n",
        "import urllib.request\n",
        "import shutil\n",
        "import zipfile\n",
        "import os\n",
        "import re\n",
        "#import geoplot as gplt\n",
        "import lightgbm as lgb\n",
        "import eli5\n",
        "from eli5.sklearn import PermutationImportance\n",
        "from lightgbm import LGBMClassifier\n",
        "from matplotlib import pyplot as plt\n",
        "from pdpbox import pdp, get_dataset, info_plots\n",
        "import shap"
      ],
      "execution_count": 0,
      "outputs": []
    },
    {
      "cell_type": "code",
      "metadata": {
        "id": "QCSepq_41LUj",
        "colab_type": "code",
        "outputId": "2bf44ae3-7f34-4d39-9496-b979d921fb87",
        "colab": {
          "base_uri": "https://localhost:8080/",
          "height": 54
        }
      },
      "source": [
        "! SHAPE_RESTORE_SHX=YES fio info '/content/gdrive/My Drive/cgbound.shp'"
      ],
      "execution_count": 0,
      "outputs": [
        {
          "output_type": "stream",
          "text": [
            "{\"driver\": \"ESRI Shapefile\", \"schema\": {\"properties\": {}, \"geometry\": \"LineString\"}, \"crs\": \"\", \"crs_wkt\": \"\", \"bounds\": [2628433.290525512, 223703.03658134377, 2691777.5318645057, 289243.02269038267], \"name\": \"cgbound\", \"count\": 7}\n"
          ],
          "name": "stdout"
        }
      ]
    },
    {
      "cell_type": "code",
      "metadata": {
        "id": "Q5CyXpEk1QrV",
        "colab_type": "code",
        "outputId": "e8d21c87-2e7a-484a-83ab-845da93e5826",
        "colab": {
          "base_uri": "https://localhost:8080/",
          "height": 321
        }
      },
      "source": [
        "gainesville = gpd.read_file('/content/gdrive/My Drive/cgbound.shp')\n",
        "gainesville.crs={'init': 'epsg:4326'}\n",
        "gville = gainesville.unary_union\n",
        "gville"
      ],
      "execution_count": 0,
      "outputs": [
        {
          "output_type": "execute_result",
          "data": {
            "text/plain": [
              "<shapely.geometry.multilinestring.MultiLineString at 0x7f23e69784a8>"
            ],
            "image/svg+xml": "<svg xmlns=\"http://www.w3.org/2000/svg\" xmlns:xlink=\"http://www.w3.org/1999/xlink\" width=\"300\" height=\"300\" viewBox=\"2625811.6910811504 221081.43713698222 68587.4402277167 70783.18499776203\" preserveAspectRatio=\"xMinYMin meet\"><g transform=\"matrix(1,0,0,-1,0,512946.05927172647)\"><g><polyline fill=\"none\" stroke=\"#66cc99\" stroke-width=\"471.8878999850802\" points=\"2639911.0373522015,275041.07950915606 2639576.40183189,275431.0827095193 2639397.1219597226,275283.69275738206 2639279.8120076135,275426.8126295153 2639458.88195978,275574.0325976524 2639357.404071686,275710.25326977926 2639237.0492555737,275845.0510939048 2639679.9983759862,275825.51112588664 2639005.331367358,276649.3728866539 2638563.6658309465,277188.70703115617 2638611.2034949907,276422.7545184429 2638612.102566992,275818.0538458797 2638620.6022789995,275349.90357344365 2638625.0433670036,275105.25666121586 2638636.105127014,275032.7615571483 2638655.9650950325,273911.3412681039 2639830.077864126,273931.64770012285 2640801.1938970303,273950.7903561407 2640440.598952695,274391.1630925508 2640171.0038164435,274723.3425488601 2639911.0373522015,275041.07950915606\" opacity=\"0.8\" /><polyline fill=\"none\" stroke=\"#66cc99\" stroke-width=\"471.8878999850802\" points=\"2630545.6454714793,247001.9526990426 2630462.915487402,247001.12261904182 2630532.8155194675,247359.24268337534 2630537.0264634714,247357.1550033734 2630578.1108795092,247344.08517936122 2630618.312607547,247328.5111633467 2630658.8454715847,247311.44261933083 2630545.6454714793,247001.9526990426\" opacity=\"0.8\" /><polyline fill=\"none\" stroke=\"#66cc99\" stroke-width=\"471.8878999850802\" points=\"2641137.229481343,228857.61809014436 2641138.2952093445,228856.56797814337 2641137.3940893435,228857.74097014446 2641137.229481343,228857.61809014436\" opacity=\"0.8\" /><polyline fill=\"none\" stroke=\"#66cc99\" stroke-width=\"471.8878999850802\" points=\"2632865.73200164,232338.44292538613 2632873.5420496473,231931.332781007 2632660.1220174483,231620.2927807173 2632307.25212912,230733.52260389144 2632409.551777215,230707.15255586687 2632444.2418252476,230454.64285963168 2632021.121952853,230449.5028916269 2632012.011936845,230279.00279546814 2631701.982112556,230275.23242746462 2631710.9021765646,230226.0328114188 2631733.5167045854,230061.8856112659 2631730.672032583,230061.85284326586 2631733.362080585,230047.98276325298 2631693.7819205485,230047.63255525264 2631673.5318085295,230047.45284325245 2631238.3118401244,230043.61284324888 2631010.7421759125,230041.60273124703 2630970.422175875,230041.22282724667 2630969.551775874,230041.22282724667 2630955.731871861,230041.20285924664 2630941.0620478475,230041.20285924664 2630900.74204781,230040.40260324592 2630790.7419197075,230039.68273124524 2630680.741791605,230038.86250724446 2630570.7519035027,230037.4724272432 2630528.7417914635,230037.34289124305 2630510.752159447,230037.32292324305 2630492.75177543,230037.32292324305 2630450.7621433907,230036.62250724237 2630355.501983302,230035.82276324165 2630348.6519352957,230035.7526192416 2630330.691999279,230035.60260324145 2630312.8016952625,230035.44285924127 2630270.631839223,230034.97284324083 2630195.7119031535,230034.40913124033 2628652.7819817164,230020.8324272277 2628651.612061715,230115.0127793154 2628650.482077714,230195.00253938988 2629136.697758167,230202.28369139667 2629592.021918591,230209.102507403 2629566.5821745675,231253.5026363757 2629576.6117425766,231269.94244439102 2629575.971742576,231352.44254046783 2629571.312030572,231737.08254082606 2629569.41199857,231886.84254096553 2629567.7720625685,232016.83268508659 2630118.322079081,232021.70282909114 2630335.1120952833,232021.6628930911 2630545.1017274787,232023.72266909303 2630582.741919514,232024.09284509334 2630755.091871674,232025.77271709492 2630976.5743678804,232027.94922909694 2630976.9220158807,232027.95281309696 2631222.71171211,232030.3525570992 2631355.7021762338,232031.6525251004 2631308.2617921894,232308.31274935807 2632865.73200164,232338.44292538613\" opacity=\"0.8\" /><polyline fill=\"none\" stroke=\"#66cc99\" stroke-width=\"471.8878999850802\" points=\"2634536.8621151964,228525.59274583514 2634538.592163198,228440.9627297563 2634539.0821471983,228416.8925857339 2634474.6617951384,228415.84247373292 2634471.792035136,228421.26250573795 2634467.941795132,228426.39274574275 2634462.262179127,228432.2525857482 2634456.2221151213,228436.47248975214 2634448.591779114,228439.65252175508 2634440.831907107,228441.96266575722 2634432.9619550994,228443.0624417583 2634413.911971082,228442.93290575815 2634358.30211503,228442.73271375796 2634280.5221469575,228440.68266575603 2634273.8118749512,228444.98244176008 2634267.3821789455,228449.30269776407 2634257.8221149365,228466.9124257805 2634248.471970928,228483.56266579597 2634238.3118429184,228500.37264981164 2634224.911778906,228521.53258583136 2634207.3317468893,228539.93284184847 2634195.972002879,228554.16285786172 2634185.7120348695,228565.24253787205 2634176.672162861,228573.62244187988 2634213.9421788957,228710.3525540072 2633889.7719385936,228842.54276213032 2633881.7218905864,229338.01271459175 2634531.7021791916,229349.31268260226 2634542.009123201,228754.99613804877 2634544.1217632033,228633.17264993532 2634534.6717791944,228632.98269793513 2634536.8621151964,228525.59274583514\" opacity=\"0.8\" /><polyline fill=\"none\" stroke=\"#66cc99\" stroke-width=\"471.8878999850802\" points=\"2637427.3217658885,229836.7023790562 2637432.231845893,229774.11293899792 2637433.8318458945,229753.6226989788 2637436.0216698963,229735.61258696206 2637437.6267898977,229722.36919494972 2637441.822117902,229695.56292292476 2637448.8221819084,229659.01277889073 2637462.0420219204,229614.3126188491 2637470.4219259284,229592.41284282866 2637486.051749943,229556.50269879523 2637491.102117948,229545.66263478514 2637514.032037969,229505.08305074734 2637670.5417341148,229254.1928105137 2637528.1217659824,229161.24279442712 2637485.291941942,229134.30289040203 2637131.741989613,228912.79261819576 2637094.0019575777,229370.11268262164 2637073.771941559,229615.2127148499 2636818.6018933216,229600.14250683587 2636806.49206931,229766.86301899113 2636768.7205492747,229760.232618985 2636778.1705332836,229660.68266689224 2636578.5305970977,229648.74269888113 2636583.250597102,229598.9727148348 2636014.8805485726,229576.8526508142 2636029.1105645862,229724.46263495166 2636034.8430445916,229799.4377390215 2635961.8930285233,229796.6577070189 2635939.2930925023,230390.46762757192 2636098.2619246505,230392.99268357427 2637371.171877836,230390.57271557202 2637397.3518458605,230124.4724913242 2637397.671845861,230121.20285932114 2637422.0722298836,229873.20285909018 2637427.3217658885,229836.7023790562\" opacity=\"0.8\" /><polyline fill=\"none\" stroke=\"#66cc99\" stroke-width=\"471.8878999850802\" points=\"2641137.229481343,228857.61809014436 2641105.661865314,228888.72273017332 2641006.631977222,229019.45271429507 2640934.764457155,229115.55767438456 2640896.92189712,229168.53265043392 2640846.914473073,229238.68765849926 2640799.1944090286,229305.64765856162 2640774.874409006,229339.8976425935 2640730.5634969645,229398.31377064792 2640685.2421529223,229455.9496107016 2640638.9244568795,229512.78762675452 2640573.1812248183,229585.42609082218 2640505.5286167553,229656.28945088817 2640436.01437669,229725.32765895248 2640384.6998166423,229774.02845899784 2640332.294184594,229821.55332304208 2640278.824488544,229867.8776750852 2640250.724392518,229893.22769110883 2639931.954472221,230180.87773937674 2639914.655272205,230194.8939953898 2639895.9700881876,230207.00125940106 2639876.108840169,230217.06346741045 2639855.2943761493,230224.9677234178 2639855.0644881492,230235.51773942763 2639818.9812881155,230243.2145074348 2639797.692456096,230244.87249143634 2639776.343208076,230244.45917943594 2639755.134376056,230241.97853943362 2639734.266024037,230237.45386742943 2639713.9343760177,230230.92765942335 2639587.8619279005,230450.41271562775 2639627.141927937,230673.20273183525 2639642.7018639515,230761.46269991744 2639549.6819598647,231017.06270015548 2639429.701927753,231322.08273243957 2639346.981927676,231539.40266864197 2639321.5319436523,231604.78263670285 2639293.4619276263,231672.75268476614 2639263.9319435987,231740.20266882898 2639235.221927572,231802.36266888687 2639206.141863545,231862.28266894267 2639174.871975516,231923.62270099978 2639146.3232394895,231965.5232450388 2638961.9825033178,232303.6120773537 2638874.361895236,232474.94263751325 2638835.6418952,232535.29271756945 2638629.571879008,232856.2926538684 2638470.0932228593,233104.67460609972 2638240.0719746454,233462.92267043339 2638026.841894447,233795.85271874344 2637849.4619262815,234072.402735001 2637798.591910234,234150.49271907372 2637574.2319740253,234500.2826713995 2636969.421989462,235442.43268827692 2636486.031909012,236195.8427369786 2636340.296100876,236194.107568977 2634511.1978591722,236172.35230495673 2634192.582178876,236168.5624809532 2633804.201890514,236163.9427049489 2633810.9119065204,235403.5126242407 2633253.664162001,235393.4358242313 2632166.2918729885,235373.772720213 2632121.309088947,235372.95940821222 2631297.8050881797,235358.07006419837 2631166.321952057,235355.69272019615 2631154.211872046,236003.14270479913 2631152.5819200445,236090.59268888057 2630826.671903741,236245.15268902451 2630904.5519678136,236392.73272116197 2631254.7670081398,237130.8535538494 2631523.57187239,237697.39269037702 2631562.0340804257,237737.14309041406 2631567.711904431,237753.9327224297 2631554.1519684186,237760.3726584357 2631565.2105284287,237781.25214645514 2631602.7787844636,237849.47870651868 2631651.8018885097,237930.10270659375 2631705.6603205595,238008.29854666657 2631775.4208326247,238099.0017787511 2631865.7268807087,238201.11198684617 2631963.1542087994,238296.2524669348 2632043.2019528737,238365.24267499903 2632075.103648904,238392.6862590246 2632189.6749130106,238472.99960309936 2632227.971873046,238497.302707122 2632269.4419530844,238522.1027071451 2632335.381921146,238410.12267504082 2632398.973345205,238444.62661107295 2632479.9830092806,238485.10635511065 2632563.003297358,238521.29656314437 2632648.4119374375,238554.56273917534 2632705.821985491,238573.28273919277 2632793.0719055724,238597.5626752154 2632822.4219215997,238604.64273922198 2632851.891873627,238611.2027392281 2632911.1519056824,238622.78264323887 2632911.3567056824,238603.31793922075 2632913.6819536844,238392.7926270247 2633289.5319380346,238181.2726268277 2633786.3618904976,238186.8626428329 2634099.351970789,238190.31262683612 2634512.3519071736,238434.93265906392 2634509.891875171,238654.9226752688 2634862.8480355,238658.81771527242 2634670.1254753205,238920.6726915163 2633977.4176346753,239815.89778035006 2633508.587938239,240419.11774891184 2633397.337506135,240557.12786104038 2633018.5875537824,241063.70782951216 2632538.177953335,241680.907446087 2631732.011936584,242727.2927270615 2631266.910624151,243331.12223162386 2631061.6214079596,243597.22770387167 2631062.700575961,243536.40389581505 2631062.7099199607,243535.88523981458 2631063.740575962,243477.78271176043 2630924.220575832,243658.8927279291 2630692.660511616,243959.47269620906 2630725.1405116464,243984.50271223235 2630410.870559354,244392.42271261226 2630368.250527314,244447.7426486638 2630350.970527298,244469.27263268386 2630333.590559282,244488.60268070185 2630310.8005432603,244511.05272872275 2630289.630495241,244529.3827127398 2630288.90051124,244529.9926327404 2630288.080543239,244530.652728741 2630262.6105912155,244550.00261675904 2630235.8806071905,244567.58264877542 2630214.860575171,244579.70271278667 2630190.120607148,244592.22264879837 2630171.850527131,244600.35269680593 2630158.860575119,244605.59263281082 2630140.0605751015,244612.40261681715 2630107.500575071,244622.16261682624 2630107.500575071,244653.022648855 2630072.6505270386,244659.83263286133 2630055.0605110223,244662.32261686365 2630037.4006070057,244664.1926968654 2630019.6905269893,244665.46271286655 2629992.1405749638,244666.1727288672 2629937.4905909128,244666.13266486718 2629937.680542913,243960.1727282097 2629953.660574928,243960.1626162097 2629953.4006069275,243659.87269593004 2629873.410590853,243659.95269593011 2629873.7505588536,243960.20268020974 2629767.4006067542,243960.30264820985 2629677.12054267,243960.38264820992 2629674.0605746675,243960.38264820992 2629574.3705905746,243960.48261621 2629474.3705904814,243960.6026802101 2629433.8006064435,243960.62264821015 2629374.2704943884,243960.6926642102 2629322.6704943404,243960.73272821022 2629304.270494323,243960.75269621026 2629274.180510295,243960.7826482103 2629074.0805421085,243960.96261621045 2628893.990557941,243961.1226162106 2628643.890589708,243961.35263221082 2628644.0705577084,244116.31263235514 2628644.2305577085,244261.33266449018 2628440.040605518,244261.52261649037 2628438.630557517,244359.25266458138 2628441.5205415194,244345.6426805687 2628444.320541522,244340.34271256375 2628449.340573527,244334.14264855802 2628453.9504935313,244330.30264855444 2628460.950557538,244326.47263255087 2628466.650525543,244324.66271254915 2628474.5805095504,244323.77272854833 2628623.3206056887,244323.59263254819 2628629.2406056942,244324.43269654896 2628634.6806056993,244326.92268055127 2628640.4406057047,244332.39263255638 2628643.1905577076,244337.71269656133 2628644.3504937086,244344.5727285677 2628644.510493709,244480.63263269444 2628644.630557709,244588.5226807949 2628643.1305257073,244596.33272880217 2628638.840605703,244603.02264880843 2628632.3705896973,244607.6426808127 2628623.6605736893,244609.5526968145 2628471.5905575478,244609.71269681465 2628459.8105895366,244607.75263281283 2628452.59049353,244604.32261680963 2628446.310557524,244599.39269680504 2628442.40054152,244594.8526648008 2628437.730589516,244586.0526647926 2628435.550493514,244573.19263278064 2628433.290525512,244730.19269692685 2628434.300573513,244722.28268091948 2628437.9805735163,244713.02264891088 2628442.6505255206,244706.55263290484 2628448.640541526,244701.28261689993 2628455.6505895327,244697.45272889634 2628461.370525538,244695.65266489467 2628469.3005095455,244694.76268089385 2628597.860509665,244694.81272889388 2628692.9206057535,244694.84268089393 2628693.0006057536,244799.89266499176 2628733.5205417913,244965.10264914564 2628844.640541895,245133.81266530274 2628878.280605926,245184.8927293503 2629330.1519663474,245190.0437053551 2629330.0719663473,245190.09272935515 2629235.387806259,245286.57784944502 2629209.727902235,245331.7577534871 2629183.507870211,245400.84754555143 2629097.7855021306,245757.50264988362 2629009.4754860485,245835.03263395582 2628898.0019499445,246042.19269814875 2629172.841886201,246050.24261815625 2630283.8818872357,246035.56268214257 2630643.03196757,246004.2527301134 2630781.401887699,246004.3626821135 2631099.611935995,246007.52261811646 2631382.991904259,246010.3626821191 2631405.16188828,246260.03269835163 2631418.652064292,246409.42252249076 2631423.5319362967,246605.73253867356 2631423.5017282967,246607.60287467533 2631423.4617922967,246608.70265067637 2631423.2119362964,246609.79269867737 2631423.011744296,246610.87250667837 2631422.772128296,246611.94258667936 2631422.481824296,246613.00242668035 2631422.1418562955,246614.0525386813 2631421.751712295,246615.0826826823 2631421.342112295,246616.09285868323 2631420.8521282943,246617.08255468414 2631420.342176294,246618.07276268507 2631419.7820482934,246619.00255468593 2631419.181984293,246619.9226186868 2631418.541984292,246620.82271468762 2631417.8620482916,246621.69260268845 2631417.142176291,246622.5225546892 2631416.3920962904,246623.32281068998 2631415.6118082893,246624.09285869068 2631414.792096289,246624.83269869137 2631413.942176288,246625.52287469202 2631413.051808287,246626.18284269262 2631412.1517122863,246626.7926346932 2631411.211680285,246627.37273069372 2631410.2516802843,246627.92261869425 2631409.2717122836,246628.4126026947 2631408.2620482827,246628.86265069514 2631407.2421442815,246629.2824906955 2631406.201760281,246629.63269869584 2631405.15216028,246629.94245869614 2631404.0820802785,246630.2127946964 2631403.001760278,246630.4324426966 2631401.9219522765,246630.60242669674 2631400.831904276,246630.72274669685 2631399.7321282746,246630.81285869694 2631398.6318402737,246630.84255469695 2631230.1817921167,246631.36274669744 2631229.4721601163,246678.0228427409 2631223.971744111,247008.78252304895 2631194.861984084,247008.49273104867 2631074.871711972,247007.29260304756 2631072.59177597,247233.33292325807 2631083.7277759803,247237.07308326155 2631087.0987839834,247238.11193126254 2631098.9930559946,247241.44146726563 2631108.073888003,247243.63845926768 2631111.370656006,247244.36345126835 2631117.655456012,247245.64089126955 2631128.0424000216,247247.45285927123 2631137.6219200306,247248.7983952725 2631139.571616032,247249.0344272727 2631146.547616039,247249.77477927337 2631153.242016045,247250.3328592739 2631160.9517120523,247250.79263527435 2631192.4217920816,247252.27282727574 2631320.531872201,247258.29292328132 2631351.77513623,247260.7423312836 2631387.908000264,247266.05996328854 2631423.556000297,247274.00108329597 2631426.4718402997,247274.77266729667 2631458.516384329,247284.51961130573 2631492.628896361,247297.5663953179 2631510.891936378,247305.76249132553 2631526.9518403932,247313.3528913326 2631635.4221124942,247364.6726993804 2631699.821984554,247395.13260340877 2631702.4132165564,247396.31378740986 2631718.034336571,247401.67647541486 2631734.325152586,247404.3946834174 2631750.8412486017,247404.3946834174 2631767.132064617,247401.67647541486 2631776.2743366254,247398.89017141226 2631782.7485766313,247396.31532340986 2631797.274016645,247388.45458740255 2631810.307488657,247378.3103313931 2631821.4936646675,247366.1590353818 2631830.526880676,247352.33247536892 2631837.161376682,247337.20748335484 2631840.9619526854,247322.65285934127 2631854.5217606984,247248.16249127188 2631878.701984721,247115.3425231482 2631929.451936768,247115.8125391486 2631902.582176743,247263.39244328608 2631890.1718087313,247331.56268334956 2631887.265184729,247344.34117936145 2631880.6921287226,247363.27033137908 2631871.654816714,247381.15397939575 2631869.322144712,247384.9627473993 2631860.3339847038,247397.6454994111 2631846.912416691,247412.4853074249 2631831.6322886767,247425.40357943694 2631814.7670086613,247436.16991544698 2631797.8310726453,247444.1187154544 2631794.952096643,247445.27276345546 2631851.7421126957,247597.84261959756 2631871.452064714,247650.77266764684 2631870.6472007134,247650.2949716464 2631870.8217927134,247650.76345164684 2631668.371360525,247628.90361162648 2631603.862432465,247593.74149959374 2631473.021856343,247522.43321152733 2631343.6517442223,247451.92364346166 2631253.5714881388,247469.9035474784 2631149.0415680413,247490.75321149782 2631078.3215679755,247504.92332351103 2630996.7671358995,247521.26994752625 2630868.5055037797,247547.36261955055 2630862.180127774,247528.99513153342 2630781.9654716994,247296.07263531652 2630749.231519669,247317.9726673369 2630708.657183631,247341.85401135916 2630678.663071603,247357.39577137362 2630662.7927355883,247364.94149938063 2630640.6117435675,247373.34290738846 2630627.3017915552,247378.89042739364 2630585.6331835166,247394.36767540805 2630543.121311477,247407.34994742015 2630522.3255354576,247413.5026514259 2630568.4655675003,247607.35263560642 2630564.4742714968,247606.95263560605 2630564.551583497,247607.3432916064 2630459.8015033994,247628.24364362587 2630409.9414073527,247630.52357962797 2630260.825503214,247637.5427156345 2630261.2855352145,247609.8126676087 2629886.975518866,248138.06265210066 2630252.4155192063,248144.14265210633 2630252.545567206,248136.6826840994 2630395.5086393394,248136.6719320994 2630517.3620794527,248136.66271609938 2630556.411807489,248117.0433880811 2630598.331807528,248137.21362809988 2630668.641695594,248141.623484104 2630724.8818236464,248155.30258811673 2630744.211871664,248150.5225561123 2630761.7217596807,248158.54252411975 2630771.5159356897,248155.06719611652 2630813.3119037286,248131.0025560941 2630839.324063753,248130.43577209357 2630865.261983777,248129.86284409303 2630891.175455801,248112.5326680769 2630909.9616318187,248111.94284407634 2630954.0155198597,248096.66271606213 2631003.985567906,248066.5827160341 2631070.755487968,248045.91263601487 2631081.6755519784,248042.5326680117 2631138.285472031,248019.9726679907 2631196.7155520855,247996.71263596904 2631239.5855681254,247993.29273196583 2631266.1254721503,247976.52268395023 2631297.5917121796,248012.1335639834 2631374.7613762515,248062.97362803074 2631424.0219202973,248095.42316406095 2631514.6715203817,248114.2535000785 2631651.9115845095,248129.13324409237 2631693.9554885486,248133.27263609623 2631781.0917446297,248143.08268410535 2631913.1554887528,248157.05273211835 2632054.3355208845,248177.4926681374 2632170.155552992,248206.4927321644 2632258.235553074,248257.4727002119 2632367.2755531757,248315.4627162659 2632590.1354573835,248097.51263606292 2632598.189089391,247626.06213962386 2632599.7954893922,247531.9626835362 2632603.595553396,247309.56268332907 2632607.078433399,247105.63282713917 2632608.0354894,247049.59263508697 2632612.285473404,246800.82271485525 2632616.985505408,246525.48268259884 2632621.2554574125,246275.52261836606 2632625.5255374163,246025.56268213326 2633351.121954092,246034.13266614123 2633440.8919381755,246035.20261814224 2634962.2054755925,246060.53266616582 2634952.4955235836,246660.49273072457 2634929.8355555623,248060.31263602828 2634929.1855715616,248100.2026840654 2634921.0954595543,248600.142652531 2634919.4754915526,248700.13266862414 2634905.84553954,249541.9939174082 2634894.5655395295,250238.92268605725 2634878.3654755144,251239.6927349893 2634852.6954594906,251347.9126390901 2634939.9055715716,251357.96268709944 2634951.5336035825,251352.39123109425 2635220.205475833,251355.65267109728 2636162.14557271,251372.502719113 2636268.9154928094,251364.3726711054 2637776.3378302134,251390.3474551296 2638830.375463195,251409.14271914712 2638825.7555591906,251689.20262340794 2638823.035559188,251854.1827195616 2638206.6818946144,251843.69273555183 2638204.0019586114,252008.74271970554 2637404.9119098675,251993.8026876916 2636877.8719093767,251984.6426236831 2636866.692005366,252695.13286434478 2636858.4820853584,253308.43257691595 2637782.301990219,253322.27270492885 2638798.5555591653,253339.0527369445 2638782.11549515,254298.42272183797 2638778.025511146,254658.63264217344 2638775.2354951436,254849.5926423513 2638770.315559139,255186.07264266466 2638765.735463135,255499.04262695613 2638761.335463131,255800.3126432367 2638760.51549513,255856.20269128875 2638751.2608391214,256264.24019566877 2638753.2155271233,256354.86265975318 2638553.7154949373,256351.7927077503 2638553.5355269373,256375.10265977203 2638292.395558694,256369.45273976677 2638288.9855106906,256582.79264396545 2638551.975462936,256581.48269196422 2638766.579751136,256586.84230796923 2638693.775527068,256698.88262807357 2638689.295527064,256948.6627243062 2638665.5808390416,257053.707332404 2638595.345446976,257343.03264467348 2637711.8054781533,257330.45267666175 2637717.926950159,256920.55328428 2637721.465510162,256683.61274005935 2636948.319653442,256671.0024360476 2636150.5354606993,256661.99264403922 2636148.211108697,256776.90080414622 2636146.856740696,256866.6451882298 2636143.5283566928,257285.98547662035 2636129.67056468,258005.4408372904 2636126.1623406764,258237.9026615069 2636783.1822452885,258246.95891751532 2637447.275557907,258256.11270952385 2637450.41552591,258055.46272533698 2637990.1826944123,258059.64000534086 2638542.2754949266,258063.91264534486 2638668.385447044,258323.79270958688 2638658.961959035,258702.87264593993 2638653.6418950306,259031.28263024578 2638649.121959026,259305.4326465011 2638646.0719750235,259498.572742681 2638146.2419585576,259490.58272667354 2638148.53187856,259347.43264654023 2637789.3924222253,259341.69901453488 2637387.4818938514,259335.2826305289 2637388.0919418517,259297.74266249395 2637398.174757861,259297.89831049409 2637398.2237818614,259294.88045449127 2636985.659301477,259289.8403264866 2636493.265317018,259278.87943047637 2636107.229092659,259274.41632647222 2636103.256484655,259522.59859870336 2636100.2649966525,259709.40858287734 2636096.863012649,259922.05203907538 2636093.584164646,260126.87802326612 2636088.111908641,260468.8227275846 2636074.9500526288,261290.82644035015 2635894.1819244605,261288.9626323484 2635632.861988217,261284.04269634382 2635510.7718761032,261283.20263234305 2635507.6019561,261490.33261653595 2635505.7819240987,261608.90272864638 2635503.991972097,261725.7526487552 2635501.731876095,261873.13261689246 2636024.1650285814,261880.9093848997 2636021.081892579,261952.58272896646 2636009.3619565675,262678.4426976425 2635979.8319725404,264576.03271540976 2636371.0219889046,264582.6126834159 2636367.8219889016,264791.06273161 2636575.551909095,264794.55265161325 2636571.1220850907,265114.52282791125 2636573.599653093,265331.62721211347 2636556.9320050776,266139.4423808658 2636546.2219890677,266964.6660616343 2636546.1718130675,267249.6124938997 2637304.1217657737,267261.0828299104 2637294.4132217644,267752.8665103684 2637285.5919737564,268266.2028308465 2637280.4219257515,268546.1626391072 2636649.551909164,268536.21268709796 2636552.1119090733,268534.68270309654 2635961.7318765232,268525.3827350879 2635962.731940524,268465.382735032 2635950.201892513,268465.1527190318 2635940.538404504,268432.37230300123 2635932.610724496,268411.2652309816 2635916.336164481,268374.6475029475 2635900.061604466,268348.20129492285 2635881.7526124488,268321.7550868982 2635861.0309484294,268292.2181908707 2635842.7062124126,268273.5277588533 2635827.341988398,268258.9927188398 2635796.311204369,268236.31367881864 2635775.42109235,268218.3839508019 2635761.727780337,268201.73025478644 2635694.5952362744,268156.9751827448 2635662.9519722452,268141.9427347308 2635651.874468235,268132.563278722 2635627.511076212,268115.5373587061 2635605.085092191,268097.9798546898 2635572.5359721608,268069.4993426633 2635558.2957161474,268045.0875666406 2635544.4919401347,268027.1026706238 2635531.621924123,267997.94273459667 2635516.532644109,267967.178830568 2635507.5603561006,267939.1203345419 2635496.8418920906,267882.07265448873 2635497.508260091,267860.4873744686 2635496.31197209,267766.9927183816 2635497.754020091,267749.8325263655 2635502.079652095,267720.8183823385 2635509.6672361023,267688.93243030884 2635522.271908114,267652.3826702748 2635532.6419561235,267628.36270225246 2635541.1019881316,267603.90267022967 2635548.251940138,267579.0027022065 2635552.571940142,267558.8227341877 2635556.351908146,267533.34267016395 2635557.421988147,267523.1026701544 2635561.667492151,267495.0668301283 2635563.6165481526,267467.2373261024 2635561.5718761506,267429.85262206756 2635557.4006121466,267405.91521404526 2635551.131940141,267382.7627020237 2635546.941988137,267364.97262200713 2635538.6018921295,267344.14266998775 2635531.131940122,267318.2226699636 2635524.1719401157,267299.47271794616 2635515.811876108,267270.67271791934 2635508.9419881017,267233.7227018849 2635509.144612102,267227.15118187875 2635483.2275560778,267222.97774187487 2635483.1179880775,267270.41761391907 2635434.8978280327,267273.49780592194 2635376.077731978,267291.4674699387 2635273.4018918825,267323.6026379686 2635182.1419877973,267455.002702091 2635119.4118757388,267545.3326861751 2635085.3522277074,267594.37012622075 2635056.6716516805,267635.6625422592 2634993.931939622,267725.99265434337 2634959.9599715904,267774.91169438895 2634896.9719395316,267865.6126224734 2634827.8126434674,267965.1853585661 2634794.301859436,268013.432526611 2634667.511971318,267809.6227344213 2634511.3119071727,267753.4326543689 2634435.0619231015,267726.0026383434 2634356.301987028,267697.672654317 2634236.951970917,267654.732622277 2634089.3919067797,267652.4526862749 2634091.201954781,267542.9426701729 2634075.751970767,267525.5627021567 2633952.8219226524,267457.7927180936 2633537.2937302655,267416.8905740555 2633518.333858248,267407.2403980465 2633400.587682138,267398.55790203845 2633341.0021460825,267395.20276603533 2633323.3673300664,268442.7603990109 2633314.0412500575,268995.1397915253 2633308.2679380523,269337.09793584386 2633300.1506900447,269817.9156002916 2633280.6864980264,270971.4439213659 2633277.2320340234,271176.602833557 2633254.8719700025,272502.09249879146 2635895.772068462,272544.4123708309 2636910.138277407,272560.66069084604 2638460.18192685,272585.5627068692 2638447.110054838,273291.92161952704 2638448.4473988395,273785.08309198637 2638427.2004228197,274417.5961165754 2638429.2965508215,275073.71490118647 2638449.17290284,275096.57672520773 2638455.546278846,275337.5264854322 2638439.270310831,275645.23746171873 2638446.9067908376,275815.5092058773 2638416.2661508094,276572.21397458203 2638403.235750797,277184.6443111524 2637675.4355581193,278049.0838639575 2637302.928805772,278562.63676043577 2636948.5049974425,279018.3244408602 2636420.485924951,279654.840665453 2635773.1199083477,280436.01967418054 2635266.8001638763,281050.83657075313 2634539.869731199,281907.9634835514 2633758.6907224716,282902.5201564776 2633749.9618904637,283065.6026526295 2633745.181986459,283220.67273277394 2633739.639586454,283400.75106894167 2633707.1003224235,284457.5391659258 2633655.361954375,286138.1927354911 2632655.7819214445,286107.38262346236 2632652.021921441,286231.7626555782 2631852.068768696,286202.7988155512 2631809.387040656,287529.8112967871 2631785.921952634,288266.32265747304 2630928.551967836,288253.68265746126 2630962.5819198675,288330.25264153257 2630986.90191989,288410.4427216073 2631004.3919679066,288534.8026577231 2631022.9619519236,288930.89264209196 2631764.761888615,288931.8727380929 2637120.4319096026,289243.02269038267 2642515.9018666274,289097.322722247 2642536.4219306465,287958.79267318663 2642537.3719466473,287906.08265713754 2642562.601898671,286505.8727358335 2644942.341932887,286547.9826878727 2645136.9019330684,286551.4226878759 2646349.3661901974,284866.14179030637 2646625.2357584545,284483.9092139504 2647829.8719195765,282808.2226843898 2647781.061935531,282807.6026523892 2648270.829103987,282082.92245971435 2648343.751984055,281975.0226836138 2648369.6319200792,281958.1426835981 2648399.2119521066,281949.19266758976 2648448.081968152,281961.1826836009 2648474.9819361772,282000.38268363744 2648522.791984222,282160.2027157863 2648574.3101922697,282280.34453989816 2648828.6918885065,282821.19266840187 2648775.1219684565,282820.4926364012 2649942.281905544,285285.602654697 2650111.991985702,285293.5426227044 2651786.5019392613,285311.59267072123 2651843.3038593144,282972.99350054323 2651887.6819713553,281507.69263517857 2651900.279219367,279759.1569535501 2648952.1819366217,279500.212697309 2648819.7389284982,280200.1917059609 2648703.31192039,280170.0427139328 2648521.12196822,280133.6826498989 2648077.511983807,280040.8526978125 2647209.3219029987,279861.62261764554 2647343.6819671234,279148.102616981 2648211.8719199323,279327.33269714797 2648259.4118879763,278939.9926647872 2648384.0219360925,278291.87272818363 2649034.911920699,278417.5126643006 2649245.6626408948,277302.2373992619 2651916.331955382,277492.4926314391 2651924.9617153904,276283.0128223127 2651961.6782594244,272746.89659501944 2652895.8812682945,272762.7292990342 2653638.9692689865,272775.32027504593 2654337.9793176376,272787.16437105695 2654349.285045648,272137.94171445235 2654361.5089176595,271435.9930417986 2654372.90603767,270781.518801189 2654386.328757683,270010.7252004712 2654400.613813696,269190.4169757072 2654415.58776571,268633.17780718824 2654422.6461977162,267925.2195345289 2654429.8280217233,267512.8101901448 2656001.445303187,267531.0471181618 2657794.1498168563,267551.84673418116 2659707.201978638,267574.04270220187 2659729.0890826583,266319.0967810331 2659761.2009546882,264477.8879473183 2659769.544762696,263999.47949887277 2659783.081914709,263223.2926181499 2659801.0893387254,262423.418953405 2665043.161919608,262448.4826334283 2665025.376575591,263325.83034624544 2665019.031871585,263638.8126185369 2665218.9119357713,263642.5726185404 2666542.6157450043,263671.110090567 2667715.341890096,263696.3926505905 2667725.619778106,263153.33409008477 2667739.2955541187,262661.830857627 2669151.1506594336,262695.53517765837 2670385.0830765828,262724.9920736858 2670643.8199728234,262723.6652256846 2670646.563652826,262579.67392955045 2670920.1358770807,262584.6762975551 2671699.1897018063,262598.7836895683 2671705.081925812,262448.7826654286 2671750.5192378545,260325.4649034511 2671772.3719098745,259304.50272650024 2672158.0876222337,259093.58765430382 2672577.837510625,259840.28743099922 2672948.0119749694,260488.41261560284 2673284.538951283,261083.05735215664 2673494.7379914788,261454.39303250247 2673855.641927815,262091.93261709623 2674167.301960105,262642.46266560897 2674326.224840253,262923.2049378704 2674366.1806802903,262993.78810593614 2674652.9948885576,263500.44474640803 2674735.5077846344,263646.20641054376 2675063.69197694,264225.9427310837 2675283.3376731444,264224.2075630821 2675359.8755292157,264225.4414830832 2675899.9556577187,265180.5114359727 2678219.7160438793,265208.17121199844 2678230.291915889,264344.7726831944 2675639.1319774757,264314.71265116637 2675640.161865477,264234.1127150913 2679577.837517144,264279.5875311337 2680958.53191843,264295.22273114824 2680972.4683024427,263506.871242414 2680988.721870458,262587.4426335577 2680993.5244304626,262323.603273312 2681016.7341584843,261013.648584092 2681043.1899665087,259595.16525477095 2681063.5118865278,258478.98272573142 2681070.121678534,258115.91750939327 2681084.8718865477,257305.72269263872 2681671.882191094,257305.23565263828 2682386.62190376,257304.64262863772 2683273.3419045857,257303.91264463705 2683711.361872994,257303.5626926367 2684608.5819698293,257302.80954063602 2685054.5243702447,257302.44102863566 2686190.091987302,257301.5026606348 2686341.151955443,257229.86272456808 2686409.131987506,257239.7426605773 2686561.6813636483,257252.48224458913 2686689.120595767,257255.39258059184 2687041.8019400956,257260.74016459682 2687535.7018445553,257268.2288046038 2688160.2612051372,257277.69875661263 2688349.7827413133,257280.5723566153 2688724.377301662,257286.2521006206 2689183.09845409,257293.20736462707 2690202.306007039,257308.66106064146 2690438.4782952587,257312.2421166448 2690657.619415463,257315.11571664747 2691340.581976099,257345.06272467537 2691410.766296164,257349.69043667967 2691479.208280228,257351.4285486813 2691564.6128243078,257353.59738068332 2691634.7028083727,257353.9207086836 2691706.7207284397,254719.06067422972 2691724.5946484567,254065.1470736207 2691740.9458804717,253466.90528106355 2691777.5318645057,252152.03270383898 2691170.04808794,252142.7404158303 2690604.6896234136,252134.09247982228 2689975.4480228275,252124.4672638133 2689171.861974079,252112.17529580186 2688250.500693221,252098.08185578874 2687465.48194049,252086.07263977756 2686663.1819077427,252815.7326724571 2686619.161939702,252865.20262450317 2686704.337875781,252950.95776058303 2686719.181907795,252970.10272060087 2686695.0196037726,252993.2105606224 2686587.8919236725,253095.6626567178 2686504.401875595,253168.3427207855 2686414.491987511,253232.90272084562 2686280.803283387,253309.83084891725 2686177.36085129,253352.32070495683 2686022.381907146,253396.65273699813 2685937.755859067,253411.6604810121 2685864.0319549986,253420.18272102004 2685757.3219388993,253423.89267302348 2685753.5518268957,253626.07481721177 2685749.3483068915,253896.81017746392 2685742.9293628857,254310.20307384894 2685740.122066883,254490.9825940173 2685737.841874881,254678.20269019165 2685082.3819062705,254675.51264218916 2684433.001937666,254672.85267418667 2684178.533713429,254667.46259418165 2683760.6563370395,254656.78867417172 2683753.780689033,254952.9064344475 2683783.459793061,254986.15161847847 2683750.38203303,255099.2570265838 2683513.4955048095,254833.90944233668 2682873.4315042133,254953.63142644818 2682437.881935808,255035.66265852458 2682433.3782558036,255235.4300827106 2682106.312143499,255235.2882587105 2681607.9019030347,255232.8327067082 2681411.9356948524,255228.9568667046 2681117.9995665783,255228.9471387046 2681116.2326545767,255337.6314268058 2680617.085902112,255332.2416028008 2680615.29595011,255572.2416030243 2680075.4462216073,255665.7855391114 2679683.4052612423,255732.92153917396 2679663.9451652244,255523.8212509792 2679873.2154374192,254938.82131443438 2679686.395341245,254894.12115439275 2679482.085837055,253974.12115353593 2680480.697805985,253847.54144141806 2680488.5618699924,252035.61273573057 2680488.357837992,251933.04748763502 2680341.8320138557,251911.9582076154 2680285.0876938025,251911.50764761498 2680218.988621741,251906.13548760998 2679850.337741398,251904.8675196088 2679370.3377409508,251897.59763160202 2678530.8379641687,251884.87750359016 2678327.087563979,251881.80755158732 2678187.8378998493,251888.61766359364 2677892.171979574,251918.8327036218 2677791.4318834804,251933.08268763506 2677722.425803416,251943.54143964482 2676571.6398823443,251940.4118396419 2676100.836169906,251938.52716764013 2675882.3918817025,251937.6526716393 2675193.2132570604,251922.8092796255 2673955.671879908,251896.10271960063 2673199.601863204,251879.80268758544 2672344.0447424073,251861.36582356828 2671773.826245876,251849.07782355684 2671206.2359733474,251836.84652754545 2670579.3919407637,251823.34265553285 2670604.686916787,250581.42521437624 2670606.2719407887,250503.60262230376 2670633.3619888136,249175.09266906648 2670643.571908823,248587.74265251946 2670656.4319408354,247851.33266783363 2671288.658501424,247862.465211844 2671980.151878068,247873.61273185437 2673303.891911301,247894.96261987428 2674694.9162965966,247917.38271589513 2675951.3019617666,247937.63269991401 2675974.111945788,246613.7926986811 2676007.0023138183,245262.0796734222 2676040.4323298493,244022.99768826822 2675993.3289698055,244022.1484082674 2675993.2530658054,243921.19762417342 2675818.283081643,243918.1651761706 2675243.143113107,243908.1964081613 2674733.373000632,243899.35762415308 2674683.3730005855,243898.48773615225 2674483.3630163996,243895.71768814969 2674433.423048353,243894.79762414884 2674173.523016111,243889.8677041442 2673973.5830479246,243886.0676401407 2673913.6129998686,243884.92767213963 2673914.053063869,243859.92773611634 2673932.2830798863,242637.25765497764 2674192.253000128,242641.09765498122 2674752.5630166503,242649.49765498904 2675262.483017125,242658.59768699753 2675522.4430813673,242663.22770300182 2675622.42311346,242665.02763900353 2676012.3630818236,242672.0776230101 2676013.2817378244,242611.89765495402 2676030.3505378403,241326.56274175696 2676033.358025843,241300.00773373223 2675480.022473328,241291.7020697245 2674561.216840472,241277.91147771166 2673925.0311118793,241268.34398970276 2673924.9930958794,241294.58770172717 2673916.7030478716,241831.85771822755 2673853.864263813,241864.7596062582 2673587.403079565,241982.3176223677 2673308.313031305,241915.73765430567 2673217.33306322,241917.14770230697 2673005.733063023,241894.1576222856 2672691.753030731,241890.89771828253 2672533.833030584,241925.78770231502 2672370.1831104313,241941.48767032966 2672365.538630427,241943.54027833158 2672361.308486423,241945.62949433352 2672356.494150419,241948.279350336 2672351.9987904145,241951.03531833855 2672346.542790409,241954.78136634204 2672342.1422784054,241958.1586463452 2672337.416518401,241962.18527034894 2672332.556742396,241966.82181435326 2672328.2894783923,241971.37925435748 2672324.1484223884,241976.3219743621 2672319.132614384,241983.16651836847 2672314.79072638,241990.09259837493 2672310.412742376,241998.43167038268 2672307.0768063725,242006.19730238995 2672303.5230143694,242016.92767039992 2672302.254918368,242019.46770240227 2672288.399814355,241243.65189367975 2671478.8620216013,241231.3431576683 2670751.811908924,241220.292661658 2670769.587652941,240649.9176211268 2670772.087748943,240542.8676370271 2670810.514244979,240520.87954100664 2671012.7767731673,240420.350772913 2671016.3417011704,240258.51141276228 2670816.4099249844,240253.22206875734 2670834.337733001,239443.83762000356 2670848.6468530144,238558.0675071786 2670771.871940943,238557.43262717803 2670151.421892365,238548.84267517002 2669088.8574113753,238533.785523156 2668174.521922524,238520.8227071439 2668187.1319705355,237858.392626527 2668203.588674551,237163.0520818794 2667851.0213782224,237162.5019378789 2667565.3016979564,237164.75396988099 2667566.5086099575,236385.71460915543 2667567.333057958,235853.99518466025 2666596.6913930546,235837.9684326453 2665794.5936003076,235824.724528633 2665787.3386883005,236137.8477289246 2665784.9198722984,236242.2220010218 2665624.938688149,236239.58084901934 2665625.57676815,235771.92708858382 2665627.506112152,235671.9457764907 2665632.025408156,235437.72587227257 2665383.956799925,235434.2013922693 2665389.44556793,235156.71083201084 2665557.3742720867,235159.73086401366 2665579.514304107,234038.39915096934 2665600.902592127,233122.75729411657 2665620.3260801453,231854.60330893553 2665154.481983711,231846.37265292785 2664739.575743325,231838.9111489209 2664673.130431263,232210.23057326672 2664645.8019192377,232360.9526214071 2664642.981951235,232376.26270142134 2664616.6919032102,232501.532717538 2664587.0419831825,232617.8026696463 2664534.2657911335,232795.91134181217 2664433.50675104,233144.37380613672 2664221.892670843,233868.74782281133 2664056.2180466885,234435.86743933952 2663909.903422552,234936.71531180595 2662954.9592936626,234927.24523179713 2662745.4336614674,234927.2870877972 2662744.768573467,234881.7920477548 2662021.7248607934,234867.75019174174 2662019.919932792,234925.32203179534 2661715.339836508,234925.6983517957 2661699.123644493,235703.59646452017 2661076.435515913,235684.46264050234 2660639.143611506,235671.49764849027 2660469.2342353477,235666.35268848547 2660223.7397071193,235177.09073602984 2659806.3146827305,234334.67204724526 2659639.621946575,233998.49271893216 2659577.6219465174,233872.54263881486 2659564.371898505,233879.20273482107 2659503.2707144483,233755.89649470622 2659392.200250345,233531.7491664975 2659242.257338205,233229.15473421567 2659190.894906157,233127.55524612105 2659136.6218821066,233024.59268602513 2659046.6367300227,232875.90340588667 2658973.6119619547,232766.98270178522 2658869.685817858,232632.1879496597 2658830.1219138214,232580.87262161192 2658760.7633217564,232504.11127754042 2658649.498425653,232384.31287742883 2658569.3889855784,232308.45098935819 2658518.334137531,232261.59594931453 2658468.681913485,232220.6191812764 2658325.361977351,232105.56266916925 2658216.94047325,232029.03082909796 2658030.871865077,231899.92273297772 2657927.986872981,231828.55569291126 2657838.871864898,231766.8426688538 2657737.4170168038,231696.58551678836 2657574.478904652,231583.71575668323 2657339.8473524335,231421.26391653193 2656835.3375279633,231071.8280122065 2656819.746487949,231265.24830038665 2656668.264887808,231111.28772424324 2656565.503031712,231028.62826816627 2656498.6364716496,231035.49060417264 2656394.661943553,230963.10263610524 2656257.9585834257,230979.07652412012 2655858.813495054,231025.71703616355 2655886.85189508,230631.54513179645 2655817.029943015,230596.20138776355 2655652.4986148616,230516.11511568894 2655528.5667107464,231135.04273226537 2655225.663030464,231166.12766029433 2655256.8474144936,230891.0339000381 2654891.217974153,230880.4827320283 2654912.0842781723,231058.24580419384 2654763.1067420337,231075.73265221014 2654815.924278083,231548.72452465064 2655191.5960864327,231481.469612588 2655161.4679584047,231760.34206084773 2655081.39615033,232501.524525538 2655064.223030314,232660.48580568604 2654945.8948382037,232712.6388937346 2654920.28114218,232483.26148552098 2654886.150070148,232177.61220523634 2654751.0360860224,232193.1151812508 2654522.7242778097,232222.94826927857 2654557.458613842,232501.32394953782 2654787.5880220565,232520.44394955563 2654795.1741980636,232588.3789256189 2654748.66923802,232614.06455764282 2654685.8243099614,232698.56017372152 2654677.907509954,232720.0365257415 2654659.6127259373,232769.66558178773 2654632.309301912,232843.7326538567 2654584.9105178677,232941.98020594823 2654557.731893842,232956.43268596166 2654554.337717839,233037.0879180368 2654488.0879897773,233251.47767823644 2654340.3375896397,233415.36785438907 2654300.4023576025,233543.96766250886 2654231.775413539,234076.31454300464 2654159.6849174714,234349.91825525946 2654152.577077465,234392.09796729876 2654113.966773429,234621.2207835121 2654046.468661366,234736.13636761915 2653095.7318924805,234634.2826715243 2652007.031987467,234517.46270341548 2650672.081970223,234377.1327192848 2650221.2618738036,234328.91268723988 2650320.961969896,234140.63262306456 2651142.0474106614,233304.75511828606 2651931.856819397,233037.59083003725 2652020.6223874795,232219.7595332756 2651979.128627441,232215.78078127187 2651829.821107302,232201.47767725855 2651682.4799231645,232187.36324524542 2651657.9529471416,232181.75146924017 2651517.9736830113,232167.9977412274 2651541.6673790333,231962.44894103595 2651681.047987163,231976.29022104884 2651758.0161792347,231291.55204441113 2651808.879283282,230839.05207598972 2651610.4136190973,230814.1688759665 2651621.0761471074,230719.3064118782 2651413.324210914,230698.0413878584 2651414.431794915,230688.7058358497 2651284.1418747935,230677.88266783959 2651115.331762636,230661.8902198247 2651127.3230586476,230562.82577173243 2651215.3898747293,229835.25828305486 2651132.5019386522,229825.99261904624 2651014.491954542,229812.42269903357 2650799.411762342,229779.96522700335 2650742.7818742893,229771.47268299543 2650425.788593994,229703.48241093213 2650285.148209863,229667.90545089898 2650166.2609137525,229634.85559486822 2650187.5875057722,229537.70769077772 2650023.7254896197,229486.5382827301 2649916.5361135197,229450.6002346966 2649891.783601497,229441.96023468857 2649826.2670574356,229418.3702186666 2649791.837617404,229408.3677866573 2649762.337713376,229396.47761064622 2649729.8380013457,229382.6274986333 2649643.225521265,229349.58263460253 2649642.953009265,228630.19588193257 2649642.6052332646,227712.31760907773 2649642.3854572643,227132.02269653726 2649687.855537307,226603.7926800453 2649738.9699053545,226048.09143152778 2649361.1455210024,226004.18269548687 2647699.2019674545,225824.5926793196 2647750.1519835023,225327.83261485698 2646727.79191855,225215.08266275196 2646636.271918465,226090.25271156704 2646780.2008785987,226214.17130368244 2646857.3536466705,226281.1060877448 2646892.954542704,226312.11383177366 2646945.2881107526,226366.30698382412 2646989.5704787937,226427.2564878809 2647016.3803348187,226471.99146392255 2647044.0129748443,226518.33616796572 2647071.0977748698,226558.73808800336 2647093.0236628903,226585.77988002854 2647116.9325269125,226611.0859920521 2647137.663406932,226630.21636006993 2647218.181039007,226700.07159213498 2647293.600175077,226765.5031441959 2647415.2631511902,226871.05450429424 2647704.99319946,227122.4162965283 2647799.9732955485,227012.88618442632 2647989.033391725,227176.85623257904 2647414.66206319,227835.8027931927 2647036.3693268374,227505.79780088537 2646877.060014689,227366.39556075554 2646529.508270365,227063.70781647364 2646415.298478259,226964.51088838128 2646329.832366179,226890.2801043121 2646129.542061993,226716.33271215012 2646069.1419339366,226663.87268010125 2645876.001709757,226496.13277594507 2645635.851693533,226287.87267975108 2645648.961965545,226272.77277573704 2645424.9240773367,226078.1810315558 2645168.3419330977,225855.32279134824 2645058.8619969958,225721.07280722322 2644918.866860865,225599.21117510973 2644858.9818048095,225547.08291906118 2644636.4717246024,225353.3928068808 2644531.4518205044,225261.97264679565 2644311.9819963,225070.43242261728 2644195.2265401916,224970.7542145244 2644079.163308083,224869.8953344305 2643978.3981239893,224771.4479743388 2643878.870443897,224890.88119045005 2643830.811947852,224959.95267851435 2643823.5919798454,225065.1026306123 2643747.7719477746,225153.6927106948 2643567.591979607,224995.8327425478 2643698.891947729,224844.96272640728 2643622.1318836575,224765.9726463337 2643557.3954995973,224691.8026622646 2643196.6818992617,224302.09270990168 2642512.5631146245,223703.03658134377 2641952.781738103,224349.05258194543 2642449.0280105653,224575.11773415597 2642577.457962685,224672.90717424703 2642965.1279790457,224968.08771852194 2643191.847979257,225140.71773468272 2643088.891947161,225303.60272683442 2643036.7018671124,225402.78263092678 2643122.142123192,225455.622822976 2643630.2017716654,225841.82288733567 2643711.405995741,225887.00586337777 2643587.067819625,226044.50781552444 2643486.5878195316,226180.67779965125 2643080.5876911534,226672.77789610956 2642793.883434886,227023.6042644363 2642738.5019308347,226993.9726484087 2642708.2619308066,226969.24266438565 2642622.4919467266,226899.0626963203 2642392.321962512,227181.90263258372 2642422.9262505407,227109.08381651592 2642523.3698986345,226870.17949629342 2642632.401834736,226610.79261605183 2642727.172010824,226385.35287184187 2642792.271786885,226230.48259969766 2642852.4671149408,226087.29770356428 2642761.0880428557,226054.4476555337 2642208.431914341,225766.88272726588 2641835.162025993,225439.35248696082 2641497.9117216794,225143.96279068573 2641555.9919777336,225384.2428549095 2641134.591913341,225331.48279086038 2640702.962088939,225277.43248681002 2640213.9217044837,225216.192678753 2639656.4520079643,225143.6924546855 2638958.7219593143,225059.02250260662 2638846.9718152103,225045.0228865936 2638846.2519432097,225044.93277459353 2637802.2921342375,224914.2227584718 2637781.761958218,224911.65251846937 2637478.2217339356,225262.74269479635 2637328.291749796,225436.16272695787 2637000.0721014906,225815.79280731143 2637397.5300218607,226194.84535166447 2637638.631846085,226424.78250387858 2637880.13200631,226655.1128720931 2637902.3318143305,226655.1128720931 2637902.642086331,226655.4129040934 2638090.471846506,226655.4328720934 2638088.661926504,226853.98288827832 2638088.9117825045,226854.21277627855 2638157.221798568,226919.39242433925 2638245.3917826503,227003.49252041755 2638287.6220546896,227043.76285645505 2638400.981926795,227151.87268055574 2638644.742055022,227384.35242477228 2638844.801959208,227575.15280894996 2639045.5919753956,227766.6326171283 2639189.301671529,227903.6724892559 2639386.7161997133,228091.93693743125 2639891.7719441834,228560.12266586727 2639917.5018642074,228583.94269788946 2640019.3819283023,228473.86269778694 2640192.2018964635,228286.8626336128 2640207.062952477,228299.28784962435 2640684.361896922,228698.352681996 2640986.674089203,228745.16087403963 2641137.229481343,228857.61809014436\" opacity=\"0.8\" /></g></g></svg>"
          },
          "metadata": {
            "tags": []
          },
          "execution_count": 95
        }
      ]
    },
    {
      "cell_type": "code",
      "metadata": {
        "id": "-_8LQ2DL_Fz3",
        "colab_type": "code",
        "outputId": "a50064de-1e3a-4a01-ff76-918877a62722",
        "colab": {
          "base_uri": "https://localhost:8080/",
          "height": 435
        }
      },
      "source": [
        "import numpy as np\n",
        "import pandas as pd\n",
        "from sklearn import datasets, linear_model\n",
        "from sklearn.model_selection import train_test_split\n",
        "from matplotlib import pyplot as plt\n",
        "from sklearn import preprocessing\n",
        "\n",
        "crimeData = pd.read_csv('/content/gdrive/My Drive/data.csv')\n",
        "\n",
        "def discTime(hr):\n",
        "  if hr == '0-7':\n",
        "    return 1\n",
        "  #if hr == '8 - 15':\n",
        "  if hr == '16-23':\n",
        "    return 3\n",
        "  else:\n",
        "   return 2\n",
        "\n",
        "crimeData['Time'] = crimeData.apply(lambda row: discTime(row['Time']), axis=1)\n",
        "crimeData"
      ],
      "execution_count": 0,
      "outputs": [
        {
          "output_type": "stream",
          "text": [
            "/usr/local/lib/python3.6/dist-packages/IPython/core/interactiveshell.py:2718: DtypeWarning: Columns (0) have mixed types. Specify dtype option on import or set low_memory=False.\n",
            "  interactivity=interactivity, compiler=compiler, result=result)\n"
          ],
          "name": "stderr"
        },
        {
          "output_type": "execute_result",
          "data": {
            "text/html": [
              "<div>\n",
              "<style scoped>\n",
              "    .dataframe tbody tr th:only-of-type {\n",
              "        vertical-align: middle;\n",
              "    }\n",
              "\n",
              "    .dataframe tbody tr th {\n",
              "        vertical-align: top;\n",
              "    }\n",
              "\n",
              "    .dataframe thead th {\n",
              "        text-align: right;\n",
              "    }\n",
              "</style>\n",
              "<table border=\"1\" class=\"dataframe\">\n",
              "  <thead>\n",
              "    <tr style=\"text-align: right;\">\n",
              "      <th></th>\n",
              "      <th>District</th>\n",
              "      <th>Time</th>\n",
              "      <th>Day</th>\n",
              "      <th>Crime</th>\n",
              "    </tr>\n",
              "  </thead>\n",
              "  <tbody>\n",
              "    <tr>\n",
              "      <th>0</th>\n",
              "      <td>3</td>\n",
              "      <td>2</td>\n",
              "      <td>Sunday</td>\n",
              "      <td>animal</td>\n",
              "    </tr>\n",
              "    <tr>\n",
              "      <th>1</th>\n",
              "      <td>1</td>\n",
              "      <td>2</td>\n",
              "      <td>Tuesday</td>\n",
              "      <td>animal</td>\n",
              "    </tr>\n",
              "    <tr>\n",
              "      <th>2</th>\n",
              "      <td>2</td>\n",
              "      <td>1</td>\n",
              "      <td>Monday</td>\n",
              "      <td>animal</td>\n",
              "    </tr>\n",
              "    <tr>\n",
              "      <th>3</th>\n",
              "      <td>1</td>\n",
              "      <td>2</td>\n",
              "      <td>Saturday</td>\n",
              "      <td>animal</td>\n",
              "    </tr>\n",
              "    <tr>\n",
              "      <th>4</th>\n",
              "      <td>3</td>\n",
              "      <td>3</td>\n",
              "      <td>Wednesday</td>\n",
              "      <td>animal</td>\n",
              "    </tr>\n",
              "    <tr>\n",
              "      <th>...</th>\n",
              "      <td>...</td>\n",
              "      <td>...</td>\n",
              "      <td>...</td>\n",
              "      <td>...</td>\n",
              "    </tr>\n",
              "    <tr>\n",
              "      <th>134625</th>\n",
              "      <td>2</td>\n",
              "      <td>2</td>\n",
              "      <td>Friday</td>\n",
              "      <td>weapon</td>\n",
              "    </tr>\n",
              "    <tr>\n",
              "      <th>134626</th>\n",
              "      <td>2</td>\n",
              "      <td>2</td>\n",
              "      <td>Wednesday</td>\n",
              "      <td>weapon</td>\n",
              "    </tr>\n",
              "    <tr>\n",
              "      <th>134627</th>\n",
              "      <td>12</td>\n",
              "      <td>1</td>\n",
              "      <td>Thursday</td>\n",
              "      <td>weapon</td>\n",
              "    </tr>\n",
              "    <tr>\n",
              "      <th>134628</th>\n",
              "      <td>7</td>\n",
              "      <td>2</td>\n",
              "      <td>Tuesday</td>\n",
              "      <td>weapon</td>\n",
              "    </tr>\n",
              "    <tr>\n",
              "      <th>134629</th>\n",
              "      <td>7</td>\n",
              "      <td>1</td>\n",
              "      <td>Thursday</td>\n",
              "      <td>weapon</td>\n",
              "    </tr>\n",
              "  </tbody>\n",
              "</table>\n",
              "<p>134630 rows × 4 columns</p>\n",
              "</div>"
            ],
            "text/plain": [
              "       District  Time        Day   Crime\n",
              "0             3     2     Sunday  animal\n",
              "1             1     2    Tuesday  animal\n",
              "2             2     1     Monday  animal\n",
              "3             1     2   Saturday  animal\n",
              "4             3     3  Wednesday  animal\n",
              "...         ...   ...        ...     ...\n",
              "134625        2     2     Friday  weapon\n",
              "134626        2     2  Wednesday  weapon\n",
              "134627       12     1   Thursday  weapon\n",
              "134628        7     2    Tuesday  weapon\n",
              "134629        7     1   Thursday  weapon\n",
              "\n",
              "[134630 rows x 4 columns]"
            ]
          },
          "metadata": {
            "tags": []
          },
          "execution_count": 52
        }
      ]
    },
    {
      "cell_type": "code",
      "metadata": {
        "id": "OSO7qcLn_ZJC",
        "colab_type": "code",
        "colab": {}
      },
      "source": [
        "le = preprocessing.LabelEncoder()\n",
        "crimeData['Crime'] = le.fit_transform(crimeData['Crime'].astype(str))\n",
        "crimeData['Crime'] = le.fit_transform(crimeData['Crime'])\n",
        "\n",
        "le2 = preprocessing.LabelEncoder()\n",
        "crimeData['Day'] = le.fit_transform(crimeData['Day'].astype(str))\n",
        "crimeData['Day'] = le.fit_transform(crimeData['Day'])"
      ],
      "execution_count": 0,
      "outputs": []
    },
    {
      "cell_type": "code",
      "metadata": {
        "id": "CQfdVQQl4974",
        "colab_type": "code",
        "outputId": "8ba3fbb0-7e86-4f2b-b18b-d4db9ab283d9",
        "colab": {
          "base_uri": "https://localhost:8080/",
          "height": 50
        }
      },
      "source": [
        "y = crimeData['Crime']\n",
        "crimeData = crimeData.drop(columns= 'Crime')\n",
        "X_train, X_test, y_train, y_test = train_test_split(crimeData, y, test_size=0.2)\n",
        "print (X_train.shape, y_train.shape)\n",
        "print (X_test.shape, y_test.shape)"
      ],
      "execution_count": 0,
      "outputs": [
        {
          "output_type": "stream",
          "text": [
            "(107704, 3) (107704,)\n",
            "(26926, 3) (26926,)\n"
          ],
          "name": "stdout"
        }
      ]
    },
    {
      "cell_type": "code",
      "metadata": {
        "id": "HxAK9TEa5mmo",
        "colab_type": "code",
        "outputId": "11972b5f-d619-42f0-eb67-46666de02422",
        "colab": {
          "base_uri": "https://localhost:8080/",
          "height": 320
        }
      },
      "source": [
        "clf = linear_model.SGDClassifier()\n",
        "clf.fit(X_train, y_train)"
      ],
      "execution_count": 0,
      "outputs": [
        {
          "output_type": "error",
          "ename": "ValueError",
          "evalue": "ignored",
          "traceback": [
            "\u001b[0;31m---------------------------------------------------------------------------\u001b[0m",
            "\u001b[0;31mValueError\u001b[0m                                Traceback (most recent call last)",
            "\u001b[0;32m<ipython-input-55-a30ea13c9fba>\u001b[0m in \u001b[0;36m<module>\u001b[0;34m()\u001b[0m\n\u001b[1;32m      1\u001b[0m \u001b[0mclf\u001b[0m \u001b[0;34m=\u001b[0m \u001b[0mlinear_model\u001b[0m\u001b[0;34m.\u001b[0m\u001b[0mSGDClassifier\u001b[0m\u001b[0;34m(\u001b[0m\u001b[0;34m)\u001b[0m\u001b[0;34m\u001b[0m\u001b[0;34m\u001b[0m\u001b[0m\n\u001b[0;32m----> 2\u001b[0;31m \u001b[0mclf\u001b[0m\u001b[0;34m.\u001b[0m\u001b[0mfit\u001b[0m\u001b[0;34m(\u001b[0m\u001b[0mX_train\u001b[0m\u001b[0;34m,\u001b[0m \u001b[0my_train\u001b[0m\u001b[0;34m)\u001b[0m\u001b[0;34m\u001b[0m\u001b[0;34m\u001b[0m\u001b[0m\n\u001b[0m",
            "\u001b[0;32m/usr/local/lib/python3.6/dist-packages/sklearn/linear_model/stochastic_gradient.py\u001b[0m in \u001b[0;36mfit\u001b[0;34m(self, X, y, coef_init, intercept_init, sample_weight)\u001b[0m\n\u001b[1;32m    711\u001b[0m                          \u001b[0mloss\u001b[0m\u001b[0;34m=\u001b[0m\u001b[0mself\u001b[0m\u001b[0;34m.\u001b[0m\u001b[0mloss\u001b[0m\u001b[0;34m,\u001b[0m \u001b[0mlearning_rate\u001b[0m\u001b[0;34m=\u001b[0m\u001b[0mself\u001b[0m\u001b[0;34m.\u001b[0m\u001b[0mlearning_rate\u001b[0m\u001b[0;34m,\u001b[0m\u001b[0;34m\u001b[0m\u001b[0;34m\u001b[0m\u001b[0m\n\u001b[1;32m    712\u001b[0m                          \u001b[0mcoef_init\u001b[0m\u001b[0;34m=\u001b[0m\u001b[0mcoef_init\u001b[0m\u001b[0;34m,\u001b[0m \u001b[0mintercept_init\u001b[0m\u001b[0;34m=\u001b[0m\u001b[0mintercept_init\u001b[0m\u001b[0;34m,\u001b[0m\u001b[0;34m\u001b[0m\u001b[0;34m\u001b[0m\u001b[0m\n\u001b[0;32m--> 713\u001b[0;31m                          sample_weight=sample_weight)\n\u001b[0m\u001b[1;32m    714\u001b[0m \u001b[0;34m\u001b[0m\u001b[0m\n\u001b[1;32m    715\u001b[0m \u001b[0;34m\u001b[0m\u001b[0m\n",
            "\u001b[0;32m/usr/local/lib/python3.6/dist-packages/sklearn/linear_model/stochastic_gradient.py\u001b[0m in \u001b[0;36m_fit\u001b[0;34m(self, X, y, alpha, C, loss, learning_rate, coef_init, intercept_init, sample_weight)\u001b[0m\n\u001b[1;32m    527\u001b[0m \u001b[0;34m\u001b[0m\u001b[0m\n\u001b[1;32m    528\u001b[0m         X, y = check_X_y(X, y, 'csr', dtype=np.float64, order=\"C\",\n\u001b[0;32m--> 529\u001b[0;31m                          accept_large_sparse=False)\n\u001b[0m\u001b[1;32m    530\u001b[0m \u001b[0;34m\u001b[0m\u001b[0m\n\u001b[1;32m    531\u001b[0m         \u001b[0;31m# labels can be encoded as float, int, or string literals\u001b[0m\u001b[0;34m\u001b[0m\u001b[0;34m\u001b[0m\u001b[0;34m\u001b[0m\u001b[0m\n",
            "\u001b[0;32m/usr/local/lib/python3.6/dist-packages/sklearn/utils/validation.py\u001b[0m in \u001b[0;36mcheck_X_y\u001b[0;34m(X, y, accept_sparse, accept_large_sparse, dtype, order, copy, force_all_finite, ensure_2d, allow_nd, multi_output, ensure_min_samples, ensure_min_features, y_numeric, warn_on_dtype, estimator)\u001b[0m\n\u001b[1;32m    717\u001b[0m                     \u001b[0mensure_min_features\u001b[0m\u001b[0;34m=\u001b[0m\u001b[0mensure_min_features\u001b[0m\u001b[0;34m,\u001b[0m\u001b[0;34m\u001b[0m\u001b[0;34m\u001b[0m\u001b[0m\n\u001b[1;32m    718\u001b[0m                     \u001b[0mwarn_on_dtype\u001b[0m\u001b[0;34m=\u001b[0m\u001b[0mwarn_on_dtype\u001b[0m\u001b[0;34m,\u001b[0m\u001b[0;34m\u001b[0m\u001b[0;34m\u001b[0m\u001b[0m\n\u001b[0;32m--> 719\u001b[0;31m                     estimator=estimator)\n\u001b[0m\u001b[1;32m    720\u001b[0m     \u001b[0;32mif\u001b[0m \u001b[0mmulti_output\u001b[0m\u001b[0;34m:\u001b[0m\u001b[0;34m\u001b[0m\u001b[0;34m\u001b[0m\u001b[0m\n\u001b[1;32m    721\u001b[0m         y = check_array(y, 'csr', force_all_finite=True, ensure_2d=False,\n",
            "\u001b[0;32m/usr/local/lib/python3.6/dist-packages/sklearn/utils/validation.py\u001b[0m in \u001b[0;36mcheck_array\u001b[0;34m(array, accept_sparse, accept_large_sparse, dtype, order, copy, force_all_finite, ensure_2d, allow_nd, ensure_min_samples, ensure_min_features, warn_on_dtype, estimator)\u001b[0m\n\u001b[1;32m    494\u001b[0m             \u001b[0;32mtry\u001b[0m\u001b[0;34m:\u001b[0m\u001b[0;34m\u001b[0m\u001b[0;34m\u001b[0m\u001b[0m\n\u001b[1;32m    495\u001b[0m                 \u001b[0mwarnings\u001b[0m\u001b[0;34m.\u001b[0m\u001b[0msimplefilter\u001b[0m\u001b[0;34m(\u001b[0m\u001b[0;34m'error'\u001b[0m\u001b[0;34m,\u001b[0m \u001b[0mComplexWarning\u001b[0m\u001b[0;34m)\u001b[0m\u001b[0;34m\u001b[0m\u001b[0;34m\u001b[0m\u001b[0m\n\u001b[0;32m--> 496\u001b[0;31m                 \u001b[0marray\u001b[0m \u001b[0;34m=\u001b[0m \u001b[0mnp\u001b[0m\u001b[0;34m.\u001b[0m\u001b[0masarray\u001b[0m\u001b[0;34m(\u001b[0m\u001b[0marray\u001b[0m\u001b[0;34m,\u001b[0m \u001b[0mdtype\u001b[0m\u001b[0;34m=\u001b[0m\u001b[0mdtype\u001b[0m\u001b[0;34m,\u001b[0m \u001b[0morder\u001b[0m\u001b[0;34m=\u001b[0m\u001b[0morder\u001b[0m\u001b[0;34m)\u001b[0m\u001b[0;34m\u001b[0m\u001b[0;34m\u001b[0m\u001b[0m\n\u001b[0m\u001b[1;32m    497\u001b[0m             \u001b[0;32mexcept\u001b[0m \u001b[0mComplexWarning\u001b[0m\u001b[0;34m:\u001b[0m\u001b[0;34m\u001b[0m\u001b[0;34m\u001b[0m\u001b[0m\n\u001b[1;32m    498\u001b[0m                 raise ValueError(\"Complex data not supported\\n\"\n",
            "\u001b[0;32m/usr/local/lib/python3.6/dist-packages/numpy/core/_asarray.py\u001b[0m in \u001b[0;36masarray\u001b[0;34m(a, dtype, order)\u001b[0m\n\u001b[1;32m     83\u001b[0m \u001b[0;34m\u001b[0m\u001b[0m\n\u001b[1;32m     84\u001b[0m     \"\"\"\n\u001b[0;32m---> 85\u001b[0;31m     \u001b[0;32mreturn\u001b[0m \u001b[0marray\u001b[0m\u001b[0;34m(\u001b[0m\u001b[0ma\u001b[0m\u001b[0;34m,\u001b[0m \u001b[0mdtype\u001b[0m\u001b[0;34m,\u001b[0m \u001b[0mcopy\u001b[0m\u001b[0;34m=\u001b[0m\u001b[0;32mFalse\u001b[0m\u001b[0;34m,\u001b[0m \u001b[0morder\u001b[0m\u001b[0;34m=\u001b[0m\u001b[0morder\u001b[0m\u001b[0;34m)\u001b[0m\u001b[0;34m\u001b[0m\u001b[0;34m\u001b[0m\u001b[0m\n\u001b[0m\u001b[1;32m     86\u001b[0m \u001b[0;34m\u001b[0m\u001b[0m\n\u001b[1;32m     87\u001b[0m \u001b[0;34m\u001b[0m\u001b[0m\n",
            "\u001b[0;31mValueError\u001b[0m: could not convert string to float: 'Gainesville Police Districts'"
          ]
        }
      ]
    }
  ]
}