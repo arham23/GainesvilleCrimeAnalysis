{
  "nbformat": 4,
  "nbformat_minor": 0,
  "metadata": {
    "colab": {
      "name": "Improvements.ipynb",
      "provenance": [],
      "collapsed_sections": [
        "RMLBUG0SXLhT",
        "Z1iL192qUVQq",
        "L90NpwZNUe2y",
        "eh48d4ADjRoJ"
      ]
    },
    "kernelspec": {
      "name": "python3",
      "display_name": "Python 3"
    }
  },
  "cells": [
    {
      "cell_type": "markdown",
      "metadata": {
        "id": "fay4_epVWKn0",
        "colab_type": "text"
      },
      "source": [
        "####**Mounting the Drive**"
      ]
    },
    {
      "cell_type": "code",
      "metadata": {
        "id": "pFCi6xcFrOkl",
        "colab_type": "code",
        "outputId": "8e6116e1-c03a-4261-f026-849a2a730b84",
        "colab": {
          "base_uri": "https://localhost:8080/",
          "height": 34
        }
      },
      "source": [
        "from google.colab import drive\n",
        "drive.mount('/content/gdrive', force_remount=True)"
      ],
      "execution_count": 64,
      "outputs": [
        {
          "output_type": "stream",
          "text": [
            "Mounted at /content/gdrive\n"
          ],
          "name": "stdout"
        }
      ]
    },
    {
      "cell_type": "markdown",
      "metadata": {
        "id": "RMLBUG0SXLhT",
        "colab_type": "text"
      },
      "source": [
        "#**Pre-processing**"
      ]
    },
    {
      "cell_type": "markdown",
      "metadata": {
        "id": "eUZwX7gLXlVU",
        "colab_type": "text"
      },
      "source": [
        "#####Reading in Data"
      ]
    },
    {
      "cell_type": "code",
      "metadata": {
        "id": "hBUPtuF3rab2",
        "colab_type": "code",
        "outputId": "822ba89b-5ef8-4c96-a51a-e92467c23f2d",
        "colab": {
          "base_uri": "https://localhost:8080/",
          "height": 402
        }
      },
      "source": [
        "import pandas as pd\n",
        "ct = pd.read_csv('/content/gdrive/My Drive/groupeddata.csv')\n",
        "ct = ct.drop(columns = ['num'])\n",
        "ct"
      ],
      "execution_count": 68,
      "outputs": [
        {
          "output_type": "execute_result",
          "data": {
            "text/html": [
              "<div>\n",
              "<style scoped>\n",
              "    .dataframe tbody tr th:only-of-type {\n",
              "        vertical-align: middle;\n",
              "    }\n",
              "\n",
              "    .dataframe tbody tr th {\n",
              "        vertical-align: top;\n",
              "    }\n",
              "\n",
              "    .dataframe thead th {\n",
              "        text-align: right;\n",
              "    }\n",
              "</style>\n",
              "<table border=\"1\" class=\"dataframe\">\n",
              "  <thead>\n",
              "    <tr style=\"text-align: right;\">\n",
              "      <th></th>\n",
              "      <th>Incident Type</th>\n",
              "      <th>Offense Hour of Day</th>\n",
              "      <th>Offense Day of Week</th>\n",
              "      <th>Address</th>\n",
              "      <th>Latitude</th>\n",
              "      <th>Longitude</th>\n",
              "      <th>Gainesville Police Districts</th>\n",
              "      <th>Day</th>\n",
              "      <th>Month</th>\n",
              "      <th>Year</th>\n",
              "    </tr>\n",
              "  </thead>\n",
              "  <tbody>\n",
              "    <tr>\n",
              "      <th>0</th>\n",
              "      <td>Assault</td>\n",
              "      <td>3</td>\n",
              "      <td>Friday</td>\n",
              "      <td>1700 BLK NE 8TH AVE</td>\n",
              "      <td>29.659205</td>\n",
              "      <td>-82.303291</td>\n",
              "      <td>2</td>\n",
              "      <td>1</td>\n",
              "      <td>11</td>\n",
              "      <td>2019</td>\n",
              "    </tr>\n",
              "    <tr>\n",
              "      <th>1</th>\n",
              "      <td>Assault</td>\n",
              "      <td>23</td>\n",
              "      <td>Saturday</td>\n",
              "      <td>1300 BLK NE 39TH AVE</td>\n",
              "      <td>29.688442</td>\n",
              "      <td>-82.309008</td>\n",
              "      <td>2</td>\n",
              "      <td>2</td>\n",
              "      <td>11</td>\n",
              "      <td>2019</td>\n",
              "    </tr>\n",
              "    <tr>\n",
              "      <th>2</th>\n",
              "      <td>Assault</td>\n",
              "      <td>18</td>\n",
              "      <td>Saturday</td>\n",
              "      <td>1200 BLK W UNIVERSITY AVE</td>\n",
              "      <td>29.652073</td>\n",
              "      <td>-82.337100</td>\n",
              "      <td>1</td>\n",
              "      <td>9</td>\n",
              "      <td>11</td>\n",
              "      <td>2019</td>\n",
              "    </tr>\n",
              "    <tr>\n",
              "      <th>3</th>\n",
              "      <td>Assault</td>\n",
              "      <td>20</td>\n",
              "      <td>Monday</td>\n",
              "      <td>1700 BLK NE 8TH AVE</td>\n",
              "      <td>29.659205</td>\n",
              "      <td>-82.303291</td>\n",
              "      <td>2</td>\n",
              "      <td>4</td>\n",
              "      <td>11</td>\n",
              "      <td>2019</td>\n",
              "    </tr>\n",
              "    <tr>\n",
              "      <th>4</th>\n",
              "      <td>Assault</td>\n",
              "      <td>8</td>\n",
              "      <td>Friday</td>\n",
              "      <td>3200 BLK SW 26TH WAY</td>\n",
              "      <td>29.621999</td>\n",
              "      <td>-82.362652</td>\n",
              "      <td>3</td>\n",
              "      <td>8</td>\n",
              "      <td>11</td>\n",
              "      <td>2019</td>\n",
              "    </tr>\n",
              "    <tr>\n",
              "      <th>...</th>\n",
              "      <td>...</td>\n",
              "      <td>...</td>\n",
              "      <td>...</td>\n",
              "      <td>...</td>\n",
              "      <td>...</td>\n",
              "      <td>...</td>\n",
              "      <td>...</td>\n",
              "      <td>...</td>\n",
              "      <td>...</td>\n",
              "      <td>...</td>\n",
              "    </tr>\n",
              "    <tr>\n",
              "      <th>150257</th>\n",
              "      <td>Weapon</td>\n",
              "      <td>0</td>\n",
              "      <td>Thursday</td>\n",
              "      <td>3600 BLK SW 42ND ST</td>\n",
              "      <td>29.620927</td>\n",
              "      <td>-82.386457</td>\n",
              "      <td>12</td>\n",
              "      <td>10</td>\n",
              "      <td>5</td>\n",
              "      <td>2012</td>\n",
              "    </tr>\n",
              "    <tr>\n",
              "      <th>150258</th>\n",
              "      <td>Weapon</td>\n",
              "      <td>10</td>\n",
              "      <td>Tuesday</td>\n",
              "      <td>3800 BLK NE 39TH AVE</td>\n",
              "      <td>29.677838</td>\n",
              "      <td>-82.275376</td>\n",
              "      <td>2</td>\n",
              "      <td>18</td>\n",
              "      <td>7</td>\n",
              "      <td>2017</td>\n",
              "    </tr>\n",
              "    <tr>\n",
              "      <th>150259</th>\n",
              "      <td>Weapon</td>\n",
              "      <td>12</td>\n",
              "      <td>Friday</td>\n",
              "      <td>6900 BLK SW 21ST LN</td>\n",
              "      <td>29.634935</td>\n",
              "      <td>-82.414864</td>\n",
              "      <td>12</td>\n",
              "      <td>22</td>\n",
              "      <td>11</td>\n",
              "      <td>2013</td>\n",
              "    </tr>\n",
              "    <tr>\n",
              "      <th>150260</th>\n",
              "      <td>Weapon</td>\n",
              "      <td>20</td>\n",
              "      <td>Thursday</td>\n",
              "      <td>1100 BLK SE 15TH ST</td>\n",
              "      <td>29.641011</td>\n",
              "      <td>-82.305876</td>\n",
              "      <td>1</td>\n",
              "      <td>14</td>\n",
              "      <td>9</td>\n",
              "      <td>2017</td>\n",
              "    </tr>\n",
              "    <tr>\n",
              "      <th>150261</th>\n",
              "      <td>Weapon</td>\n",
              "      <td>17</td>\n",
              "      <td>Friday</td>\n",
              "      <td>1000 BLK NE 26TH TER</td>\n",
              "      <td>29.661053</td>\n",
              "      <td>-82.290183</td>\n",
              "      <td>2</td>\n",
              "      <td>15</td>\n",
              "      <td>6</td>\n",
              "      <td>2018</td>\n",
              "    </tr>\n",
              "  </tbody>\n",
              "</table>\n",
              "<p>150262 rows × 10 columns</p>\n",
              "</div>"
            ],
            "text/plain": [
              "       Incident Type  Offense Hour of Day Offense Day of Week  ... Day  Month  Year\n",
              "0            Assault                    3              Friday  ...   1     11  2019\n",
              "1            Assault                   23            Saturday  ...   2     11  2019\n",
              "2            Assault                   18            Saturday  ...   9     11  2019\n",
              "3            Assault                   20              Monday  ...   4     11  2019\n",
              "4            Assault                    8              Friday  ...   8     11  2019\n",
              "...              ...                  ...                 ...  ...  ..    ...   ...\n",
              "150257        Weapon                    0            Thursday  ...  10      5  2012\n",
              "150258        Weapon                   10             Tuesday  ...  18      7  2017\n",
              "150259        Weapon                   12              Friday  ...  22     11  2013\n",
              "150260        Weapon                   20            Thursday  ...  14      9  2017\n",
              "150261        Weapon                   17              Friday  ...  15      6  2018\n",
              "\n",
              "[150262 rows x 10 columns]"
            ]
          },
          "metadata": {
            "tags": []
          },
          "execution_count": 68
        }
      ]
    },
    {
      "cell_type": "code",
      "metadata": {
        "id": "5MtVCqvcroUE",
        "colab_type": "code",
        "outputId": "b73bd604-88cf-4af5-96c0-ac35422b352b",
        "colab": {
          "base_uri": "https://localhost:8080/",
          "height": 52
        }
      },
      "source": [
        "#ct2=ct.groupby('Incident Type', as_index = False)['Incident Type'].agg(['count'])\n",
        "#ct2.sort_values('count')"
      ],
      "execution_count": 70,
      "outputs": [
        {
          "output_type": "execute_result",
          "data": {
            "text/plain": [
              "count    22\n",
              "dtype: int64"
            ]
          },
          "metadata": {
            "tags": []
          },
          "execution_count": 70
        }
      ]
    },
    {
      "cell_type": "markdown",
      "metadata": {
        "id": "LRP1AZERXspR",
        "colab_type": "text"
      },
      "source": [
        "#####Encoding string values"
      ]
    },
    {
      "cell_type": "code",
      "metadata": {
        "id": "3lgQR2a7SbWR",
        "colab_type": "code",
        "colab": {
          "base_uri": "https://localhost:8080/",
          "height": 34
        },
        "outputId": "a82ac6fd-9391-4b06-b8e3-cbf113065b5a"
      },
      "source": [
        "from sklearn import preprocessing\n",
        "le = preprocessing.LabelEncoder()\n",
        "ct['Incident Type'] = le.fit_transform(ct['Incident Type'].astype(str))\n",
        "ct['Incident Type'] = le.fit_transform(ct['Incident Type'])\n",
        "\n",
        "le2 = preprocessing.LabelEncoder()\n",
        "ct['Offense Day of Week'] = le2.fit_transform(ct['Offense Day of Week'].astype(str))\n",
        "ct['Offense Day of Week'] = le2.fit_transform(ct['Offense Day of Week'])\n",
        "\n",
        "le3 = preprocessing.LabelEncoder()\n",
        "ct['Address'] = le2.fit_transform(ct['Address'].astype(str))\n",
        "ct['Address'] = le2.fit_transform(ct['Address'])\n",
        "\n",
        "ct['Incident Type'].nunique()"
      ],
      "execution_count": 71,
      "outputs": [
        {
          "output_type": "execute_result",
          "data": {
            "text/plain": [
              "22"
            ]
          },
          "metadata": {
            "tags": []
          },
          "execution_count": 71
        }
      ]
    },
    {
      "cell_type": "markdown",
      "metadata": {
        "id": "knododB4XxDA",
        "colab_type": "text"
      },
      "source": [
        "#####Dividing into train and test sets"
      ]
    },
    {
      "cell_type": "code",
      "metadata": {
        "id": "u4gIAMCtSlaC",
        "colab_type": "code",
        "colab": {
          "base_uri": "https://localhost:8080/",
          "height": 52
        },
        "outputId": "32fc0dd5-2678-4f42-ae7a-552e91598ad8"
      },
      "source": [
        "from sklearn.model_selection import train_test_split\n",
        "y = ct['Incident Type']\n",
        "ct = ct.drop(columns= 'Incident Type')\n",
        "\n",
        "X_train, X_test, y_train, y_test = train_test_split(ct, y, test_size=0.20)\n",
        "\n",
        "print (X_train.shape, y_train.shape)\n",
        "print (X_test.shape, y_test.shape)"
      ],
      "execution_count": 72,
      "outputs": [
        {
          "output_type": "stream",
          "text": [
            "(120209, 9) (120209,)\n",
            "(30053, 9) (30053,)\n"
          ],
          "name": "stdout"
        }
      ]
    },
    {
      "cell_type": "markdown",
      "metadata": {
        "id": "rOpRAOCrX2jZ",
        "colab_type": "text"
      },
      "source": [
        "#**Classification**"
      ]
    },
    {
      "cell_type": "markdown",
      "metadata": {
        "id": "QQruqvAST4T0",
        "colab_type": "text"
      },
      "source": [
        "####**SGD**"
      ]
    },
    {
      "cell_type": "markdown",
      "metadata": {
        "id": "iw71mzs9UCLw",
        "colab_type": "text"
      },
      "source": [
        "Fit"
      ]
    },
    {
      "cell_type": "code",
      "metadata": {
        "id": "V87_f08aSpx_",
        "colab_type": "code",
        "colab": {
          "base_uri": "https://localhost:8080/",
          "height": 52
        },
        "outputId": "a5556867-f8ff-4842-d9cd-43971136ae95"
      },
      "source": [
        "%%time\n",
        "from sklearn import model_selection, linear_model\n",
        "clf = linear_model.SGDClassifier(loss='log')\n",
        "clf.fit(X_train, y_train)"
      ],
      "execution_count": 73,
      "outputs": [
        {
          "output_type": "stream",
          "text": [
            "CPU times: user 3min, sys: 0 ns, total: 3min\n",
            "Wall time: 3min\n"
          ],
          "name": "stdout"
        }
      ]
    },
    {
      "cell_type": "markdown",
      "metadata": {
        "id": "A0wKTm13UFN6",
        "colab_type": "text"
      },
      "source": [
        "Accuracy"
      ]
    },
    {
      "cell_type": "code",
      "metadata": {
        "id": "XdAyHO6MTbwB",
        "colab_type": "code",
        "colab": {
          "base_uri": "https://localhost:8080/",
          "height": 34
        },
        "outputId": "5ea5be7d-825f-46e4-ddbb-dc7b667bd132"
      },
      "source": [
        "clf.score(X_test, y_test)"
      ],
      "execution_count": 74,
      "outputs": [
        {
          "output_type": "execute_result",
          "data": {
            "text/plain": [
              "0.08894286760057232"
            ]
          },
          "metadata": {
            "tags": []
          },
          "execution_count": 74
        }
      ]
    },
    {
      "cell_type": "markdown",
      "metadata": {
        "id": "jphTQB8TUIBL",
        "colab_type": "text"
      },
      "source": [
        "Confusion Matrix"
      ]
    },
    {
      "cell_type": "code",
      "metadata": {
        "id": "Y1qpRxfxTq4G",
        "colab_type": "code",
        "colab": {
          "base_uri": "https://localhost:8080/",
          "height": 404
        },
        "outputId": "05ba9f03-3e20-473a-f52f-16f30df7bfff"
      },
      "source": [
        "import numpy as np\n",
        "np.set_printoptions(threshold=np.inf, linewidth = 2026)\n",
        "from sklearn.metrics import confusion_matrix\n",
        "y_pred = clf.predict(X_test)\n",
        "confusion_matrix(y_test, y_pred)"
      ],
      "execution_count": 76,
      "outputs": [
        {
          "output_type": "execute_result",
          "data": {
            "text/plain": [
              "array([[   0,    0,    0,  296,    0,    0,    0,   15,    0,    0,    0,    0,    0,    0,    0,    0,    0,    0,    0,    0,    0,    0],\n",
              "       [   0,    0,    0, 1391,    0,    0,    0,   45,    0,    0,    0,    0,    0,    0,    0,    0,    0,    0,    0,    0,    0,    0],\n",
              "       [   0,    0,    0, 1382,    0,    0,    0,   99,    0,    0,    0,    0,    0,    0,    0,    0,    0,    0,    0,    0,    0,    0],\n",
              "       [   0,    0,    0, 2622,    0,    0,    0,   73,    0,    0,    0,    0,    0,    0,    0,    0,    0,    0,    0,    0,    0,    0],\n",
              "       [   0,    0,    0,  180,    0,    0,    0,   21,    0,    0,    0,    0,    0,    0,    0,    0,    0,    0,    0,    0,    0,    0],\n",
              "       [   0,    0,    0, 1160,    0,    0,    0,   65,    0,    0,    0,    0,    0,    0,    0,    0,    0,    0,    0,    0,    0,    0],\n",
              "       [   0,    0,    0,  222,    0,    0,    0,    8,    0,    0,    0,    0,    0,    0,    0,    0,    0,    0,    0,    0,    0,    0],\n",
              "       [   0,    0,    0, 1129,    0,    0,    0,   51,    0,    0,    0,    0,    0,    0,    0,    0,    0,    0,    0,    0,    0,    0],\n",
              "       [   0,    0,    0, 2622,    0,    0,    0,   86,    0,    0,    0,    0,    0,    0,    0,    0,    0,    0,    0,    0,    0,    0],\n",
              "       [   0,    0,    0, 1920,    0,    0,    0,  122,    0,    0,    0,    0,    0,    0,    0,    0,    0,    0,    0,    0,    0,    0],\n",
              "       [   0,    0,    0, 1213,    0,    0,    0,   48,    0,    0,    0,    0,    0,    0,    0,    0,    0,    0,    0,    0,    0,    0],\n",
              "       [   0,    0,    0,  413,    0,    0,    0,   10,    0,    0,    0,    0,    0,    0,    0,    0,    0,    0,    0,    0,    0,    0],\n",
              "       [   0,    0,    0, 1124,    0,    0,    0,   87,    0,    0,    0,    0,    0,    0,    0,    0,    0,    0,    0,    0,    0,    0],\n",
              "       [   0,    0,    0, 1903,    0,    0,    0,  110,    0,    0,    0,    0,    0,    0,    0,    0,    0,    0,    0,    0,    0,    0],\n",
              "       [   0,    0,    0,  260,    0,    0,    0,   12,    0,    0,    0,    0,    0,    0,    0,    0,    0,    0,    0,    0,    0,    0],\n",
              "       [   0,    0,    0,  890,    0,    0,    0,   31,    0,    0,    0,    0,    0,    0,    0,    0,    0,    0,    0,    0,    0,    0],\n",
              "       [   0,    0,    0, 1980,    0,    0,    0,   84,    0,    0,    0,    0,    0,    0,    0,    0,    0,    0,    0,    0,    0,    0],\n",
              "       [   0,    0,    0, 4208,    0,    0,    0,  230,    0,    0,    0,    0,    0,    0,    0,    0,    0,    0,    0,    0,    0,    0],\n",
              "       [   0,    0,    0,  727,    0,    0,    0,   42,    0,    0,    0,    0,    0,    0,    0,    0,    0,    0,    0,    0,    0,    0],\n",
              "       [   0,    0,    0, 1774,    0,    0,    0,  171,    0,    0,    0,    0,    0,    0,    0,    0,    0,    0,    0,    0,    0,    0],\n",
              "       [   0,    0,    0,  954,    0,    0,    0,   56,    0,    0,    0,    0,    0,    0,    0,    0,    0,    0,    0,    0,    0,    0],\n",
              "       [   0,    0,    0,  196,    0,    0,    0,   21,    0,    0,    0,    0,    0,    0,    0,    0,    0,    0,    0,    0,    0,    0]])"
            ]
          },
          "metadata": {
            "tags": []
          },
          "execution_count": 76
        }
      ]
    },
    {
      "cell_type": "markdown",
      "metadata": {
        "id": "wRhNGH7LUKb0",
        "colab_type": "text"
      },
      "source": [
        "####**KNN**"
      ]
    },
    {
      "cell_type": "markdown",
      "metadata": {
        "id": "akRlsZ4FUP2z",
        "colab_type": "text"
      },
      "source": [
        "Fit"
      ]
    },
    {
      "cell_type": "code",
      "metadata": {
        "id": "ecLHEc7CT1pe",
        "colab_type": "code",
        "colab": {
          "base_uri": "https://localhost:8080/",
          "height": 52
        },
        "outputId": "4c5b6994-99f3-4ec7-e331-e5be534dce19"
      },
      "source": [
        "%%time\n",
        "from sklearn import neighbors, metrics\n",
        "clf2 = neighbors.KNeighborsClassifier()\n",
        "clf2.fit(X_train, y_train)"
      ],
      "execution_count": 77,
      "outputs": [
        {
          "output_type": "stream",
          "text": [
            "CPU times: user 168 ms, sys: 5.06 ms, total: 173 ms\n",
            "Wall time: 246 ms\n"
          ],
          "name": "stdout"
        }
      ]
    },
    {
      "cell_type": "markdown",
      "metadata": {
        "id": "Cf24ZMrJURXq",
        "colab_type": "text"
      },
      "source": [
        "Accuracy"
      ]
    },
    {
      "cell_type": "code",
      "metadata": {
        "id": "7mFYQt9cUSbn",
        "colab_type": "code",
        "colab": {
          "base_uri": "https://localhost:8080/",
          "height": 34
        },
        "outputId": "24b33ec1-c917-4850-bb6e-df37df9b9e73"
      },
      "source": [
        "clf2.score(X_test, y_test)"
      ],
      "execution_count": 78,
      "outputs": [
        {
          "output_type": "execute_result",
          "data": {
            "text/plain": [
              "0.17069843276877517"
            ]
          },
          "metadata": {
            "tags": []
          },
          "execution_count": 78
        }
      ]
    },
    {
      "cell_type": "markdown",
      "metadata": {
        "id": "49R0PvC6US45",
        "colab_type": "text"
      },
      "source": [
        "Confusion Matrix"
      ]
    },
    {
      "cell_type": "code",
      "metadata": {
        "id": "jKAAUyGVVNJY",
        "colab_type": "code",
        "colab": {
          "base_uri": "https://localhost:8080/",
          "height": 404
        },
        "outputId": "2218b19f-0da5-4a3c-9a7a-1df20c598836"
      },
      "source": [
        "y_pred = clf2.predict(X_test)\n",
        "confusion_matrix(y_test, y_pred)"
      ],
      "execution_count": 79,
      "outputs": [
        {
          "output_type": "execute_result",
          "data": {
            "text/plain": [
              "array([[  15,   26,   35,   47,    3,   16,    0,   11,   42,   19,   10,    0,    3,   17,    0,    2,    9,   32,    6,   12,    6,    0],\n",
              "       [  38,  237,  133,  213,   12,   66,    8,   54,  166,   61,   43,    6,   43,   74,    3,   16,   42,  125,   19,   58,   19,    0],\n",
              "       [  44,  154,  261,  174,   13,   75,    7,   88,  164,   83,   25,    4,   19,   57,    2,    7,   39,  136,   13,   79,   37,    0],\n",
              "       [  79,  265,  262,  743,   17,  134,   24,   67,  336,  127,   58,   11,   41,   90,    1,   28,   95,  219,   17,   60,   19,    2],\n",
              "       [   6,   27,   20,   37,   15,    4,    2,    7,    7,   18,    3,    0,    5,    5,    0,    2,    5,   19,    0,   17,    2,    0],\n",
              "       [  31,  110,  143,  219,   11,   87,    9,   58,  170,   50,   41,    6,   23,   55,    1,   13,   44,   91,    7,   37,   18,    1],\n",
              "       [   7,   18,   26,   45,    1,   11,    5,    8,   36,   13,    7,    0,    7,    9,    0,    0,    7,   19,    1,    8,    2,    0],\n",
              "       [  46,  145,  168,  134,   10,   62,   10,   99,  159,   43,   22,    4,   15,   43,    2,   12,   36,   97,    8,   46,   19,    0],\n",
              "       [  81,  337,  325,  436,   12,  147,   12,  120,  541,  129,   52,   17,   37,   77,    3,   16,   86,  161,   12,   72,   35,    0],\n",
              "       [  54,  215,  248,  268,   36,   76,    6,   64,  175,  391,   43,    4,   36,   79,    2,   17,   53,  129,   32,   84,   28,    2],\n",
              "       [  31,  145,   99,  167,    8,   54,    4,   36,  108,   70,  103,    8,   17,   64,    2,    8,   57,  209,   13,   50,    6,    2],\n",
              "       [  17,   65,   48,   63,    5,   21,    1,   10,   51,   14,   15,    5,    7,   20,    0,    4,   18,   39,    3,   11,    5,    1],\n",
              "       [  27,  173,  138,  163,   19,   56,    4,   34,  144,   82,   29,    6,   54,   47,    4,    8,   43,   92,   12,   57,   19,    0],\n",
              "       [  39,  240,  210,  292,   11,   87,   13,   55,  146,   98,   78,    9,   37,  224,    2,   10,   82,  273,   15,   72,   19,    1],\n",
              "       [   7,   22,   31,   39,    3,   16,    1,    5,   35,   19,    7,    2,    6,   13,    0,    2,    9,   46,    0,    8,    0,    1],\n",
              "       [  22,  105,   98,  161,    9,   43,    5,   40,   99,   40,   32,    4,   22,   40,    2,    9,   31,   98,    7,   47,    7,    0],\n",
              "       [  53,  215,  165,  290,    9,   86,   13,   66,  185,   85,   65,    4,   32,  103,    0,   23,  153,  401,    7,   95,   13,    1],\n",
              "       [  66,  286,  309,  391,   32,  113,   11,  131,  245,  127,  127,   13,   53,  208,    7,   27,  252, 1749,   25,  245,   20,    1],\n",
              "       [  17,   76,   86,   92,    4,   40,    4,   24,   73,   75,   29,    4,   15,   34,    1,    5,   19,   73,   56,   35,    7,    0],\n",
              "       [  43,  193,  195,  204,   18,   54,    6,   57,  131,   95,   65,    2,   34,   75,    3,    9,   77,  349,   11,  312,   11,    1],\n",
              "       [  34,  106,  130,  132,    5,   40,    4,   47,  141,   57,   27,    2,   23,   33,    1,    6,   25,   69,   19,   37,   70,    2],\n",
              "       [   8,   17,   30,   33,    3,   16,    0,   12,   22,   13,    2,    0,    7,   13,    0,    0,    7,   17,    4,   11,    1,    1]])"
            ]
          },
          "metadata": {
            "tags": []
          },
          "execution_count": 79
        }
      ]
    },
    {
      "cell_type": "markdown",
      "metadata": {
        "id": "Z1iL192qUVQq",
        "colab_type": "text"
      },
      "source": [
        "####**Random Forest**"
      ]
    },
    {
      "cell_type": "markdown",
      "metadata": {
        "id": "qsabwOcXUYwK",
        "colab_type": "text"
      },
      "source": [
        "Fit"
      ]
    },
    {
      "cell_type": "code",
      "metadata": {
        "id": "nJTNdFv0UbNJ",
        "colab_type": "code",
        "colab": {
          "base_uri": "https://localhost:8080/",
          "height": 87
        },
        "outputId": "ff056ef4-ee3e-44bf-d235-affb46aebf10"
      },
      "source": [
        "%%time\n",
        "from sklearn import ensemble\n",
        "clf3 = ensemble.RandomForestClassifier()\n",
        "clf3.fit(X_train, y_train)"
      ],
      "execution_count": 80,
      "outputs": [
        {
          "output_type": "stream",
          "text": [
            "/usr/local/lib/python3.6/dist-packages/sklearn/ensemble/forest.py:245: FutureWarning: The default value of n_estimators will change from 10 in version 0.20 to 100 in 0.22.\n",
            "  \"10 in version 0.20 to 100 in 0.22.\", FutureWarning)\n"
          ],
          "name": "stderr"
        },
        {
          "output_type": "stream",
          "text": [
            "CPU times: user 3.28 s, sys: 225 ms, total: 3.51 s\n",
            "Wall time: 3.59 s\n"
          ],
          "name": "stdout"
        }
      ]
    },
    {
      "cell_type": "markdown",
      "metadata": {
        "id": "N4N7izlLUbu7",
        "colab_type": "text"
      },
      "source": [
        "Accuracy"
      ]
    },
    {
      "cell_type": "code",
      "metadata": {
        "id": "HpRZ6hNOUcr9",
        "colab_type": "code",
        "colab": {
          "base_uri": "https://localhost:8080/",
          "height": 34
        },
        "outputId": "09303c8c-1c25-4196-ff6b-af1a077fb7eb"
      },
      "source": [
        "clf3.score(X_test, y_test)"
      ],
      "execution_count": 81,
      "outputs": [
        {
          "output_type": "execute_result",
          "data": {
            "text/plain": [
              "0.20613582670615246"
            ]
          },
          "metadata": {
            "tags": []
          },
          "execution_count": 81
        }
      ]
    },
    {
      "cell_type": "markdown",
      "metadata": {
        "id": "LW7Zz66dUdJu",
        "colab_type": "text"
      },
      "source": [
        "Confusion Matrix"
      ]
    },
    {
      "cell_type": "code",
      "metadata": {
        "id": "O4fWUy7lUeZ2",
        "colab_type": "code",
        "colab": {
          "base_uri": "https://localhost:8080/",
          "height": 404
        },
        "outputId": "a622b89a-d70e-4594-cd58-0869763b971a"
      },
      "source": [
        "y_pred = clf3.predict(X_test)\n",
        "confusion_matrix(y_test, y_pred)"
      ],
      "execution_count": 82,
      "outputs": [
        {
          "output_type": "execute_result",
          "data": {
            "text/plain": [
              "array([[   5,   18,   28,   43,    1,   16,    1,   14,   56,   17,    9,    4,    8,    9,    3,    2,   11,   24,   16,   20,    6,    0],\n",
              "       [  11,  174,  100,  182,    7,   64,    4,   57,  177,  117,   73,   11,   49,  106,    2,   14,   64,  137,   17,   37,   30,    3],\n",
              "       [  18,   86,  229,  180,   12,   63,    5,   76,  200,   97,   27,    7,   43,   67,    6,   18,   54,  141,   18,   89,   44,    1],\n",
              "       [  18,  160,  191,  914,   10,  107,   16,   80,  350,  123,   69,   16,   56,  121,    5,   46,  107,  198,   28,   47,   31,    2],\n",
              "       [   2,   11,   11,   28,   27,    8,    1,    6,   14,   21,    4,    1,    7,    6,    2,    4,    9,   16,    6,   15,    2,    0],\n",
              "       [  14,   61,   89,  224,    4,  113,    5,   59,  172,   66,   48,   11,   31,   84,    2,   18,   52,   92,   19,   37,   18,    6],\n",
              "       [   4,   20,   13,   38,    0,   11,    7,   11,   51,   11,    5,    3,    3,   13,    2,    2,    6,   16,    2,    8,    1,    3],\n",
              "       [  16,   76,  138,  126,    4,   53,    4,  113,  201,   66,   16,    5,   28,   46,    4,   23,   39,  111,   18,   61,   31,    1],\n",
              "       [  28,  205,  208,  433,    9,  124,    9,  128,  696,  145,   67,   20,   90,   93,    7,   42,  101,  159,   25,   67,   48,    4],\n",
              "       [  13,  146,  135,  213,   11,   63,    7,   77,  204,  604,   40,    9,   62,   90,    6,   15,   65,  106,   42,   87,   42,    5],\n",
              "       [  11,   83,   55,  140,    7,   34,    5,   39,   92,   67,  218,   13,   19,  102,    2,   18,   82,  222,    8,   43,    1,    0],\n",
              "       [   4,   36,   20,   80,    0,   12,    5,   18,   81,   15,   18,    6,   11,   22,    2,    6,   20,   37,    6,   16,    6,    2],\n",
              "       [   7,   97,   93,  167,    7,   63,    4,   48,  186,   99,   22,    6,   88,   58,    0,   17,   40,   88,   24,   60,   36,    1],\n",
              "       [  14,  144,  100,  243,    9,   74,    4,   52,  181,  101,  120,   10,   61,  297,    3,   24,  117,  346,   19,   77,   14,    3],\n",
              "       [   3,   12,   19,   41,    0,   12,    4,    8,   33,   29,    5,    2,    4,   14,    2,    4,   14,   43,    1,   16,    6,    0],\n",
              "       [   9,   69,   58,  167,    5,   43,    6,   34,  137,   42,   32,    3,   34,   57,    6,   18,   45,  102,   14,   29,   10,    1],\n",
              "       [   9,  118,  117,  252,   14,   75,   10,   67,  193,   94,  118,   12,   48,  151,    2,   30,  216,  396,   17,  106,   16,    3],\n",
              "       [  23,  183,  165,  333,   16,  113,   10,  115,  247,  160,  176,   16,   75,  281,   13,   40,  325, 1858,   39,  216,   30,    4],\n",
              "       [   7,   43,   57,   95,    7,   39,    3,   19,   60,   98,   17,    4,   21,   32,    1,   11,   42,   49,  109,   50,    5,    0],\n",
              "       [  23,   84,  145,  182,   14,   49,    7,   72,  145,  115,   60,    8,   57,   86,    9,   23,   94,  335,   18,  396,   19,    4],\n",
              "       [  11,   52,   84,  131,    2,   43,    4,   51,  146,  101,   19,    6,   32,   41,    2,   10,   39,   86,   13,   35,   98,    4],\n",
              "       [   5,    7,   21,   20,    1,    7,    1,   15,   28,   26,    5,    1,   10,   10,    1,    3,    9,   24,    3,    7,    6,    7]])"
            ]
          },
          "metadata": {
            "tags": []
          },
          "execution_count": 82
        }
      ]
    },
    {
      "cell_type": "markdown",
      "metadata": {
        "id": "L90NpwZNUe2y",
        "colab_type": "text"
      },
      "source": [
        "####**XGB**"
      ]
    },
    {
      "cell_type": "markdown",
      "metadata": {
        "id": "s_navsRNUiiD",
        "colab_type": "text"
      },
      "source": [
        "Fit"
      ]
    },
    {
      "cell_type": "code",
      "metadata": {
        "id": "-zQgoBumUjvt",
        "colab_type": "code",
        "colab": {
          "base_uri": "https://localhost:8080/",
          "height": 52
        },
        "outputId": "94acc577-5fa4-4d62-a78f-69d615209fd5"
      },
      "source": [
        "%%time\n",
        "import xgboost as xgb\n",
        "clf4 = xgb.XGBClassifier()\n",
        "clf4.fit(X_train, y_train)"
      ],
      "execution_count": 83,
      "outputs": [
        {
          "output_type": "stream",
          "text": [
            "CPU times: user 1min 51s, sys: 161 ms, total: 1min 51s\n",
            "Wall time: 1min 52s\n"
          ],
          "name": "stdout"
        }
      ]
    },
    {
      "cell_type": "markdown",
      "metadata": {
        "id": "MgyEY4sTUkHe",
        "colab_type": "text"
      },
      "source": [
        "Accuracy"
      ]
    },
    {
      "cell_type": "code",
      "metadata": {
        "id": "QAZ6HJroUnJn",
        "colab_type": "code",
        "colab": {
          "base_uri": "https://localhost:8080/",
          "height": 34
        },
        "outputId": "26b5ab50-0d60-4d28-8f48-6fd67fce3285"
      },
      "source": [
        "clf4.score(X_test, y_test)"
      ],
      "execution_count": 84,
      "outputs": [
        {
          "output_type": "execute_result",
          "data": {
            "text/plain": [
              "0.23075899244667752"
            ]
          },
          "metadata": {
            "tags": []
          },
          "execution_count": 84
        }
      ]
    },
    {
      "cell_type": "markdown",
      "metadata": {
        "id": "juVyCTXBUnZ1",
        "colab_type": "text"
      },
      "source": [
        "Confusion Matrix"
      ]
    },
    {
      "cell_type": "code",
      "metadata": {
        "id": "rLHZYuHcUpV2",
        "colab_type": "code",
        "colab": {
          "base_uri": "https://localhost:8080/",
          "height": 404
        },
        "outputId": "2cf277c8-91d4-4ddd-f780-c13eaca3e797"
      },
      "source": [
        "y_pred = clf4.predict(X_test)\n",
        "confusion_matrix(y_test, y_pred)"
      ],
      "execution_count": 85,
      "outputs": [
        {
          "output_type": "execute_result",
          "data": {
            "text/plain": [
              "array([[   0,    0,   19,   35,    0,    0,    0,    0,   95,   29,    0,    0,    0,    3,    0,    0,    1,   98,   12,   17,    2,    0],\n",
              "       [   0,   12,   41,  162,    4,    2,    0,    7,  320,  121,   47,    0,   63,   46,    0,    0,    6,  526,   18,   55,    6,    0],\n",
              "       [   0,    1,  179,  188,    2,    0,    0,    1,  387,  127,   25,    0,    0,   23,    0,    0,    0,  432,   27,   71,   18,    0],\n",
              "       [   0,    0,   39,  820,    1,    1,    0,    1,  732,  146,   41,    0,    3,   37,    0,    0,   20,  757,   35,   61,    1,    0],\n",
              "       [   0,    0,    7,   37,    5,    0,    0,    0,   34,   28,    0,    0,    0,    0,    0,    0,    0,   49,    3,   38,    0,    0],\n",
              "       [   0,    0,   52,  254,    0,    1,    0,    0,  352,   85,   27,    0,    0,   46,    0,    0,    4,  319,   23,   60,    2,    0],\n",
              "       [   0,    0,    1,   52,    0,    0,    0,    0,   81,   12,    4,    0,    0,    1,    0,    0,    1,   68,    2,    8,    0,    0],\n",
              "       [   0,    2,   54,  143,    2,    1,    0,   15,  400,   50,   12,    0,    2,    9,    0,    0,    2,  410,   12,   52,   14,    0],\n",
              "       [   0,    2,   45,  416,    0,    2,    0,    9, 1296,  132,   45,    0,    6,   31,    0,    0,    3,  650,   17,   49,    5,    0],\n",
              "       [   0,    4,   47,  214,    4,    1,    0,    4,  412,  653,   36,    0,   25,   39,    0,    0,    7,  469,   31,   92,    4,    0],\n",
              "       [   0,    3,    7,   84,    0,    0,    0,    1,  186,   59,  165,    0,    6,   94,    0,    0,   15,  591,    4,   46,    0,    0],\n",
              "       [   0,    1,    4,   72,    0,    1,    0,    0,  111,   22,   15,    0,    4,   16,    0,    0,    2,  153,    6,   16,    0,    0],\n",
              "       [   0,    1,   44,  197,    6,    1,    0,    1,  337,  109,   12,    0,   52,   21,    0,    0,    5,  324,   23,   70,    8,    0],\n",
              "       [   0,    1,   48,  268,    1,    3,    0,    1,  268,   88,   43,    0,   60,  229,    0,    0,   11,  899,   14,   78,    1,    0],\n",
              "       [   0,    0,   11,   48,    0,    0,    0,    0,   57,   39,    3,    0,    0,    3,    0,    0,    0,   84,    3,   24,    0,    0],\n",
              "       [   0,    1,   18,  162,    1,    1,    0,    1,  252,   43,   24,    0,    7,   14,    0,    0,    6,  349,   13,   29,    0,    0],\n",
              "       [   0,    2,   43,  281,    0,    1,    0,    1,  294,  109,   53,    0,    2,   44,    0,    0,   38, 1090,   23,   82,    1,    0],\n",
              "       [   0,    0,   73,  323,    5,    2,    0,    2,  488,  133,   69,    0,    4,  198,    0,    0,   25, 2862,   28,  223,    3,    0],\n",
              "       [   0,    0,   24,  114,    0,    0,    0,    0,  130,  129,   21,    0,    1,   23,    0,    0,    5,  145,  125,   51,    1,    0],\n",
              "       [   0,    0,   67,  190,    7,    0,    0,    2,  291,  124,   13,    0,    1,   21,    0,    0,    4,  778,   17,  427,    3,    0],\n",
              "       [   0,   12,   31,  159,    0,    0,    0,    5,  306,  110,   12,    0,    9,   11,    0,    0,    0,  245,   17,   37,   56,    0],\n",
              "       [   0,    0,    9,   29,    0,    0,    0,    2,   79,   26,    1,    0,    0,    8,    0,    0,    0,   49,    4,   10,    0,    0]])"
            ]
          },
          "metadata": {
            "tags": []
          },
          "execution_count": 85
        }
      ]
    },
    {
      "cell_type": "markdown",
      "metadata": {
        "id": "QbAN7fxtUp_f",
        "colab_type": "text"
      },
      "source": [
        "####**LightGBM**"
      ]
    },
    {
      "cell_type": "markdown",
      "metadata": {
        "id": "LJRyPzxeUtO-",
        "colab_type": "text"
      },
      "source": [
        "Fit"
      ]
    },
    {
      "cell_type": "code",
      "metadata": {
        "id": "HrrZqJItUuoO",
        "colab_type": "code",
        "colab": {
          "base_uri": "https://localhost:8080/",
          "height": 52
        },
        "outputId": "b2b5e9f3-586e-4901-84e4-9fb3c403a813"
      },
      "source": [
        "%%time\n",
        "import lightgbm as lgb\n",
        "clf5 = lgb.LGBMClassifier()\n",
        "clf5.fit(X_train, y_train)"
      ],
      "execution_count": 86,
      "outputs": [
        {
          "output_type": "stream",
          "text": [
            "CPU times: user 27.3 s, sys: 209 ms, total: 27.5 s\n",
            "Wall time: 27.6 s\n"
          ],
          "name": "stdout"
        }
      ]
    },
    {
      "cell_type": "markdown",
      "metadata": {
        "id": "EFLeo6iPUvB_",
        "colab_type": "text"
      },
      "source": [
        "Accuracy"
      ]
    },
    {
      "cell_type": "code",
      "metadata": {
        "id": "CZdIVxpzUwkW",
        "colab_type": "code",
        "colab": {
          "base_uri": "https://localhost:8080/",
          "height": 34
        },
        "outputId": "c9417112-71d1-43aa-aac6-e0c77d9e08a3"
      },
      "source": [
        "clf5.score(X_test, y_test)"
      ],
      "execution_count": 87,
      "outputs": [
        {
          "output_type": "execute_result",
          "data": {
            "text/plain": [
              "0.26004059494892356"
            ]
          },
          "metadata": {
            "tags": []
          },
          "execution_count": 87
        }
      ]
    },
    {
      "cell_type": "markdown",
      "metadata": {
        "id": "ffWDYiy-Uw6P",
        "colab_type": "text"
      },
      "source": [
        "Confusion Matrix"
      ]
    },
    {
      "cell_type": "code",
      "metadata": {
        "id": "s8NhCLlSU0hz",
        "colab_type": "code",
        "colab": {
          "base_uri": "https://localhost:8080/",
          "height": 404
        },
        "outputId": "f9a9e488-aac6-45a2-bcf7-9c2a7abb144c"
      },
      "source": [
        "y_pred = clf5.predict(X_test)\n",
        "confusion_matrix(y_test, y_pred)"
      ],
      "execution_count": 88,
      "outputs": [
        {
          "output_type": "execute_result",
          "data": {
            "text/plain": [
              "array([[   0,    2,   16,   39,    0,    0,    0,    2,  109,   30,    0,    0,    2,    4,    0,    0,    5,   53,   10,   31,    8,    0],\n",
              "       [   0,   78,   56,  203,    2,    7,    0,   28,  356,  123,   56,    0,   37,   80,    0,    0,   25,  282,   18,   68,   17,    0],\n",
              "       [   1,   19,  176,  194,    2,    8,    4,   26,  422,  129,   23,    1,    4,   43,    0,    0,   11,  239,   25,  118,   35,    1],\n",
              "       [   0,    7,   35, 1025,    2,   20,    4,    5,  810,  156,   50,    0,    4,   50,    0,    0,   42,  385,   31,   64,    3,    2],\n",
              "       [   0,    0,    9,   38,   18,    1,    1,    3,   34,   29,    0,    0,    1,    3,    1,    0,    3,   28,    4,   28,    0,    0],\n",
              "       [   1,    5,   46,  274,    1,   13,    0,    9,  397,   90,   31,    1,    0,   47,    0,    1,   12,  197,   27,   65,    6,    2],\n",
              "       [   0,    2,    2,   61,    0,    1,    3,    0,   90,   12,    4,    0,    0,    5,    0,    0,    5,   34,    3,    8,    0,    0],\n",
              "       [   0,   16,   63,  161,    2,    5,    1,   77,  421,   67,   16,    0,    0,   29,    1,    0,   16,  195,   13,   69,   28,    0],\n",
              "       [   1,   22,   39,  449,    0,   12,    2,   31, 1502,  141,   49,    3,    9,   45,    0,    1,   26,  284,   17,   66,    8,    1],\n",
              "       [   0,   32,   38,  238,    9,    2,    0,   25,  410,  728,   42,    0,   16,   60,    1,    1,   15,  250,   52,  113,    9,    1],\n",
              "       [   1,   14,    7,   93,    0,    1,    0,    2,  208,   65,  217,    1,    3,   93,    0,    0,   35,  445,    3,   72,    1,    0],\n",
              "       [   0,    3,    3,   94,    0,    1,    0,    4,  139,   23,   17,    0,    1,   23,    0,    0,    7,   85,    5,   17,    1,    0],\n",
              "       [   0,   28,   39,  202,    9,    5,    1,    7,  346,  130,   20,    0,   46,   49,    0,    0,   13,  182,   28,   83,   20,    3],\n",
              "       [   1,   23,   57,  287,    1,   11,    1,    9,  309,   95,   60,    1,   28,  312,    0,    1,   43,  639,   11,  121,    3,    0],\n",
              "       [   0,    3,   14,   45,    0,    1,    0,    0,   64,   40,    3,    0,    0,    5,    1,    0,    2,   58,    4,   31,    1,    0],\n",
              "       [   0,   12,   18,  207,    1,    4,    1,   13,  267,   48,   34,    1,    6,   29,    0,    2,   14,  196,   11,   53,    4,    0],\n",
              "       [   0,   13,   43,  332,    2,   11,    2,    6,  333,  122,   86,    0,    2,   99,    0,    1,  118,  733,   22,  136,    3,    0],\n",
              "       [   0,   18,   63,  355,    6,    9,    2,   11,  495,  136,   83,    0,    8,  211,    2,    1,   65, 2623,   30,  315,    5,    0],\n",
              "       [   0,    4,   26,  128,    0,    1,    2,    1,  117,  121,   21,    0,    2,   21,    0,    1,    9,   90,  153,   69,    2,    1],\n",
              "       [   0,    9,   62,  160,    9,    5,    0,    6,  310,  113,   21,    0,    5,   40,    2,    0,   25,  540,   20,  614,    3,    1],\n",
              "       [   0,   12,   31,  148,    0,    2,    1,   23,  311,  129,   11,    0,    5,   20,    0,    0,    6,  138,   16,   48,  108,    1],\n",
              "       [   0,    1,   11,   28,    1,    0,    1,    6,   78,   33,    1,    0,    0,   15,    0,    0,    1,   27,    4,    9,    0,    1]])"
            ]
          },
          "metadata": {
            "tags": []
          },
          "execution_count": 88
        }
      ]
    },
    {
      "cell_type": "markdown",
      "metadata": {
        "id": "PKT6nEIPU5mU",
        "colab_type": "text"
      },
      "source": [
        "####**MLP**"
      ]
    },
    {
      "cell_type": "markdown",
      "metadata": {
        "id": "cs-9gAwbU8Mn",
        "colab_type": "text"
      },
      "source": [
        "Fit"
      ]
    },
    {
      "cell_type": "code",
      "metadata": {
        "id": "TB_Jt9q2U8zP",
        "colab_type": "code",
        "colab": {
          "base_uri": "https://localhost:8080/",
          "height": 52
        },
        "outputId": "4206c74a-76f7-4607-a79c-717af4bd5d23"
      },
      "source": [
        "%%time\n",
        "from sklearn import neural_network\n",
        "clf6 = neural_network.MLPClassifier()\n",
        "clf6.fit(X_train, y_train)"
      ],
      "execution_count": 89,
      "outputs": [
        {
          "output_type": "stream",
          "text": [
            "CPU times: user 3min 47s, sys: 1min 57s, total: 5min 45s\n",
            "Wall time: 2min 53s\n"
          ],
          "name": "stdout"
        }
      ]
    },
    {
      "cell_type": "markdown",
      "metadata": {
        "id": "kWsx70MkU9LO",
        "colab_type": "text"
      },
      "source": [
        "Accuracy"
      ]
    },
    {
      "cell_type": "code",
      "metadata": {
        "id": "eu-8v7u8U95Q",
        "colab_type": "code",
        "colab": {
          "base_uri": "https://localhost:8080/",
          "height": 34
        },
        "outputId": "0329b989-de48-4719-c096-a63bc0124f88"
      },
      "source": [
        "clf6.score(X_test, y_test)"
      ],
      "execution_count": 90,
      "outputs": [
        {
          "output_type": "execute_result",
          "data": {
            "text/plain": [
              "0.14780554353974645"
            ]
          },
          "metadata": {
            "tags": []
          },
          "execution_count": 90
        }
      ]
    },
    {
      "cell_type": "markdown",
      "metadata": {
        "id": "IWMi1ciyU-dn",
        "colab_type": "text"
      },
      "source": [
        "Confusion Matrix"
      ]
    },
    {
      "cell_type": "code",
      "metadata": {
        "id": "WSbqNJp1VANm",
        "colab_type": "code",
        "colab": {
          "base_uri": "https://localhost:8080/",
          "height": 404
        },
        "outputId": "03a13441-112f-4e6a-b00e-064177faa1c0"
      },
      "source": [
        "y_pred = clf6.predict(X_test)\n",
        "confusion_matrix(y_test, y_pred)"
      ],
      "execution_count": 92,
      "outputs": [
        {
          "output_type": "execute_result",
          "data": {
            "text/plain": [
              "array([[   0,    0,   87,    0,    0,   16,    0,    0,    0,    5,  191,    0,    0,    1,    0,    0,    3,    0,    0,    6,    2,    0],\n",
              "       [   0,    4,  376,    0,    0,   62,    0,    0,    0,   21,  910,    0,    0,    0,    0,    0,   18,    0,    1,   34,    7,    3],\n",
              "       [   0,    6,  462,    0,    0,   71,    0,    0,    0,   34,  810,    0,    0,    2,    0,    0,   23,    0,    0,   52,   11,   10],\n",
              "       [   2,    6,  641,    0,    0,  124,    0,    0,    0,   44, 1750,    0,    0,    0,    0,    0,   42,    0,    0,   60,   24,    2],\n",
              "       [   0,    1,   55,    0,    0,   10,    0,    0,    0,    7,  113,    0,    0,    0,    0,    0,    4,    0,    0,   10,    1,    0],\n",
              "       [   1,    6,  324,    0,    0,   54,    0,    0,    0,   26,  741,    0,    0,    0,    0,    0,   24,    0,    0,   33,   12,    4],\n",
              "       [   0,    0,   51,    0,    0,    4,    0,    0,    0,    6,  152,    0,    0,    0,    0,    0,    3,    0,    0,   10,    3,    1],\n",
              "       [   0,    1,  355,    0,    0,   65,    0,    0,    0,   14,  686,    0,    0,    0,    0,    0,   14,    0,    0,   36,    7,    2],\n",
              "       [   1,    4,  705,    0,    0,  101,    0,    0,    0,   42, 1737,    0,    0,    0,    0,    0,   23,    0,    0,   71,   19,    5],\n",
              "       [   0,    0,  581,    0,    0,   98,    0,    0,    0,   41, 1211,    0,    0,   10,    0,    0,   18,    0,    0,   71,   10,    2],\n",
              "       [   1,    1,  216,    0,    0,   43,    0,    0,    0,   20,  920,    0,    0,    1,    0,    0,   22,    0,    0,   32,    1,    4],\n",
              "       [   2,    3,   84,    0,    0,   14,    0,    0,    0,    9,  293,    0,    0,    1,    0,    0,    7,    0,    0,    9,    1,    0],\n",
              "       [   0,    0,  345,    0,    0,   52,    0,    0,    0,   26,  710,    0,    0,    1,    0,    0,   10,    0,    0,   55,    7,    5],\n",
              "       [   1,    1,  497,    0,    0,   68,    0,    0,    0,   40, 1290,    0,    0,    0,    0,    0,   33,    0,    0,   68,    7,    8],\n",
              "       [   0,    5,   75,    0,    0,    9,    0,    0,    0,    3,  161,    0,    0,    1,    0,    0,    3,    0,    0,   12,    3,    0],\n",
              "       [   0,    1,  231,    0,    0,   28,    0,    0,    0,   14,  600,    0,    0,    0,    0,    0,   17,    0,    0,   22,    6,    2],\n",
              "       [   0,    9,  504,    0,    0,   87,    0,    0,    0,   26, 1354,    0,    0,    0,    0,    0,   22,    0,    0,   47,    9,    6],\n",
              "       [   1,    1, 1230,    0,    0,  158,    0,    0,    0,   77, 2747,    0,    0,    3,    0,    0,   52,    0,    0,  148,    9,   12],\n",
              "       [   0,    1,  189,    0,    0,   27,    0,    0,    0,   18,  488,    0,    0,    0,    0,    0,    7,    0,    0,   32,    3,    4],\n",
              "       [   0,    1,  596,    0,    0,   76,    0,    0,    0,   31, 1088,    0,    0,    2,    0,    0,   17,    0,    0,  125,    3,    6],\n",
              "       [   0,    1,  327,    0,    0,   33,    0,    0,    0,   21,  573,    0,    0,    0,    0,    0,   10,    0,    0,   32,    8,    5],\n",
              "       [   0,    1,   60,    0,    0,   14,    0,    0,    0,    6,  120,    0,    0,    1,    0,    0,    4,    0,    0,    8,    1,    2]])"
            ]
          },
          "metadata": {
            "tags": []
          },
          "execution_count": 92
        }
      ]
    },
    {
      "cell_type": "markdown",
      "metadata": {
        "id": "ia60FmG7hysa",
        "colab_type": "text"
      },
      "source": [
        "###**Parameter tuning**"
      ]
    },
    {
      "cell_type": "markdown",
      "metadata": {
        "id": "NOSFyMwQnJvW",
        "colab_type": "text"
      },
      "source": [
        "Manual"
      ]
    },
    {
      "cell_type": "code",
      "metadata": {
        "id": "Nym5MeqccrSu",
        "colab_type": "code",
        "colab": {
          "base_uri": "https://localhost:8080/",
          "height": 52
        },
        "outputId": "7d512369-5e0b-4d93-f335-ec92c3235262"
      },
      "source": [
        "%%time\n",
        "import lightgbm as lgb\n",
        "clf5 = lgb.LGBMClassifier(boosting_type='dart', num_leaves=40, max_depth=7, learning_rate=0.4, n_estimators=100, max_bin=500, objective='multiclass', min_data_in_leaf = 20)\n",
        "clf5.fit(X_train, y_train)"
      ],
      "execution_count": 121,
      "outputs": [
        {
          "output_type": "stream",
          "text": [
            "CPU times: user 1min 35s, sys: 176 ms, total: 1min 36s\n",
            "Wall time: 1min 36s\n"
          ],
          "name": "stdout"
        }
      ]
    },
    {
      "cell_type": "code",
      "metadata": {
        "id": "wQVxMdCDcsXm",
        "colab_type": "code",
        "colab": {
          "base_uri": "https://localhost:8080/",
          "height": 34
        },
        "outputId": "91b5c985-9607-4b05-8299-01339e6658b9"
      },
      "source": [
        "clf5.score(X_test, y_test)"
      ],
      "execution_count": 120,
      "outputs": [
        {
          "output_type": "execute_result",
          "data": {
            "text/plain": [
              "0.25375170532060026"
            ]
          },
          "metadata": {
            "tags": []
          },
          "execution_count": 120
        }
      ]
    },
    {
      "cell_type": "markdown",
      "metadata": {
        "id": "eh48d4ADjRoJ",
        "colab_type": "text"
      },
      "source": [
        "#####Trying different resampling techniques"
      ]
    },
    {
      "cell_type": "code",
      "metadata": {
        "id": "QiH8Y8pciPoB",
        "colab_type": "code",
        "colab": {
          "base_uri": "https://localhost:8080/",
          "height": 72
        },
        "outputId": "6efc0aa0-304b-4ee4-f46a-04aa79fbb68c"
      },
      "source": [
        "from imblearn.over_sampling import RandomOverSampler\n",
        "ros = RandomOverSampler(random_state=0)\n",
        "X_resampled, y_resampled = ros.fit_resample(X_train, y_train)"
      ],
      "execution_count": 95,
      "outputs": [
        {
          "output_type": "stream",
          "text": [
            "/usr/local/lib/python3.6/dist-packages/sklearn/externals/six.py:31: DeprecationWarning: The module is deprecated in version 0.21 and will be removed in version 0.23 since we've dropped support for Python 2.7. Please rely on the official version of six (https://pypi.org/project/six/).\n",
            "  \"(https://pypi.org/project/six/).\", DeprecationWarning)\n"
          ],
          "name": "stderr"
        }
      ]
    },
    {
      "cell_type": "code",
      "metadata": {
        "id": "7EKq1sGGiSVO",
        "colab_type": "code",
        "colab": {
          "base_uri": "https://localhost:8080/",
          "height": 34
        },
        "outputId": "d332dcf4-01c6-4fbb-9624-2ff4b326dd2f"
      },
      "source": [
        "clf5 = lgb.LGBMClassifier()\n",
        "clf5.fit(X_resampled, y_resampled)\n",
        "clf5.score(X_test, y_test)"
      ],
      "execution_count": 96,
      "outputs": [
        {
          "output_type": "execute_result",
          "data": {
            "text/plain": [
              "0.20114464446145144"
            ]
          },
          "metadata": {
            "tags": []
          },
          "execution_count": 96
        }
      ]
    },
    {
      "cell_type": "code",
      "metadata": {
        "id": "FnB1c1e6ivWy",
        "colab_type": "code",
        "colab": {}
      },
      "source": [
        "from imblearn.under_sampling import RandomUnderSampler\n",
        "res = RandomUnderSampler()\n",
        "X_res, y_res = res.fit_resample(X_train, y_train)"
      ],
      "execution_count": 0,
      "outputs": []
    },
    {
      "cell_type": "code",
      "metadata": {
        "id": "N0luw1BmizDk",
        "colab_type": "code",
        "colab": {
          "base_uri": "https://localhost:8080/",
          "height": 34
        },
        "outputId": "3119aea9-4a32-4eb7-a492-84f65a234c71"
      },
      "source": [
        "clf5 = lgb.LGBMClassifier()\n",
        "clf5.fit(X_res, y_res)\n",
        "clf5.score(X_test, y_test)"
      ],
      "execution_count": 99,
      "outputs": [
        {
          "output_type": "execute_result",
          "data": {
            "text/plain": [
              "0.15659002429042027"
            ]
          },
          "metadata": {
            "tags": []
          },
          "execution_count": 99
        }
      ]
    },
    {
      "cell_type": "code",
      "metadata": {
        "id": "q7sMUfG5jEeS",
        "colab_type": "code",
        "colab": {}
      },
      "source": [
        "from imblearn.over_sampling import SMOTE, ADASYN\n",
        "X_resampled, y_resampled = SMOTE().fit_resample(X_train, y_train)"
      ],
      "execution_count": 0,
      "outputs": []
    },
    {
      "cell_type": "code",
      "metadata": {
        "id": "hAnERuITjF0R",
        "colab_type": "code",
        "colab": {
          "base_uri": "https://localhost:8080/",
          "height": 34
        },
        "outputId": "c298b3d5-6ba0-4dc8-91fa-517a8dfe6cff"
      },
      "source": [
        "clf5 = lgb.LGBMClassifier()\n",
        "clf5.fit(X_resampled, y_resampled)\n",
        "clf5.score(X_test, y_test)"
      ],
      "execution_count": 101,
      "outputs": [
        {
          "output_type": "execute_result",
          "data": {
            "text/plain": [
              "0.25075699597377965"
            ]
          },
          "metadata": {
            "tags": []
          },
          "execution_count": 101
        }
      ]
    },
    {
      "cell_type": "code",
      "metadata": {
        "id": "IJYpHjTXjq4W",
        "colab_type": "code",
        "colab": {
          "base_uri": "https://localhost:8080/",
          "height": 404
        },
        "outputId": "185469f2-ca29-49d0-c07e-687ef3ea61f6"
      },
      "source": [
        "y_pred = clf5.predict(X_test)\n",
        "confusion_matrix(y_test, y_pred)"
      ],
      "execution_count": 102,
      "outputs": [
        {
          "output_type": "execute_result",
          "data": {
            "text/plain": [
              "array([[   2,    3,   15,   35,    1,    2,    2,    2,   99,   23,    3,    1,    1,    5,    0,    0,    5,   53,   20,   28,   11,    0],\n",
              "       [   0,   92,   45,  175,   17,   13,   22,   38,  306,  106,   83,    4,   48,   68,    0,    2,   23,  265,   32,   63,   27,    7],\n",
              "       [   9,   26,  170,  176,   23,   17,   17,   31,  358,  116,   38,    5,    8,   37,    7,    2,   10,  226,   61,   90,   46,    8],\n",
              "       [   5,    7,   30,  960,   32,   40,   29,   13,  671,  150,   89,    7,    9,   45,    7,    3,   35,  403,   78,   60,   11,   11],\n",
              "       [   0,    0,    7,   31,   38,    4,    0,    2,   28,   26,    1,    1,    0,    2,    2,    2,    5,   23,    8,   18,    1,    2],\n",
              "       [   2,    8,   40,  240,   25,   30,    6,   10,  341,   86,   51,    4,    4,   40,    4,    2,   11,  205,   47,   51,   10,    8],\n",
              "       [   1,    3,    2,   52,    2,    1,   10,    1,   85,   11,   12,    0,    0,    3,    0,    0,    3,   34,    3,    6,    0,    1],\n",
              "       [   4,   17,   50,  149,   17,   14,   15,   94,  376,   52,   16,    7,    2,   20,    3,    3,   14,  187,   28,   65,   42,    5],\n",
              "       [   5,   30,   46,  453,   12,   14,   25,   41, 1307,  168,   84,   11,    9,   34,    4,    5,   17,  300,   48,   61,   20,   14],\n",
              "       [   0,   30,   38,  204,   48,   10,    5,   22,  336,  707,   73,    7,   19,   45,    3,    3,   15,  246,   84,  103,   30,   14],\n",
              "       [   0,   13,   13,   93,    8,    2,   14,    5,  175,   56,  288,    2,    4,   83,    0,    2,   34,  398,    6,   59,    4,    2],\n",
              "       [   4,    9,    4,   86,    5,    2,    4,    3,  125,   22,   24,    0,    1,   13,    0,    3,    4,   84,    9,   18,    1,    2],\n",
              "       [   0,   31,   31,  190,   37,    9,   14,    7,  308,  109,   37,    1,   51,   31,    6,    3,   13,  179,   48,   71,   28,    7],\n",
              "       [   6,   25,   49,  253,   18,   13,   13,   14,  288,   88,  103,    5,   33,  289,    5,    3,   43,  610,   29,  112,    8,    6],\n",
              "       [   1,    1,   11,   44,    2,    4,    2,    1,   55,   32,    3,    0,    0,    5,    4,    0,    4,   61,    8,   30,    4,    0],\n",
              "       [   1,   17,   20,  181,   11,   12,   11,   13,  250,   36,   51,    5,    7,   25,    3,    4,    8,  191,   22,   45,    8,    0],\n",
              "       [   2,   18,   40,  263,   29,   22,   16,   13,  314,  106,  132,    5,    7,   60,    2,    3,  104,  755,   41,  110,    5,   17],\n",
              "       [   5,   24,   45,  299,   55,   10,   23,   21,  471,  133,  166,    1,   10,  208,   10,    4,   57, 2482,   55,  332,   22,    5],\n",
              "       [   1,    6,   21,  112,   12,    7,    3,    1,  107,  100,   30,    1,    1,   12,    3,    1,    7,   91,  190,   58,    2,    3],\n",
              "       [   5,    6,   57,  160,   39,   12,    5,   12,  270,   88,   45,    1,    6,   32,    6,    5,   29,  516,   54,  578,   12,    7],\n",
              "       [   2,   13,   36,  139,    9,    6,    4,   25,  265,  110,   17,    1,   11,   16,    3,    2,    4,  130,   43,   44,  123,    7],\n",
              "       [   1,    1,    9,   30,    3,    0,    0,    7,   67,   28,    5,    0,    0,    3,    0,    1,    1,   32,    7,    8,    1,   13]])"
            ]
          },
          "metadata": {
            "tags": []
          },
          "execution_count": 102
        }
      ]
    },
    {
      "cell_type": "code",
      "metadata": {
        "id": "r0Mds01-kuiG",
        "colab_type": "code",
        "colab": {}
      },
      "source": [
        "from imblearn.combine import SMOTEENN\n",
        "smote_enn = SMOTEENN(random_state=0)\n",
        "X_resampled, y_resampled = smote_enn.fit_resample(X_train, y_train)"
      ],
      "execution_count": 0,
      "outputs": []
    },
    {
      "cell_type": "code",
      "metadata": {
        "id": "1zR8G6VqlOQ4",
        "colab_type": "code",
        "colab": {
          "base_uri": "https://localhost:8080/",
          "height": 34
        },
        "outputId": "11d6c6e6-963f-4bed-e144-0feefcce816b"
      },
      "source": [
        "clf5 = lgb.LGBMClassifier()\n",
        "clf5.fit(X_resampled, y_resampled)\n",
        "clf5.score(X_test, y_test)"
      ],
      "execution_count": 105,
      "outputs": [
        {
          "output_type": "execute_result",
          "data": {
            "text/plain": [
              "0.14574252154527"
            ]
          },
          "metadata": {
            "tags": []
          },
          "execution_count": 105
        }
      ]
    },
    {
      "cell_type": "code",
      "metadata": {
        "id": "YcXvjgc2ldc_",
        "colab_type": "code",
        "colab": {}
      },
      "source": [
        "from imblearn.combine import SMOTETomek\n",
        "smote_tomek = SMOTETomek(random_state=0)\n",
        "X_resampled, y_resampled = smote_tomek.fit_resample(X_train, y_train)"
      ],
      "execution_count": 0,
      "outputs": []
    },
    {
      "cell_type": "code",
      "metadata": {
        "id": "_Rrqb61KlnhZ",
        "colab_type": "code",
        "colab": {
          "base_uri": "https://localhost:8080/",
          "height": 34
        },
        "outputId": "ec64fcb4-88d6-42ef-c488-fc70f11b0483"
      },
      "source": [
        "clf5 = lgb.LGBMClassifier()\n",
        "clf5.fit(X_resampled, y_resampled)\n",
        "clf5.score(X_test, y_test)"
      ],
      "execution_count": 107,
      "outputs": [
        {
          "output_type": "execute_result",
          "data": {
            "text/plain": [
              "0.24546634279439655"
            ]
          },
          "metadata": {
            "tags": []
          },
          "execution_count": 107
        }
      ]
    },
    {
      "cell_type": "code",
      "metadata": {
        "id": "2i69WW0_mEqp",
        "colab_type": "code",
        "colab": {
          "base_uri": "https://localhost:8080/",
          "height": 404
        },
        "outputId": "859d397d-a019-42f1-9b26-5d807ec3750a"
      },
      "source": [
        "y_pred = clf5.predict(X_test)\n",
        "confusion_matrix(y_test, y_pred)"
      ],
      "execution_count": 108,
      "outputs": [
        {
          "output_type": "execute_result",
          "data": {
            "text/plain": [
              "array([[   3,    2,   16,   41,    1,    2,    7,    1,   87,   30,    4,    3,    1,    5,    3,    0,    7,   36,   22,   27,   11,    2],\n",
              "       [   4,  100,   46,  163,   17,   12,   31,   34,  323,  109,   90,    5,   44,   70,    4,    3,   29,  217,   29,   68,   30,    8],\n",
              "       [  18,   23,  170,  167,   26,   22,   27,   32,  342,  126,   49,    5,    7,   35,    9,    4,   11,  185,   68,   97,   48,   10],\n",
              "       [   6,   17,   32,  913,   42,   36,   49,   12,  689,  148,  109,    4,   14,   51,   13,    7,   56,  313,   87,   70,   15,   12],\n",
              "       [   0,    1,    8,   28,   41,    3,    0,    1,   31,   21,    1,    1,    1,    2,    1,    2,    6,   25,    8,   18,    1,    1],\n",
              "       [   2,   11,   51,  205,   27,   33,   11,   11,  345,   86,   62,    7,    4,   50,    6,    4,   25,  148,   56,   57,   12,   12],\n",
              "       [   1,    2,    1,   53,    3,    3,   15,    0,   80,   11,   10,    1,    1,    7,    1,    0,    2,   25,    5,    6,    0,    3],\n",
              "       [   9,   20,   58,  137,   24,   13,   22,   93,  366,   56,   21,    7,    4,   24,    5,    2,   19,  156,   30,   65,   38,   11],\n",
              "       [  17,   28,   47,  411,   20,   28,   39,   45, 1304,  166,   92,   10,   18,   30,    9,    8,   22,  236,   61,   68,   28,   21],\n",
              "       [  10,   46,   43,  189,   59,   16,   11,   20,  330,  692,   77,    3,   24,   47,    8,    6,   19,  188,   92,  112,   29,   21],\n",
              "       [   0,   18,   11,   85,   14,    3,   18,    3,  178,   58,  303,    3,    9,   91,    0,    2,   49,  329,    6,   76,    3,    2],\n",
              "       [   5,   13,    6,   79,    2,    2,    6,    4,  124,   25,   33,    0,    2,   18,    0,    0,   12,   60,    9,   16,    4,    3],\n",
              "       [   8,   30,   40,  178,   40,   11,   14,   11,  300,  123,   42,    2,   64,   23,    5,    1,   12,  133,   56,   75,   33,   10],\n",
              "       [   4,   32,   55,  239,   28,   21,   27,   13,  287,   98,  133,    5,   52,  302,    6,    7,   40,  489,   28,  124,   12,   11],\n",
              "       [   0,    2,   11,   41,    3,    5,    2,    2,   47,   41,    5,    3,    2,    3,    2,    0,    5,   51,   12,   30,    3,    2],\n",
              "       [   4,   18,   20,  179,   13,   10,   17,   14,  242,   40,   58,    7,    8,   26,    3,    2,   22,  146,   28,   49,   11,    4],\n",
              "       [   3,   19,   39,  265,   36,   20,   25,    8,  308,  112,  152,    6,    7,   73,    5,    2,  132,  647,   51,  120,   10,   24],\n",
              "       [   6,   29,   64,  276,   68,   14,   39,   17,  482,  131,  199,    6,   12,  238,   17,    4,  101, 2259,   63,  379,   23,   11],\n",
              "       [   1,    6,   19,   94,   16,   11,    5,    3,  112,  100,   35,    0,    3,   16,    1,    0,    7,   69,  204,   60,    4,    3],\n",
              "       [   6,   19,   69,  164,   55,   10,    9,   13,  265,   94,   59,    1,    5,   29,    8,    3,   37,  426,   52,  599,   11,   11],\n",
              "       [   7,   12,   34,  129,   12,    8,    9,   22,  260,  116,   24,    1,   12,   13,    5,    2,    7,   92,   47,   51,  134,   13],\n",
              "       [   3,    1,    8,   26,    3,    2,    0,    7,   58,   34,    5,    1,    0,    8,    0,    0,    0,   23,   10,   11,    5,   12]])"
            ]
          },
          "metadata": {
            "tags": []
          },
          "execution_count": 108
        }
      ]
    }
  ]
}